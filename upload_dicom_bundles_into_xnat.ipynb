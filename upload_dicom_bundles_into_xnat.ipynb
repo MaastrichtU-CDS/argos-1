{
 "cells": [
  {
   "cell_type": "code",
   "execution_count": 23,
   "metadata": {},
   "outputs": [],
   "source": [
    "import xnat\n",
    "import zipfile\n",
    "#import mysql.connector\n",
    "#import json\n",
    "import os\n",
    "import pydicom as dicom"
   ]
  },
  {
   "cell_type": "code",
   "execution_count": 25,
   "metadata": {},
   "outputs": [],
   "source": [
    "# set up XNAT login credentials here\n",
    "# .......................\n",
    "xnatUrl = 'http://localhost:80'  #change me! e.g. 'http://localhost:8081/'\n",
    "xnatUser = 'admin'  #change me!\n",
    "xnatPass = 'admin'  #change me!\n",
    "xnatProject = 'ARGOSnode01'  #change me!"
   ]
  },
  {
   "cell_type": "code",
   "execution_count": 26,
   "metadata": {},
   "outputs": [],
   "source": [
    "# ----------------------------------------------------------------------------------- create a zip function\n",
    "#fileList : a python list containing the path to each file to put packed into the zip archive\n",
    "def createZip(fileList, fileName, omitPrefixFolder=None):\n",
    "    fileZip = zipfile.ZipFile(fileName, 'w', zipfile.ZIP_DEFLATED)\n",
    "\n",
    "    for myFile in fileList:\n",
    "        archFileName = myFile\n",
    "        if omitPrefixFolder is not None:\n",
    "            archFileName = myFile.replace(omitPrefixFolder, '')\n",
    "        try:\n",
    "            fileZip.write(myFile, archFileName)\n",
    "        except:\n",
    "            print(\"Could not find file: \" + myFile)\n",
    "\n",
    "    fileZip.close()\n",
    "\n",
    "    return fileName"
   ]
  },
  {
   "cell_type": "code",
   "execution_count": 27,
   "metadata": {},
   "outputs": [],
   "source": [
    "# ----------------------------------------------------------------------------------- create an xnat upload function\n",
    "#conn : is the connector handle to an XNAT service\n",
    "#zipFilePath : is the fullPath to the zipped dicom data object\n",
    "#project : is the unique identifier of the xnat project - see your setting for xnatProject above\n",
    "#subject : is the unique identifier of the patient\n",
    "#studyDescription : is the identifier of the study eg \"CT\"\n",
    "def uploadData(conn, zipFilePath, project, subject, studyDescription):\n",
    "    conn.services.import_(zipFilePath, content_type='application/zip',\n",
    "                          project=project,\n",
    "                          subject=subject,\n",
    "                          experiment=studyDescription, overwrite=\"delete\")"
   ]
  },
  {
   "cell_type": "code",
   "execution_count": 34,
   "metadata": {},
   "outputs": [
    {
     "name": "stderr",
     "output_type": "stream",
     "text": [
      "[WARNING] Found an unsupported version (1.8.2), trying 1.7 compatible model builder\n"
     ]
    }
   ],
   "source": [
    "# Connecting to XNAT service\n",
    "connection = xnat.connect(xnatUrl, user=xnatUser, password=xnatPass)"
   ]
  },
  {
   "cell_type": "code",
   "execution_count": 35,
   "metadata": {},
   "outputs": [
    {
     "data": {
      "text/plain": [
       "'C:\\\\LUNG1-SEG\\\\set3\\\\LUNG1-201'"
      ]
     },
     "execution_count": 35,
     "metadata": {},
     "output_type": "execute_result"
    }
   ],
   "source": [
    "#script starts here\n",
    "dataLocation = 'C:\\\\LUNG1-SEG\\\\set3' #change me!\n",
    "\n",
    "patientList = [ f.path for f in os.scandir(dataLocation) if f.is_dir() ]\n",
    "\n",
    "patientList[0]"
   ]
  },
  {
   "cell_type": "code",
   "execution_count": 36,
   "metadata": {
    "scrolled": true
   },
   "outputs": [
    {
     "name": "stderr",
     "output_type": "stream",
     "text": [
      "[WARNING] Found unexpect content type, but assuming zip based on the extension\n"
     ]
    },
    {
     "name": "stdout",
     "output_type": "stream",
     "text": [
      "C:\\LUNG1-SEG\\set3\\LUNG1-201.zip\n"
     ]
    },
    {
     "name": "stderr",
     "output_type": "stream",
     "text": [
      "[WARNING] Found unexpect content type, but assuming zip based on the extension\n"
     ]
    },
    {
     "name": "stdout",
     "output_type": "stream",
     "text": [
      "C:\\LUNG1-SEG\\set3\\LUNG1-202.zip\n"
     ]
    },
    {
     "name": "stderr",
     "output_type": "stream",
     "text": [
      "[WARNING] Found unexpect content type, but assuming zip based on the extension\n"
     ]
    },
    {
     "name": "stdout",
     "output_type": "stream",
     "text": [
      "C:\\LUNG1-SEG\\set3\\LUNG1-203.zip\n"
     ]
    },
    {
     "name": "stderr",
     "output_type": "stream",
     "text": [
      "[WARNING] Found unexpect content type, but assuming zip based on the extension\n"
     ]
    },
    {
     "name": "stdout",
     "output_type": "stream",
     "text": [
      "C:\\LUNG1-SEG\\set3\\LUNG1-204.zip\n"
     ]
    },
    {
     "name": "stderr",
     "output_type": "stream",
     "text": [
      "[WARNING] Found unexpect content type, but assuming zip based on the extension\n"
     ]
    },
    {
     "name": "stdout",
     "output_type": "stream",
     "text": [
      "C:\\LUNG1-SEG\\set3\\LUNG1-205.zip\n"
     ]
    },
    {
     "name": "stderr",
     "output_type": "stream",
     "text": [
      "[WARNING] Found unexpect content type, but assuming zip based on the extension\n"
     ]
    },
    {
     "name": "stdout",
     "output_type": "stream",
     "text": [
      "C:\\LUNG1-SEG\\set3\\LUNG1-206.zip\n"
     ]
    },
    {
     "name": "stderr",
     "output_type": "stream",
     "text": [
      "[WARNING] Found unexpect content type, but assuming zip based on the extension\n"
     ]
    },
    {
     "name": "stdout",
     "output_type": "stream",
     "text": [
      "C:\\LUNG1-SEG\\set3\\LUNG1-207.zip\n"
     ]
    },
    {
     "name": "stderr",
     "output_type": "stream",
     "text": [
      "[WARNING] Found unexpect content type, but assuming zip based on the extension\n"
     ]
    },
    {
     "name": "stdout",
     "output_type": "stream",
     "text": [
      "C:\\LUNG1-SEG\\set3\\LUNG1-208.zip\n"
     ]
    },
    {
     "name": "stderr",
     "output_type": "stream",
     "text": [
      "[WARNING] Found unexpect content type, but assuming zip based on the extension\n"
     ]
    },
    {
     "name": "stdout",
     "output_type": "stream",
     "text": [
      "C:\\LUNG1-SEG\\set3\\LUNG1-209.zip\n"
     ]
    },
    {
     "name": "stderr",
     "output_type": "stream",
     "text": [
      "[WARNING] Found unexpect content type, but assuming zip based on the extension\n"
     ]
    },
    {
     "name": "stdout",
     "output_type": "stream",
     "text": [
      "C:\\LUNG1-SEG\\set3\\LUNG1-210.zip\n"
     ]
    },
    {
     "name": "stderr",
     "output_type": "stream",
     "text": [
      "[WARNING] Found unexpect content type, but assuming zip based on the extension\n"
     ]
    },
    {
     "name": "stdout",
     "output_type": "stream",
     "text": [
      "C:\\LUNG1-SEG\\set3\\LUNG1-211.zip\n"
     ]
    },
    {
     "name": "stderr",
     "output_type": "stream",
     "text": [
      "[WARNING] Found unexpect content type, but assuming zip based on the extension\n"
     ]
    },
    {
     "name": "stdout",
     "output_type": "stream",
     "text": [
      "C:\\LUNG1-SEG\\set3\\LUNG1-212.zip\n"
     ]
    },
    {
     "name": "stderr",
     "output_type": "stream",
     "text": [
      "[WARNING] Found unexpect content type, but assuming zip based on the extension\n"
     ]
    },
    {
     "name": "stdout",
     "output_type": "stream",
     "text": [
      "C:\\LUNG1-SEG\\set3\\LUNG1-213.zip\n"
     ]
    },
    {
     "name": "stderr",
     "output_type": "stream",
     "text": [
      "[WARNING] Found unexpect content type, but assuming zip based on the extension\n"
     ]
    },
    {
     "name": "stdout",
     "output_type": "stream",
     "text": [
      "C:\\LUNG1-SEG\\set3\\LUNG1-214.zip\n"
     ]
    },
    {
     "name": "stderr",
     "output_type": "stream",
     "text": [
      "[WARNING] Found unexpect content type, but assuming zip based on the extension\n"
     ]
    },
    {
     "name": "stdout",
     "output_type": "stream",
     "text": [
      "C:\\LUNG1-SEG\\set3\\LUNG1-215.zip\n"
     ]
    },
    {
     "name": "stderr",
     "output_type": "stream",
     "text": [
      "[WARNING] Found unexpect content type, but assuming zip based on the extension\n"
     ]
    },
    {
     "name": "stdout",
     "output_type": "stream",
     "text": [
      "C:\\LUNG1-SEG\\set3\\LUNG1-216.zip\n"
     ]
    },
    {
     "name": "stderr",
     "output_type": "stream",
     "text": [
      "[WARNING] Found unexpect content type, but assuming zip based on the extension\n"
     ]
    },
    {
     "name": "stdout",
     "output_type": "stream",
     "text": [
      "C:\\LUNG1-SEG\\set3\\LUNG1-217.zip\n"
     ]
    },
    {
     "name": "stderr",
     "output_type": "stream",
     "text": [
      "[WARNING] Found unexpect content type, but assuming zip based on the extension\n"
     ]
    },
    {
     "name": "stdout",
     "output_type": "stream",
     "text": [
      "C:\\LUNG1-SEG\\set3\\LUNG1-218.zip\n"
     ]
    },
    {
     "name": "stderr",
     "output_type": "stream",
     "text": [
      "[WARNING] Found unexpect content type, but assuming zip based on the extension\n"
     ]
    },
    {
     "name": "stdout",
     "output_type": "stream",
     "text": [
      "C:\\LUNG1-SEG\\set3\\LUNG1-219.zip\n"
     ]
    },
    {
     "name": "stderr",
     "output_type": "stream",
     "text": [
      "[WARNING] Found unexpect content type, but assuming zip based on the extension\n"
     ]
    },
    {
     "name": "stdout",
     "output_type": "stream",
     "text": [
      "C:\\LUNG1-SEG\\set3\\LUNG1-220.zip\n"
     ]
    },
    {
     "name": "stderr",
     "output_type": "stream",
     "text": [
      "[WARNING] Found unexpect content type, but assuming zip based on the extension\n"
     ]
    },
    {
     "name": "stdout",
     "output_type": "stream",
     "text": [
      "C:\\LUNG1-SEG\\set3\\LUNG1-221.zip\n"
     ]
    },
    {
     "name": "stderr",
     "output_type": "stream",
     "text": [
      "[WARNING] Found unexpect content type, but assuming zip based on the extension\n"
     ]
    },
    {
     "name": "stdout",
     "output_type": "stream",
     "text": [
      "C:\\LUNG1-SEG\\set3\\LUNG1-222.zip\n"
     ]
    },
    {
     "name": "stderr",
     "output_type": "stream",
     "text": [
      "[WARNING] Found unexpect content type, but assuming zip based on the extension\n"
     ]
    },
    {
     "name": "stdout",
     "output_type": "stream",
     "text": [
      "C:\\LUNG1-SEG\\set3\\LUNG1-223.zip\n"
     ]
    },
    {
     "name": "stderr",
     "output_type": "stream",
     "text": [
      "[WARNING] Found unexpect content type, but assuming zip based on the extension\n"
     ]
    },
    {
     "name": "stdout",
     "output_type": "stream",
     "text": [
      "C:\\LUNG1-SEG\\set3\\LUNG1-224.zip\n"
     ]
    },
    {
     "name": "stderr",
     "output_type": "stream",
     "text": [
      "[WARNING] Found unexpect content type, but assuming zip based on the extension\n"
     ]
    },
    {
     "name": "stdout",
     "output_type": "stream",
     "text": [
      "C:\\LUNG1-SEG\\set3\\LUNG1-225.zip\n"
     ]
    },
    {
     "name": "stderr",
     "output_type": "stream",
     "text": [
      "[WARNING] Found unexpect content type, but assuming zip based on the extension\n"
     ]
    },
    {
     "name": "stdout",
     "output_type": "stream",
     "text": [
      "C:\\LUNG1-SEG\\set3\\LUNG1-226.zip\n"
     ]
    },
    {
     "name": "stderr",
     "output_type": "stream",
     "text": [
      "[WARNING] Found unexpect content type, but assuming zip based on the extension\n"
     ]
    },
    {
     "name": "stdout",
     "output_type": "stream",
     "text": [
      "C:\\LUNG1-SEG\\set3\\LUNG1-227.zip\n"
     ]
    },
    {
     "name": "stderr",
     "output_type": "stream",
     "text": [
      "[WARNING] Found unexpect content type, but assuming zip based on the extension\n"
     ]
    },
    {
     "name": "stdout",
     "output_type": "stream",
     "text": [
      "C:\\LUNG1-SEG\\set3\\LUNG1-228.zip\n"
     ]
    },
    {
     "name": "stderr",
     "output_type": "stream",
     "text": [
      "[WARNING] Found unexpect content type, but assuming zip based on the extension\n"
     ]
    },
    {
     "name": "stdout",
     "output_type": "stream",
     "text": [
      "C:\\LUNG1-SEG\\set3\\LUNG1-229.zip\n"
     ]
    },
    {
     "name": "stderr",
     "output_type": "stream",
     "text": [
      "[WARNING] Found unexpect content type, but assuming zip based on the extension\n"
     ]
    },
    {
     "name": "stdout",
     "output_type": "stream",
     "text": [
      "C:\\LUNG1-SEG\\set3\\LUNG1-230.zip\n"
     ]
    },
    {
     "name": "stderr",
     "output_type": "stream",
     "text": [
      "[WARNING] Found unexpect content type, but assuming zip based on the extension\n"
     ]
    },
    {
     "name": "stdout",
     "output_type": "stream",
     "text": [
      "C:\\LUNG1-SEG\\set3\\LUNG1-231.zip\n"
     ]
    },
    {
     "name": "stderr",
     "output_type": "stream",
     "text": [
      "[WARNING] Found unexpect content type, but assuming zip based on the extension\n"
     ]
    },
    {
     "name": "stdout",
     "output_type": "stream",
     "text": [
      "C:\\LUNG1-SEG\\set3\\LUNG1-232.zip\n"
     ]
    },
    {
     "name": "stderr",
     "output_type": "stream",
     "text": [
      "[WARNING] Found unexpect content type, but assuming zip based on the extension\n"
     ]
    },
    {
     "name": "stdout",
     "output_type": "stream",
     "text": [
      "C:\\LUNG1-SEG\\set3\\LUNG1-233.zip\n"
     ]
    },
    {
     "name": "stderr",
     "output_type": "stream",
     "text": [
      "[WARNING] Found unexpect content type, but assuming zip based on the extension\n"
     ]
    },
    {
     "name": "stdout",
     "output_type": "stream",
     "text": [
      "C:\\LUNG1-SEG\\set3\\LUNG1-234.zip\n"
     ]
    },
    {
     "name": "stderr",
     "output_type": "stream",
     "text": [
      "[WARNING] Found unexpect content type, but assuming zip based on the extension\n"
     ]
    },
    {
     "name": "stdout",
     "output_type": "stream",
     "text": [
      "C:\\LUNG1-SEG\\set3\\LUNG1-235.zip\n"
     ]
    },
    {
     "name": "stderr",
     "output_type": "stream",
     "text": [
      "[WARNING] Found unexpect content type, but assuming zip based on the extension\n"
     ]
    },
    {
     "name": "stdout",
     "output_type": "stream",
     "text": [
      "C:\\LUNG1-SEG\\set3\\LUNG1-236.zip\n"
     ]
    },
    {
     "name": "stderr",
     "output_type": "stream",
     "text": [
      "[WARNING] Found unexpect content type, but assuming zip based on the extension\n"
     ]
    },
    {
     "name": "stdout",
     "output_type": "stream",
     "text": [
      "C:\\LUNG1-SEG\\set3\\LUNG1-237.zip\n"
     ]
    },
    {
     "name": "stderr",
     "output_type": "stream",
     "text": [
      "[WARNING] Found unexpect content type, but assuming zip based on the extension\n"
     ]
    },
    {
     "name": "stdout",
     "output_type": "stream",
     "text": [
      "C:\\LUNG1-SEG\\set3\\LUNG1-238.zip\n"
     ]
    },
    {
     "name": "stderr",
     "output_type": "stream",
     "text": [
      "[WARNING] Found unexpect content type, but assuming zip based on the extension\n"
     ]
    },
    {
     "name": "stdout",
     "output_type": "stream",
     "text": [
      "C:\\LUNG1-SEG\\set3\\LUNG1-239.zip\n"
     ]
    },
    {
     "name": "stderr",
     "output_type": "stream",
     "text": [
      "[WARNING] Found unexpect content type, but assuming zip based on the extension\n"
     ]
    },
    {
     "name": "stdout",
     "output_type": "stream",
     "text": [
      "C:\\LUNG1-SEG\\set3\\LUNG1-240.zip\n"
     ]
    },
    {
     "name": "stderr",
     "output_type": "stream",
     "text": [
      "[WARNING] Found unexpect content type, but assuming zip based on the extension\n"
     ]
    },
    {
     "name": "stdout",
     "output_type": "stream",
     "text": [
      "C:\\LUNG1-SEG\\set3\\LUNG1-241.zip\n"
     ]
    },
    {
     "name": "stderr",
     "output_type": "stream",
     "text": [
      "[WARNING] Found unexpect content type, but assuming zip based on the extension\n"
     ]
    },
    {
     "name": "stdout",
     "output_type": "stream",
     "text": [
      "C:\\LUNG1-SEG\\set3\\LUNG1-242.zip\n"
     ]
    },
    {
     "name": "stderr",
     "output_type": "stream",
     "text": [
      "[WARNING] Found unexpect content type, but assuming zip based on the extension\n"
     ]
    },
    {
     "name": "stdout",
     "output_type": "stream",
     "text": [
      "C:\\LUNG1-SEG\\set3\\LUNG1-243.zip\n"
     ]
    },
    {
     "name": "stderr",
     "output_type": "stream",
     "text": [
      "[WARNING] Found unexpect content type, but assuming zip based on the extension\n"
     ]
    },
    {
     "name": "stdout",
     "output_type": "stream",
     "text": [
      "C:\\LUNG1-SEG\\set3\\LUNG1-244.zip\n"
     ]
    },
    {
     "name": "stderr",
     "output_type": "stream",
     "text": [
      "[WARNING] Found unexpect content type, but assuming zip based on the extension\n"
     ]
    },
    {
     "name": "stdout",
     "output_type": "stream",
     "text": [
      "C:\\LUNG1-SEG\\set3\\LUNG1-245.zip\n"
     ]
    },
    {
     "name": "stderr",
     "output_type": "stream",
     "text": [
      "[WARNING] Found unexpect content type, but assuming zip based on the extension\n"
     ]
    },
    {
     "name": "stdout",
     "output_type": "stream",
     "text": [
      "C:\\LUNG1-SEG\\set3\\LUNG1-246.zip\n"
     ]
    },
    {
     "name": "stderr",
     "output_type": "stream",
     "text": [
      "[WARNING] Found unexpect content type, but assuming zip based on the extension\n"
     ]
    },
    {
     "name": "stdout",
     "output_type": "stream",
     "text": [
      "C:\\LUNG1-SEG\\set3\\LUNG1-247.zip\n"
     ]
    },
    {
     "name": "stderr",
     "output_type": "stream",
     "text": [
      "[WARNING] Found unexpect content type, but assuming zip based on the extension\n"
     ]
    },
    {
     "name": "stdout",
     "output_type": "stream",
     "text": [
      "C:\\LUNG1-SEG\\set3\\LUNG1-248.zip\n"
     ]
    },
    {
     "name": "stderr",
     "output_type": "stream",
     "text": [
      "[WARNING] Found unexpect content type, but assuming zip based on the extension\n"
     ]
    },
    {
     "name": "stdout",
     "output_type": "stream",
     "text": [
      "C:\\LUNG1-SEG\\set3\\LUNG1-249.zip\n"
     ]
    },
    {
     "name": "stderr",
     "output_type": "stream",
     "text": [
      "[WARNING] Found unexpect content type, but assuming zip based on the extension\n"
     ]
    },
    {
     "name": "stdout",
     "output_type": "stream",
     "text": [
      "C:\\LUNG1-SEG\\set3\\LUNG1-250.zip\n"
     ]
    },
    {
     "name": "stderr",
     "output_type": "stream",
     "text": [
      "[WARNING] Found unexpect content type, but assuming zip based on the extension\n"
     ]
    },
    {
     "name": "stdout",
     "output_type": "stream",
     "text": [
      "C:\\LUNG1-SEG\\set3\\LUNG1-251.zip\n"
     ]
    },
    {
     "name": "stderr",
     "output_type": "stream",
     "text": [
      "[WARNING] Found unexpect content type, but assuming zip based on the extension\n"
     ]
    },
    {
     "name": "stdout",
     "output_type": "stream",
     "text": [
      "C:\\LUNG1-SEG\\set3\\LUNG1-252.zip\n"
     ]
    },
    {
     "name": "stderr",
     "output_type": "stream",
     "text": [
      "[WARNING] Found unexpect content type, but assuming zip based on the extension\n"
     ]
    },
    {
     "name": "stdout",
     "output_type": "stream",
     "text": [
      "C:\\LUNG1-SEG\\set3\\LUNG1-253.zip\n"
     ]
    },
    {
     "name": "stderr",
     "output_type": "stream",
     "text": [
      "[WARNING] Found unexpect content type, but assuming zip based on the extension\n"
     ]
    },
    {
     "name": "stdout",
     "output_type": "stream",
     "text": [
      "C:\\LUNG1-SEG\\set3\\LUNG1-254.zip\n"
     ]
    },
    {
     "name": "stderr",
     "output_type": "stream",
     "text": [
      "[WARNING] Found unexpect content type, but assuming zip based on the extension\n"
     ]
    },
    {
     "name": "stdout",
     "output_type": "stream",
     "text": [
      "C:\\LUNG1-SEG\\set3\\LUNG1-255.zip\n"
     ]
    },
    {
     "name": "stderr",
     "output_type": "stream",
     "text": [
      "[WARNING] Found unexpect content type, but assuming zip based on the extension\n"
     ]
    },
    {
     "name": "stdout",
     "output_type": "stream",
     "text": [
      "C:\\LUNG1-SEG\\set3\\LUNG1-256.zip\n"
     ]
    },
    {
     "name": "stderr",
     "output_type": "stream",
     "text": [
      "[WARNING] Found unexpect content type, but assuming zip based on the extension\n"
     ]
    },
    {
     "name": "stdout",
     "output_type": "stream",
     "text": [
      "C:\\LUNG1-SEG\\set3\\LUNG1-257.zip\n"
     ]
    },
    {
     "name": "stderr",
     "output_type": "stream",
     "text": [
      "[WARNING] Found unexpect content type, but assuming zip based on the extension\n"
     ]
    },
    {
     "name": "stdout",
     "output_type": "stream",
     "text": [
      "C:\\LUNG1-SEG\\set3\\LUNG1-258.zip\n"
     ]
    },
    {
     "name": "stderr",
     "output_type": "stream",
     "text": [
      "[WARNING] Found unexpect content type, but assuming zip based on the extension\n"
     ]
    },
    {
     "name": "stdout",
     "output_type": "stream",
     "text": [
      "C:\\LUNG1-SEG\\set3\\LUNG1-259.zip\n"
     ]
    },
    {
     "name": "stderr",
     "output_type": "stream",
     "text": [
      "[WARNING] Found unexpect content type, but assuming zip based on the extension\n"
     ]
    },
    {
     "name": "stdout",
     "output_type": "stream",
     "text": [
      "C:\\LUNG1-SEG\\set3\\LUNG1-260.zip\n"
     ]
    },
    {
     "name": "stderr",
     "output_type": "stream",
     "text": [
      "[WARNING] Found unexpect content type, but assuming zip based on the extension\n"
     ]
    },
    {
     "name": "stdout",
     "output_type": "stream",
     "text": [
      "C:\\LUNG1-SEG\\set3\\LUNG1-261.zip\n"
     ]
    },
    {
     "name": "stderr",
     "output_type": "stream",
     "text": [
      "[WARNING] Found unexpect content type, but assuming zip based on the extension\n"
     ]
    },
    {
     "name": "stdout",
     "output_type": "stream",
     "text": [
      "C:\\LUNG1-SEG\\set3\\LUNG1-262.zip\n"
     ]
    },
    {
     "name": "stderr",
     "output_type": "stream",
     "text": [
      "[WARNING] Found unexpect content type, but assuming zip based on the extension\n"
     ]
    },
    {
     "name": "stdout",
     "output_type": "stream",
     "text": [
      "C:\\LUNG1-SEG\\set3\\LUNG1-263.zip\n"
     ]
    },
    {
     "name": "stderr",
     "output_type": "stream",
     "text": [
      "[WARNING] Found unexpect content type, but assuming zip based on the extension\n"
     ]
    },
    {
     "name": "stdout",
     "output_type": "stream",
     "text": [
      "C:\\LUNG1-SEG\\set3\\LUNG1-264.zip\n"
     ]
    },
    {
     "name": "stderr",
     "output_type": "stream",
     "text": [
      "[WARNING] Found unexpect content type, but assuming zip based on the extension\n"
     ]
    },
    {
     "name": "stdout",
     "output_type": "stream",
     "text": [
      "C:\\LUNG1-SEG\\set3\\LUNG1-265.zip\n"
     ]
    },
    {
     "name": "stderr",
     "output_type": "stream",
     "text": [
      "[WARNING] Found unexpect content type, but assuming zip based on the extension\n"
     ]
    },
    {
     "name": "stdout",
     "output_type": "stream",
     "text": [
      "C:\\LUNG1-SEG\\set3\\LUNG1-266.zip\n"
     ]
    },
    {
     "name": "stderr",
     "output_type": "stream",
     "text": [
      "[WARNING] Found unexpect content type, but assuming zip based on the extension\n"
     ]
    },
    {
     "name": "stdout",
     "output_type": "stream",
     "text": [
      "C:\\LUNG1-SEG\\set3\\LUNG1-267.zip\n"
     ]
    },
    {
     "name": "stderr",
     "output_type": "stream",
     "text": [
      "[WARNING] Found unexpect content type, but assuming zip based on the extension\n"
     ]
    },
    {
     "name": "stdout",
     "output_type": "stream",
     "text": [
      "C:\\LUNG1-SEG\\set3\\LUNG1-268.zip\n"
     ]
    },
    {
     "name": "stderr",
     "output_type": "stream",
     "text": [
      "[WARNING] Found unexpect content type, but assuming zip based on the extension\n"
     ]
    },
    {
     "name": "stdout",
     "output_type": "stream",
     "text": [
      "C:\\LUNG1-SEG\\set3\\LUNG1-269.zip\n"
     ]
    },
    {
     "name": "stderr",
     "output_type": "stream",
     "text": [
      "[WARNING] Found unexpect content type, but assuming zip based on the extension\n"
     ]
    },
    {
     "name": "stdout",
     "output_type": "stream",
     "text": [
      "C:\\LUNG1-SEG\\set3\\LUNG1-270.zip\n"
     ]
    },
    {
     "name": "stderr",
     "output_type": "stream",
     "text": [
      "[WARNING] Found unexpect content type, but assuming zip based on the extension\n"
     ]
    },
    {
     "name": "stdout",
     "output_type": "stream",
     "text": [
      "C:\\LUNG1-SEG\\set3\\LUNG1-271.zip\n"
     ]
    },
    {
     "name": "stderr",
     "output_type": "stream",
     "text": [
      "[WARNING] Found unexpect content type, but assuming zip based on the extension\n"
     ]
    },
    {
     "name": "stdout",
     "output_type": "stream",
     "text": [
      "C:\\LUNG1-SEG\\set3\\LUNG1-272.zip\n"
     ]
    },
    {
     "name": "stderr",
     "output_type": "stream",
     "text": [
      "[WARNING] Found unexpect content type, but assuming zip based on the extension\n"
     ]
    },
    {
     "name": "stdout",
     "output_type": "stream",
     "text": [
      "C:\\LUNG1-SEG\\set3\\LUNG1-273.zip\n"
     ]
    },
    {
     "name": "stderr",
     "output_type": "stream",
     "text": [
      "[WARNING] Found unexpect content type, but assuming zip based on the extension\n"
     ]
    },
    {
     "name": "stdout",
     "output_type": "stream",
     "text": [
      "C:\\LUNG1-SEG\\set3\\LUNG1-274.zip\n"
     ]
    },
    {
     "name": "stderr",
     "output_type": "stream",
     "text": [
      "[WARNING] Found unexpect content type, but assuming zip based on the extension\n"
     ]
    },
    {
     "name": "stdout",
     "output_type": "stream",
     "text": [
      "C:\\LUNG1-SEG\\set3\\LUNG1-275.zip\n"
     ]
    },
    {
     "name": "stderr",
     "output_type": "stream",
     "text": [
      "[WARNING] Found unexpect content type, but assuming zip based on the extension\n"
     ]
    },
    {
     "name": "stdout",
     "output_type": "stream",
     "text": [
      "C:\\LUNG1-SEG\\set3\\LUNG1-276.zip\n"
     ]
    },
    {
     "name": "stderr",
     "output_type": "stream",
     "text": [
      "[WARNING] Found unexpect content type, but assuming zip based on the extension\n"
     ]
    },
    {
     "name": "stdout",
     "output_type": "stream",
     "text": [
      "C:\\LUNG1-SEG\\set3\\LUNG1-277.zip\n"
     ]
    },
    {
     "name": "stderr",
     "output_type": "stream",
     "text": [
      "[WARNING] Found unexpect content type, but assuming zip based on the extension\n"
     ]
    },
    {
     "name": "stdout",
     "output_type": "stream",
     "text": [
      "C:\\LUNG1-SEG\\set3\\LUNG1-278.zip\n"
     ]
    },
    {
     "name": "stderr",
     "output_type": "stream",
     "text": [
      "[WARNING] Found unexpect content type, but assuming zip based on the extension\n"
     ]
    },
    {
     "name": "stdout",
     "output_type": "stream",
     "text": [
      "C:\\LUNG1-SEG\\set3\\LUNG1-279.zip\n"
     ]
    },
    {
     "name": "stderr",
     "output_type": "stream",
     "text": [
      "[WARNING] Found unexpect content type, but assuming zip based on the extension\n"
     ]
    },
    {
     "name": "stdout",
     "output_type": "stream",
     "text": [
      "C:\\LUNG1-SEG\\set3\\LUNG1-280.zip\n"
     ]
    },
    {
     "name": "stderr",
     "output_type": "stream",
     "text": [
      "[WARNING] Found unexpect content type, but assuming zip based on the extension\n"
     ]
    },
    {
     "name": "stdout",
     "output_type": "stream",
     "text": [
      "C:\\LUNG1-SEG\\set3\\LUNG1-281.zip\n"
     ]
    },
    {
     "name": "stderr",
     "output_type": "stream",
     "text": [
      "[WARNING] Found unexpect content type, but assuming zip based on the extension\n"
     ]
    },
    {
     "name": "stdout",
     "output_type": "stream",
     "text": [
      "C:\\LUNG1-SEG\\set3\\LUNG1-282.zip\n"
     ]
    },
    {
     "name": "stderr",
     "output_type": "stream",
     "text": [
      "[WARNING] Found unexpect content type, but assuming zip based on the extension\n"
     ]
    },
    {
     "name": "stdout",
     "output_type": "stream",
     "text": [
      "C:\\LUNG1-SEG\\set3\\LUNG1-283.zip\n"
     ]
    },
    {
     "name": "stderr",
     "output_type": "stream",
     "text": [
      "[WARNING] Found unexpect content type, but assuming zip based on the extension\n"
     ]
    },
    {
     "name": "stdout",
     "output_type": "stream",
     "text": [
      "C:\\LUNG1-SEG\\set3\\LUNG1-284.zip\n"
     ]
    },
    {
     "name": "stderr",
     "output_type": "stream",
     "text": [
      "[WARNING] Found unexpect content type, but assuming zip based on the extension\n"
     ]
    },
    {
     "name": "stdout",
     "output_type": "stream",
     "text": [
      "C:\\LUNG1-SEG\\set3\\LUNG1-285.zip\n"
     ]
    },
    {
     "name": "stderr",
     "output_type": "stream",
     "text": [
      "[WARNING] Found unexpect content type, but assuming zip based on the extension\n"
     ]
    },
    {
     "name": "stdout",
     "output_type": "stream",
     "text": [
      "C:\\LUNG1-SEG\\set3\\LUNG1-286.zip\n"
     ]
    },
    {
     "name": "stderr",
     "output_type": "stream",
     "text": [
      "[WARNING] Found unexpect content type, but assuming zip based on the extension\n"
     ]
    },
    {
     "name": "stdout",
     "output_type": "stream",
     "text": [
      "C:\\LUNG1-SEG\\set3\\LUNG1-287.zip\n"
     ]
    },
    {
     "name": "stderr",
     "output_type": "stream",
     "text": [
      "[WARNING] Found unexpect content type, but assuming zip based on the extension\n"
     ]
    },
    {
     "name": "stdout",
     "output_type": "stream",
     "text": [
      "C:\\LUNG1-SEG\\set3\\LUNG1-288.zip\n"
     ]
    },
    {
     "name": "stderr",
     "output_type": "stream",
     "text": [
      "[WARNING] Found unexpect content type, but assuming zip based on the extension\n"
     ]
    },
    {
     "name": "stdout",
     "output_type": "stream",
     "text": [
      "C:\\LUNG1-SEG\\set3\\LUNG1-289.zip\n"
     ]
    },
    {
     "name": "stderr",
     "output_type": "stream",
     "text": [
      "[WARNING] Found unexpect content type, but assuming zip based on the extension\n"
     ]
    },
    {
     "name": "stdout",
     "output_type": "stream",
     "text": [
      "C:\\LUNG1-SEG\\set3\\LUNG1-290.zip\n"
     ]
    },
    {
     "name": "stderr",
     "output_type": "stream",
     "text": [
      "[WARNING] Found unexpect content type, but assuming zip based on the extension\n"
     ]
    },
    {
     "name": "stdout",
     "output_type": "stream",
     "text": [
      "C:\\LUNG1-SEG\\set3\\LUNG1-291.zip\n"
     ]
    },
    {
     "name": "stderr",
     "output_type": "stream",
     "text": [
      "[WARNING] Found unexpect content type, but assuming zip based on the extension\n"
     ]
    },
    {
     "name": "stdout",
     "output_type": "stream",
     "text": [
      "C:\\LUNG1-SEG\\set3\\LUNG1-292.zip\n"
     ]
    },
    {
     "name": "stderr",
     "output_type": "stream",
     "text": [
      "[WARNING] Found unexpect content type, but assuming zip based on the extension\n"
     ]
    },
    {
     "name": "stdout",
     "output_type": "stream",
     "text": [
      "C:\\LUNG1-SEG\\set3\\LUNG1-293.zip\n"
     ]
    },
    {
     "name": "stderr",
     "output_type": "stream",
     "text": [
      "[WARNING] Found unexpect content type, but assuming zip based on the extension\n"
     ]
    },
    {
     "name": "stdout",
     "output_type": "stream",
     "text": [
      "C:\\LUNG1-SEG\\set3\\LUNG1-294.zip\n"
     ]
    },
    {
     "name": "stderr",
     "output_type": "stream",
     "text": [
      "[WARNING] Found unexpect content type, but assuming zip based on the extension\n"
     ]
    },
    {
     "name": "stdout",
     "output_type": "stream",
     "text": [
      "C:\\LUNG1-SEG\\set3\\LUNG1-295.zip\n"
     ]
    },
    {
     "name": "stderr",
     "output_type": "stream",
     "text": [
      "[WARNING] Found unexpect content type, but assuming zip based on the extension\n"
     ]
    },
    {
     "name": "stdout",
     "output_type": "stream",
     "text": [
      "C:\\LUNG1-SEG\\set3\\LUNG1-296.zip\n"
     ]
    },
    {
     "name": "stderr",
     "output_type": "stream",
     "text": [
      "[WARNING] Found unexpect content type, but assuming zip based on the extension\n"
     ]
    },
    {
     "name": "stdout",
     "output_type": "stream",
     "text": [
      "C:\\LUNG1-SEG\\set3\\LUNG1-297.zip\n"
     ]
    },
    {
     "name": "stderr",
     "output_type": "stream",
     "text": [
      "[WARNING] Found unexpect content type, but assuming zip based on the extension\n"
     ]
    },
    {
     "name": "stdout",
     "output_type": "stream",
     "text": [
      "C:\\LUNG1-SEG\\set3\\LUNG1-298.zip\n"
     ]
    },
    {
     "name": "stderr",
     "output_type": "stream",
     "text": [
      "[WARNING] Found unexpect content type, but assuming zip based on the extension\n"
     ]
    },
    {
     "name": "stdout",
     "output_type": "stream",
     "text": [
      "C:\\LUNG1-SEG\\set3\\LUNG1-299.zip\n"
     ]
    },
    {
     "name": "stderr",
     "output_type": "stream",
     "text": [
      "[WARNING] Found unexpect content type, but assuming zip based on the extension\n"
     ]
    },
    {
     "name": "stdout",
     "output_type": "stream",
     "text": [
      "C:\\LUNG1-SEG\\set3\\LUNG1-300.zip\n",
      "FINISHED!\n"
     ]
    }
   ],
   "source": [
    "for ff in patientList:\n",
    "    patid = ff.split('\\\\')[-1]\n",
    "    targetFile = dataLocation+'\\\\'+patid+'.zip' ##change me!\n",
    "    listOfFiles = [os.path.join(dp, f) for dp, dn, filenames in os.walk(ff) for f in filenames]\n",
    "    #this = dicom.read_file(listOfFiles[0], force=True)\n",
    "    xnatSubject = patid\n",
    "    xnatStudyDescription = 'CT' #or change to this.StudyDescription\n",
    "    zipFileName = createZip(listOfFiles,targetFile)\n",
    "    print(zipFileName)\n",
    "    try:\n",
    "        #uploadData(connection, zipFileName,xnatProject,xnatSubject,xnatStudyDescription)\n",
    "        prearchive_session = connection.services.import_(zipFileName, project=xnatProject, destination='/prearchive')\n",
    "        os.remove(zipFileName)\n",
    "    except:\n",
    "        print(\"Could not upload study : \"+xnatSubject)\n",
    "\n",
    "# Close XNAT connection\n",
    "connection.disconnect()\n",
    "\n",
    "print('FINISHED!')"
   ]
  },
  {
   "cell_type": "code",
   "execution_count": 22,
   "metadata": {},
   "outputs": [],
   "source": [
    "# Close XNAT connection\n",
    "connection.disconnect()"
   ]
  },
  {
   "cell_type": "code",
   "execution_count": null,
   "metadata": {},
   "outputs": [],
   "source": []
  }
 ],
 "metadata": {
  "kernelspec": {
   "display_name": "Python 3",
   "language": "python",
   "name": "python3"
  },
  "language_info": {
   "codemirror_mode": {
    "name": "ipython",
    "version": 3
   },
   "file_extension": ".py",
   "mimetype": "text/x-python",
   "name": "python",
   "nbconvert_exporter": "python",
   "pygments_lexer": "ipython3",
   "version": "3.8.8"
  }
 },
 "nbformat": 4,
 "nbformat_minor": 4
}
