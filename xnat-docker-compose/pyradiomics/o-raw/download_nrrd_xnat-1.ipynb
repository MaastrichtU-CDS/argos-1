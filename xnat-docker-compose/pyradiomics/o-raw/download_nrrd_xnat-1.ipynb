{
 "cells": [
  {
   "cell_type": "markdown",
   "id": "0fcc84f5",
   "metadata": {},
   "source": [
    "# Batch download of NRRD from XNAT collection"
   ]
  },
  {
   "cell_type": "code",
   "execution_count": 1,
   "id": "2ab3ecee",
   "metadata": {
    "scrolled": true
   },
   "outputs": [],
   "source": [
    "import os, subprocess, glob\n",
    "import glob\n",
    "import shutil\n",
    "import xnat #needed for reading and writing to/from XNAT"
   ]
  },
  {
   "cell_type": "code",
   "execution_count": 2,
   "id": "46392327",
   "metadata": {},
   "outputs": [],
   "source": [
    "def cleanup_temp_folder(dirt):\n",
    "    if os.path.exists(dirt):\n",
    "        shutil.rmtree(dirt)\n",
    "        os.makedirs(dirt)\n",
    "    if not os.path.exists(dirt):\n",
    "        os.makedirs(dirt)"
   ]
  },
  {
   "cell_type": "code",
   "execution_count": 3,
   "id": "8b7612a8",
   "metadata": {},
   "outputs": [],
   "source": [
    "#------------------------- USER SETTINGS -------------------------------\n",
    "\n",
    "# set up XNAT login credentials here\n",
    "# .......................\n",
    "xnatUrl = 'http://xnat-nginx:80'  #change me! e.g. 'http://localhost:8081/'\n",
    "# - check the url using docker network inspect on the package defaul network, find the web application nginx\n",
    "# - the procedure is\n",
    "# - docker network ls\n",
    "# - find your docker network bridge running all the xnat and python images, eg xnat-docker-compose-master_default\n",
    "# - copy the network id on the left hand side\n",
    "# - docker network inspect [the network id from above]\n",
    "# - scroll down a little and find the docker IP network address of the nginx gateway\n",
    "#\n",
    "#xnatUrl = 'https://xnat.bmia.nl'\n",
    "xnatUser = 'admin'  #change me!\n",
    "#xnatUser = 'leonardwee'\n",
    "xnatPass = 'admin'  #change me!\n",
    "xnatProject = 'argoslung4'  #change me!\n"
   ]
  },
  {
   "cell_type": "markdown",
   "id": "695511dd",
   "metadata": {},
   "source": [
    "### main section"
   ]
  },
  {
   "cell_type": "code",
   "execution_count": 22,
   "id": "a6925ea1",
   "metadata": {},
   "outputs": [],
   "source": [
    "DevelopmentWorkingDir = './pre-process-TRAIN'\n",
    "ValidationWorkingDir = './pre-process-VALIDATE'\n",
    "DevelopmentSetLabel = 'D_'\n",
    "ValidationSetLabel = 'V_'"
   ]
  },
  {
   "cell_type": "code",
   "execution_count": 17,
   "id": "ed12b677",
   "metadata": {},
   "outputs": [],
   "source": [
    "#CAREFUL - empties the following before filling it up from XNAT\n",
    "cleanup_temp_folder(DevelopmentWorkingDir)\n",
    "cleanup_temp_folder(ValidationWorkingDir)"
   ]
  },
  {
   "cell_type": "code",
   "execution_count": 28,
   "id": "485b9ad7",
   "metadata": {},
   "outputs": [
    {
     "name": "stderr",
     "output_type": "stream",
     "text": [
      "[WARNING] Detected a redirect from http://172.26.0.5:80 to http://172.26.0.5/, using http://172.26.0.5/ from now on\n",
      "100% of  30.1 KiB |################################|  20.0 MiB/s Time:  0:00:00\n",
      " 65% of  26.2 MiB |####################            | 163.6 MiB/s ETA:   0:00:00"
     ]
    },
    {
     "name": "stdout",
     "output_type": "stream",
     "text": [
      "Extracted from xnat to : ./pre-process-TRAIN/LUNG4-100/GT/GTV-1.nrrd\n"
     ]
    },
    {
     "name": "stderr",
     "output_type": "stream",
     "text": [
      "100% of  26.2 MiB |################################| 163.6 MiB/s Time:  0:00:00\n",
      "100% of  30.8 KiB |################################|  21.0 MiB/s Time:  0:00:00\n"
     ]
    },
    {
     "name": "stdout",
     "output_type": "stream",
     "text": [
      "Extracted from xnat to : ./pre-process-TRAIN/LUNG4-100/CT/ct_image.nrrd\n",
      "Extracted from xnat to : ./pre-process-TRAIN/LUNG4-109/GT/GTV-1.nrrd\n"
     ]
    },
    {
     "name": "stderr",
     "output_type": "stream",
     "text": [
      "100% of  31.0 MiB |################################| 225.9 MiB/s Time:  0:00:00\n",
      "100% of  34.1 KiB |################################|  21.7 MiB/s Time:  0:00:00\n"
     ]
    },
    {
     "name": "stdout",
     "output_type": "stream",
     "text": [
      "Extracted from xnat to : ./pre-process-TRAIN/LUNG4-109/CT/ct_image.nrrd\n",
      "Extracted from xnat to : ./pre-process-TRAIN/LUNG4-110/GT/GTV-1.nrrd\n"
     ]
    },
    {
     "name": "stderr",
     "output_type": "stream",
     "text": [
      "100% of  28.7 MiB |################################| 229.0 MiB/s Time:  0:00:00\n",
      "100% of  35.6 KiB |################################|  24.5 MiB/s Time:  0:00:00\n"
     ]
    },
    {
     "name": "stdout",
     "output_type": "stream",
     "text": [
      "Extracted from xnat to : ./pre-process-TRAIN/LUNG4-110/CT/ct_image.nrrd\n",
      "Extracted from xnat to : ./pre-process-TRAIN/LUNG4-112/GT/GTV-1.nrrd\n"
     ]
    },
    {
     "name": "stderr",
     "output_type": "stream",
     "text": [
      "100% of  33.2 MiB |################################| 155.9 MiB/s Time:  0:00:00\n",
      "100% of  29.2 KiB |################################|  20.9 MiB/s Time:  0:00:00\n"
     ]
    },
    {
     "name": "stdout",
     "output_type": "stream",
     "text": [
      "Extracted from xnat to : ./pre-process-TRAIN/LUNG4-112/CT/ct_image.nrrd\n",
      "Extracted from xnat to : ./pre-process-TRAIN/LUNG4-119/GT/GTV-1.nrrd\n"
     ]
    },
    {
     "name": "stderr",
     "output_type": "stream",
     "text": [
      "100% of  29.6 MiB |################################| 197.8 MiB/s Time:  0:00:00\n",
      "100% of  34.2 KiB |################################|  30.1 MiB/s Time:  0:00:00\n"
     ]
    },
    {
     "name": "stdout",
     "output_type": "stream",
     "text": [
      "Extracted from xnat to : ./pre-process-TRAIN/LUNG4-119/CT/ct_image.nrrd\n",
      "Extracted from xnat to : ./pre-process-TRAIN/LUNG4-126/GT/GTV-1.nrrd\n"
     ]
    },
    {
     "name": "stderr",
     "output_type": "stream",
     "text": [
      "100% of  29.0 MiB |################################| 192.1 MiB/s Time:  0:00:00\n",
      "100% of  35.8 KiB |################################|  26.2 MiB/s Time:  0:00:00\n"
     ]
    },
    {
     "name": "stdout",
     "output_type": "stream",
     "text": [
      "Extracted from xnat to : ./pre-process-TRAIN/LUNG4-126/CT/ct_image.nrrd\n",
      "Extracted from xnat to : ./pre-process-TRAIN/LUNG4-217/GT/GTV-1.nrrd\n"
     ]
    },
    {
     "name": "stderr",
     "output_type": "stream",
     "text": [
      "100% of  33.1 MiB |################################| 198.8 MiB/s Time:  0:00:00\n",
      "100% of  40.9 KiB |################################|  29.3 MiB/s Time:  0:00:00\n"
     ]
    },
    {
     "name": "stdout",
     "output_type": "stream",
     "text": [
      "Extracted from xnat to : ./pre-process-TRAIN/LUNG4-217/CT/ct_image.nrrd\n",
      "Extracted from xnat to : ./pre-process-TRAIN/LUNG4-219/GT/GTV-1.nrrd\n"
     ]
    },
    {
     "name": "stderr",
     "output_type": "stream",
     "text": [
      "100% of  31.7 MiB |################################| 195.5 MiB/s Time:  0:00:00\n",
      "100% of  34.1 KiB |################################|  25.2 MiB/s Time:  0:00:00\n"
     ]
    },
    {
     "name": "stdout",
     "output_type": "stream",
     "text": [
      "Extracted from xnat to : ./pre-process-TRAIN/LUNG4-219/CT/ct_image.nrrd\n",
      "Extracted from xnat to : ./pre-process-TRAIN/LUNG4-220/GT/GTV-1.nrrd\n"
     ]
    },
    {
     "name": "stderr",
     "output_type": "stream",
     "text": [
      "100% of  32.7 MiB |################################| 197.4 MiB/s Time:  0:00:00\n",
      "100% of  44.4 KiB |################################|  32.8 MiB/s Time:  0:00:00\n"
     ]
    },
    {
     "name": "stdout",
     "output_type": "stream",
     "text": [
      "Extracted from xnat to : ./pre-process-TRAIN/LUNG4-220/CT/ct_image.nrrd\n",
      "Extracted from xnat to : ./pre-process-TRAIN/LUNG4-221/GT/GTV-1.nrrd\n"
     ]
    },
    {
     "name": "stderr",
     "output_type": "stream",
     "text": [
      "100% of  42.3 MiB |################################| 198.2 MiB/s Time:  0:00:00\n",
      "100% of  34.0 KiB |################################|  23.4 MiB/s Time:  0:00:00\n"
     ]
    },
    {
     "name": "stdout",
     "output_type": "stream",
     "text": [
      "Extracted from xnat to : ./pre-process-TRAIN/LUNG4-221/CT/ct_image.nrrd\n",
      "Extracted from xnat to : ./pre-process-TRAIN/LUNG4-233/GT/GTV-1.nrrd\n"
     ]
    },
    {
     "name": "stderr",
     "output_type": "stream",
     "text": [
      "100% of  38.7 MiB |################################| 197.6 MiB/s Time:  0:00:00\n",
      "100% of  30.4 KiB |################################|  20.5 MiB/s Time:  0:00:00\n"
     ]
    },
    {
     "name": "stdout",
     "output_type": "stream",
     "text": [
      "Extracted from xnat to : ./pre-process-TRAIN/LUNG4-233/CT/ct_image.nrrd\n",
      "Extracted from xnat to : ./pre-process-TRAIN/LUNG4-228/GT/GTV-1.nrrd\n"
     ]
    },
    {
     "name": "stderr",
     "output_type": "stream",
     "text": [
      "100% of  29.3 MiB |################################| 194.4 MiB/s Time:  0:00:00\n",
      "100% of  35.8 KiB |################################|  25.0 MiB/s Time:  0:00:00\n"
     ]
    },
    {
     "name": "stdout",
     "output_type": "stream",
     "text": [
      "Extracted from xnat to : ./pre-process-TRAIN/LUNG4-228/CT/ct_image.nrrd\n",
      "Extracted from xnat to : ./pre-process-VALIDATE/LUNG4-236/GT/GTV-1.nrrd\n"
     ]
    },
    {
     "name": "stderr",
     "output_type": "stream",
     "text": [
      "100% of  34.4 MiB |################################| 200.1 MiB/s Time:  0:00:00\n",
      "100% of  36.0 KiB |################################|  32.9 MiB/s Time:  0:00:00\n"
     ]
    },
    {
     "name": "stdout",
     "output_type": "stream",
     "text": [
      "Extracted from xnat to : ./pre-process-VALIDATE/LUNG4-236/CT/ct_image.nrrd\n",
      "Extracted from xnat to : ./pre-process-TRAIN/LUNG4-237/GT/GTV-1.nrrd\n"
     ]
    },
    {
     "name": "stderr",
     "output_type": "stream",
     "text": [
      "100% of  33.9 MiB |################################| 195.0 MiB/s Time:  0:00:00\n",
      "100% of  35.4 KiB |################################|  28.5 MiB/s Time:  0:00:00\n"
     ]
    },
    {
     "name": "stdout",
     "output_type": "stream",
     "text": [
      "Extracted from xnat to : ./pre-process-TRAIN/LUNG4-237/CT/ct_image.nrrd\n",
      "Extracted from xnat to : ./pre-process-TRAIN/LUNG4-241/GT/GTV-1.nrrd\n"
     ]
    },
    {
     "name": "stderr",
     "output_type": "stream",
     "text": [
      "100% of  34.2 MiB |################################| 152.6 MiB/s Time:  0:00:00\n",
      "100% of  33.7 KiB |################################|  25.2 MiB/s Time:  0:00:00\n"
     ]
    },
    {
     "name": "stdout",
     "output_type": "stream",
     "text": [
      "Extracted from xnat to : ./pre-process-TRAIN/LUNG4-241/CT/ct_image.nrrd\n",
      "Extracted from xnat to : ./pre-process-TRAIN/LUNG4-244/GT/GTV-1.nrrd\n"
     ]
    },
    {
     "name": "stderr",
     "output_type": "stream",
     "text": [
      "100% of  30.6 MiB |################################| 196.3 MiB/s Time:  0:00:00\n",
      "100% of  45.2 KiB |################################|  32.0 MiB/s Time:  0:00:00\n"
     ]
    },
    {
     "name": "stdout",
     "output_type": "stream",
     "text": [
      "Extracted from xnat to : ./pre-process-TRAIN/LUNG4-244/CT/ct_image.nrrd\n",
      "Extracted from xnat to : ./pre-process-TRAIN/LUNG4-102/GT/GTV-1.nrrd\n"
     ]
    },
    {
     "name": "stderr",
     "output_type": "stream",
     "text": [
      "100% of  33.2 MiB |################################| 199.4 MiB/s Time:  0:00:00\n",
      "100% of  34.0 KiB |################################|  24.9 MiB/s Time:  0:00:00\n"
     ]
    },
    {
     "name": "stdout",
     "output_type": "stream",
     "text": [
      "Extracted from xnat to : ./pre-process-TRAIN/LUNG4-102/CT/ct_image.nrrd\n",
      "Extracted from xnat to : ./pre-process-TRAIN/LUNG4-104/GT/GTV-1.nrrd\n"
     ]
    },
    {
     "name": "stderr",
     "output_type": "stream",
     "text": [
      "100% of  30.9 MiB |################################| 199.3 MiB/s Time:  0:00:00\n",
      "100% of  36.4 KiB |################################|  26.5 MiB/s Time:  0:00:00\n"
     ]
    },
    {
     "name": "stdout",
     "output_type": "stream",
     "text": [
      "Extracted from xnat to : ./pre-process-TRAIN/LUNG4-104/CT/ct_image.nrrd\n",
      "Extracted from xnat to : ./pre-process-TRAIN/LUNG4-107/GT/GTV-1.nrrd\n"
     ]
    },
    {
     "name": "stderr",
     "output_type": "stream",
     "text": [
      "100% of  32.9 MiB |################################| 198.7 MiB/s Time:  0:00:00\n",
      "100% of  34.9 KiB |################################|  25.6 MiB/s Time:  0:00:00\n"
     ]
    },
    {
     "name": "stdout",
     "output_type": "stream",
     "text": [
      "Extracted from xnat to : ./pre-process-TRAIN/LUNG4-107/CT/ct_image.nrrd\n",
      "Extracted from xnat to : ./pre-process-TRAIN/LUNG4-113/GT/GTV-1.nrrd\n"
     ]
    },
    {
     "name": "stderr",
     "output_type": "stream",
     "text": [
      "100% of  30.8 MiB |################################| 202.0 MiB/s Time:  0:00:00\n",
      "100% of  38.5 KiB |################################|  31.3 MiB/s Time:  0:00:00\n"
     ]
    },
    {
     "name": "stdout",
     "output_type": "stream",
     "text": [
      "Extracted from xnat to : ./pre-process-TRAIN/LUNG4-113/CT/ct_image.nrrd\n",
      "Extracted from xnat to : ./pre-process-TRAIN/LUNG4-114/GT/GTV-1.nrrd\n"
     ]
    },
    {
     "name": "stderr",
     "output_type": "stream",
     "text": [
      "100% of  32.9 MiB |################################| 198.6 MiB/s Time:  0:00:00\n",
      "100% of  36.1 KiB |################################|  29.8 MiB/s Time:  0:00:00\n"
     ]
    },
    {
     "name": "stdout",
     "output_type": "stream",
     "text": [
      "Extracted from xnat to : ./pre-process-TRAIN/LUNG4-114/CT/ct_image.nrrd\n",
      "Extracted from xnat to : ./pre-process-TRAIN/LUNG4-116/GT/GTV-1.nrrd\n"
     ]
    },
    {
     "name": "stderr",
     "output_type": "stream",
     "text": [
      "100% of  33.8 KiB |################################|  29.8 MiB/s Time:  0:00:00\n",
      " 68% of  29.3 MiB |#####################           | 194.6 MiB/s ETA:   0:00:00"
     ]
    },
    {
     "name": "stdout",
     "output_type": "stream",
     "text": [
      "Extracted from xnat to : ./pre-process-TRAIN/LUNG4-116/GT/GTV-2.nrrd\n"
     ]
    },
    {
     "name": "stderr",
     "output_type": "stream",
     "text": [
      "100% of  29.3 MiB |################################| 194.6 MiB/s Time:  0:00:00\n",
      "100% of  37.9 KiB |################################|  31.6 MiB/s Time:  0:00:00\n"
     ]
    },
    {
     "name": "stdout",
     "output_type": "stream",
     "text": [
      "Extracted from xnat to : ./pre-process-TRAIN/LUNG4-116/CT/ct_image.nrrd\n",
      "Extracted from xnat to : ./pre-process-VALIDATE/LUNG4-120/GT/GTV-1.nrrd\n"
     ]
    },
    {
     "name": "stderr",
     "output_type": "stream",
     "text": [
      "100% of  32.2 MiB |################################| 202.2 MiB/s Time:  0:00:00\n",
      "100% of  34.1 KiB |################################|  26.1 MiB/s Time:  0:00:00\n"
     ]
    },
    {
     "name": "stdout",
     "output_type": "stream",
     "text": [
      "Extracted from xnat to : ./pre-process-VALIDATE/LUNG4-120/CT/ct_image.nrrd\n",
      "Extracted from xnat to : ./pre-process-TRAIN/LUNG4-121/GT/GTV-1.nrrd\n"
     ]
    },
    {
     "name": "stderr",
     "output_type": "stream",
     "text": [
      "100% of  31.2 MiB |################################| 199.5 MiB/s Time:  0:00:00\n",
      "100% of  36.5 KiB |################################|  29.1 MiB/s Time:  0:00:00\n"
     ]
    },
    {
     "name": "stdout",
     "output_type": "stream",
     "text": [
      "Extracted from xnat to : ./pre-process-TRAIN/LUNG4-121/CT/ct_image.nrrd\n",
      "Extracted from xnat to : ./pre-process-TRAIN/LUNG4-123/GT/GTV-1.nrrd\n"
     ]
    },
    {
     "name": "stderr",
     "output_type": "stream",
     "text": [
      "100% of  35.9 KiB |################################|  32.5 MiB/s Time:  0:00:00\n",
      " 58% of  34.4 MiB |##################              | 196.1 MiB/s ETA:   0:00:00"
     ]
    },
    {
     "name": "stdout",
     "output_type": "stream",
     "text": [
      "Extracted from xnat to : ./pre-process-TRAIN/LUNG4-123/GT/GTV-2.nrrd\n"
     ]
    },
    {
     "name": "stderr",
     "output_type": "stream",
     "text": [
      "100% of  34.4 MiB |################################| 196.1 MiB/s Time:  0:00:00\n",
      "100% of  39.2 KiB |################################|  35.8 MiB/s Time:  0:00:00\n"
     ]
    },
    {
     "name": "stdout",
     "output_type": "stream",
     "text": [
      "Extracted from xnat to : ./pre-process-TRAIN/LUNG4-123/CT/ct_image.nrrd\n",
      "Extracted from xnat to : ./pre-process-TRAIN/LUNG4-124/GT/GTV-1.nrrd\n"
     ]
    },
    {
     "name": "stderr",
     "output_type": "stream",
     "text": [
      "100% of  34.6 MiB |################################| 202.1 MiB/s Time:  0:00:00\n",
      "100% of  35.7 KiB |################################|  28.3 MiB/s Time:  0:00:00\n"
     ]
    },
    {
     "name": "stdout",
     "output_type": "stream",
     "text": [
      "Extracted from xnat to : ./pre-process-TRAIN/LUNG4-124/CT/ct_image.nrrd\n",
      "Extracted from xnat to : ./pre-process-VALIDATE/LUNG4-235/GT/GTV-1.nrrd\n"
     ]
    },
    {
     "name": "stderr",
     "output_type": "stream",
     "text": [
      "100% of  40.8 MiB |################################| 201.7 MiB/s Time:  0:00:00\n",
      "100% of  34.3 KiB |################################|  27.3 MiB/s Time:  0:00:00\n"
     ]
    },
    {
     "name": "stdout",
     "output_type": "stream",
     "text": [
      "Extracted from xnat to : ./pre-process-VALIDATE/LUNG4-235/CT/ct_image.nrrd\n",
      "Extracted from xnat to : ./pre-process-VALIDATE/LUNG4-231/GT/GTV-1.nrrd\n"
     ]
    },
    {
     "name": "stderr",
     "output_type": "stream",
     "text": [
      "100% of  30.0 MiB |################################| 232.3 MiB/s Time:  0:00:00\n",
      "100% of  37.1 KiB |################################|  30.1 MiB/s Time:  0:00:00\n"
     ]
    },
    {
     "name": "stdout",
     "output_type": "stream",
     "text": [
      "Extracted from xnat to : ./pre-process-VALIDATE/LUNG4-231/CT/ct_image.nrrd\n",
      "Extracted from xnat to : ./pre-process-TRAIN/LUNG4-225/GT/GTV-1.nrrd\n"
     ]
    },
    {
     "name": "stderr",
     "output_type": "stream",
     "text": [
      "100% of  37.5 MiB |################################| 240.7 MiB/s Time:  0:00:00\n",
      "100% of  32.1 KiB |################################|  26.4 MiB/s Time:  0:00:00\n"
     ]
    },
    {
     "name": "stdout",
     "output_type": "stream",
     "text": [
      "Extracted from xnat to : ./pre-process-TRAIN/LUNG4-225/CT/ct_image.nrrd\n",
      "Extracted from xnat to : ./pre-process-TRAIN/LUNG4-223/GT/GTV-1.nrrd\n"
     ]
    },
    {
     "name": "stderr",
     "output_type": "stream",
     "text": [
      "100% of  30.1 MiB |################################| 231.3 MiB/s Time:  0:00:00\n",
      "100% of  33.8 KiB |################################|  25.2 MiB/s Time:  0:00:00\n"
     ]
    },
    {
     "name": "stdout",
     "output_type": "stream",
     "text": [
      "Extracted from xnat to : ./pre-process-TRAIN/LUNG4-223/CT/ct_image.nrrd\n",
      "Extracted from xnat to : ./pre-process-TRAIN/LUNG4-227/GT/GTV-1.nrrd\n"
     ]
    },
    {
     "name": "stderr",
     "output_type": "stream",
     "text": [
      "100% of  32.8 MiB |################################| 241.1 MiB/s Time:  0:00:00\n",
      "100% of  35.9 KiB |################################|  22.5 MiB/s Time:  0:00:00\n"
     ]
    },
    {
     "name": "stdout",
     "output_type": "stream",
     "text": [
      "Extracted from xnat to : ./pre-process-TRAIN/LUNG4-227/CT/ct_image.nrrd\n",
      "Extracted from xnat to : ./pre-process-TRAIN/LUNG4-240/GT/GTV-1.nrrd\n"
     ]
    },
    {
     "name": "stderr",
     "output_type": "stream",
     "text": [
      "100% of  35.4 MiB |################################| 223.7 MiB/s Time:  0:00:00\n",
      "100% of  38.1 KiB |################################|  28.6 MiB/s Time:  0:00:00\n"
     ]
    },
    {
     "name": "stdout",
     "output_type": "stream",
     "text": [
      "Extracted from xnat to : ./pre-process-TRAIN/LUNG4-240/CT/ct_image.nrrd\n",
      "Extracted from xnat to : ./pre-process-TRAIN/LUNG4-229/GT/GTV-1.nrrd\n"
     ]
    },
    {
     "name": "stderr",
     "output_type": "stream",
     "text": [
      "100% of  36.2 MiB |################################| 222.8 MiB/s Time:  0:00:00\n",
      "100% of  40.9 KiB |################################|  31.7 MiB/s Time:  0:00:00\n"
     ]
    },
    {
     "name": "stdout",
     "output_type": "stream",
     "text": [
      "Extracted from xnat to : ./pre-process-TRAIN/LUNG4-229/CT/ct_image.nrrd\n",
      "Extracted from xnat to : ./pre-process-TRAIN/LUNG4-224/GT/GTV-1.nrrd\n"
     ]
    },
    {
     "name": "stderr",
     "output_type": "stream",
     "text": [
      "100% of  30.7 MiB |################################| 232.5 MiB/s Time:  0:00:00\n",
      "100% of  36.1 KiB |################################|  28.8 MiB/s Time:  0:00:00\n"
     ]
    },
    {
     "name": "stdout",
     "output_type": "stream",
     "text": [
      "Extracted from xnat to : ./pre-process-TRAIN/LUNG4-224/CT/ct_image.nrrd\n",
      "Extracted from xnat to : ./pre-process-TRAIN/LUNG4-239/GT/GTV-1.nrrd\n"
     ]
    },
    {
     "name": "stderr",
     "output_type": "stream",
     "text": [
      "100% of  32.9 MiB |################################| 225.5 MiB/s Time:  0:00:00\n",
      "100% of  30.5 KiB |################################|  27.0 MiB/s Time:  0:00:00\n"
     ]
    },
    {
     "name": "stdout",
     "output_type": "stream",
     "text": [
      "Extracted from xnat to : ./pre-process-TRAIN/LUNG4-239/CT/ct_image.nrrd\n",
      "Extracted from xnat to : ./pre-process-TRAIN/LUNG4-243/GT/GTV-1.nrrd\n"
     ]
    },
    {
     "name": "stderr",
     "output_type": "stream",
     "text": [
      "100% of  32.0 MiB |################################| 233.2 MiB/s Time:  0:00:00\n",
      "100% of  44.0 KiB |################################|  28.3 MiB/s Time:  0:00:00\n"
     ]
    },
    {
     "name": "stdout",
     "output_type": "stream",
     "text": [
      "Extracted from xnat to : ./pre-process-TRAIN/LUNG4-243/CT/ct_image.nrrd\n",
      "Extracted from xnat to : ./pre-process-TRAIN/LUNG4-245/GT/GTV-1.nrrd\n"
     ]
    },
    {
     "name": "stderr",
     "output_type": "stream",
     "text": [
      "100% of  41.4 MiB |################################| 235.7 MiB/s Time:  0:00:00\n",
      "100% of  36.6 KiB |################################|  23.5 MiB/s Time:  0:00:00"
     ]
    },
    {
     "name": "stdout",
     "output_type": "stream",
     "text": [
      "Extracted from xnat to : ./pre-process-TRAIN/LUNG4-245/CT/ct_image.nrrd\n"
     ]
    },
    {
     "name": "stderr",
     "output_type": "stream",
     "text": [
      "\n",
      "100% of  33.8 KiB |################################|  29.6 MiB/s Time:  0:00:00\n",
      "  0% of  38.7 MiB |                                  |   0.0 s/B ETA:  --:--:--"
     ]
    },
    {
     "name": "stdout",
     "output_type": "stream",
     "text": [
      "Extracted from xnat to : ./pre-process-TRAIN/LUNG4-247/GT/GTV-1.nrrd\n",
      "Extracted from xnat to : ./pre-process-TRAIN/LUNG4-247/GT/GTV-2.nrrd\n"
     ]
    },
    {
     "name": "stderr",
     "output_type": "stream",
     "text": [
      "100% of  38.7 MiB |################################| 224.6 MiB/s Time:  0:00:00\n",
      "100% of  37.0 KiB |################################|  30.1 MiB/s Time:  0:00:00\n"
     ]
    },
    {
     "name": "stdout",
     "output_type": "stream",
     "text": [
      "Extracted from xnat to : ./pre-process-TRAIN/LUNG4-247/CT/ct_image.nrrd\n",
      "Extracted from xnat to : ./pre-process-TRAIN/LUNG4-251/GT/GTV-1.nrrd\n"
     ]
    },
    {
     "name": "stderr",
     "output_type": "stream",
     "text": [
      "100% of  33.4 MiB |################################| 238.8 MiB/s Time:  0:00:00\n",
      "100% of  36.4 KiB |################################|  28.5 MiB/s Time:  0:00:00\n"
     ]
    },
    {
     "name": "stdout",
     "output_type": "stream",
     "text": [
      "Extracted from xnat to : ./pre-process-TRAIN/LUNG4-251/CT/ct_image.nrrd\n",
      "Extracted from xnat to : ./pre-process-TRAIN/LUNG4-259/GT/GTV-1.nrrd\n"
     ]
    },
    {
     "name": "stderr",
     "output_type": "stream",
     "text": [
      "100% of  29.3 MiB |################################| 230.0 MiB/s Time:  0:00:00\n",
      "100% of  45.1 KiB |################################|  33.1 MiB/s Time:  0:00:00\n"
     ]
    },
    {
     "name": "stdout",
     "output_type": "stream",
     "text": [
      "Extracted from xnat to : ./pre-process-TRAIN/LUNG4-259/CT/ct_image.nrrd\n",
      "Extracted from xnat to : ./pre-process-TRAIN/LUNG4-260/GT/GTV-1.nrrd\n"
     ]
    },
    {
     "name": "stderr",
     "output_type": "stream",
     "text": [
      "100% of  36.8 MiB |################################| 220.4 MiB/s Time:  0:00:00\n",
      "100% of  32.9 KiB |################################|  27.3 MiB/s Time:  0:00:00\n"
     ]
    },
    {
     "name": "stdout",
     "output_type": "stream",
     "text": [
      "Extracted from xnat to : ./pre-process-TRAIN/LUNG4-260/CT/ct_image.nrrd\n",
      "Extracted from xnat to : ./pre-process-TRAIN/LUNG4-262/GT/GTV-1.nrrd\n"
     ]
    },
    {
     "name": "stderr",
     "output_type": "stream",
     "text": [
      "100% of  27.4 MiB |################################| 231.4 MiB/s Time:  0:00:00\n",
      "100% of  43.1 KiB |################################|  33.4 MiB/s Time:  0:00:00\n"
     ]
    },
    {
     "name": "stdout",
     "output_type": "stream",
     "text": [
      "Extracted from xnat to : ./pre-process-TRAIN/LUNG4-262/CT/ct_image.nrrd\n",
      "Extracted from xnat to : ./pre-process-TRAIN/LUNG4-267/GT/GTV-1.nrrd\n"
     ]
    },
    {
     "name": "stderr",
     "output_type": "stream",
     "text": [
      "100% of  45.2 MiB |################################| 224.3 MiB/s Time:  0:00:00\n",
      "100% of  36.2 KiB |################################|  27.0 MiB/s Time:  0:00:00\n"
     ]
    },
    {
     "name": "stdout",
     "output_type": "stream",
     "text": [
      "Extracted from xnat to : ./pre-process-TRAIN/LUNG4-267/CT/ct_image.nrrd\n",
      "Extracted from xnat to : ./pre-process-TRAIN/LUNG4-274/GT/GTV-1.nrrd\n"
     ]
    },
    {
     "name": "stderr",
     "output_type": "stream",
     "text": [
      "100% of  30.3 MiB |################################| 239.2 MiB/s Time:  0:00:00\n",
      "100% of  40.2 KiB |################################|  32.9 MiB/s Time:  0:00:00\n"
     ]
    },
    {
     "name": "stdout",
     "output_type": "stream",
     "text": [
      "Extracted from xnat to : ./pre-process-TRAIN/LUNG4-274/CT/ct_image.nrrd\n",
      "Extracted from xnat to : ./pre-process-TRAIN/LUNG4-279/GT/GTV-1.nrrd\n"
     ]
    },
    {
     "name": "stderr",
     "output_type": "stream",
     "text": [
      "100% of  38.8 MiB |################################| 238.9 MiB/s Time:  0:00:00\n",
      "100% of  43.8 KiB |################################|  33.9 MiB/s Time:  0:00:00\n"
     ]
    },
    {
     "name": "stdout",
     "output_type": "stream",
     "text": [
      "Extracted from xnat to : ./pre-process-TRAIN/LUNG4-279/CT/ct_image.nrrd\n",
      "Extracted from xnat to : ./pre-process-TRAIN/LUNG4-284/GT/GTV-1.nrrd\n"
     ]
    },
    {
     "name": "stderr",
     "output_type": "stream",
     "text": [
      "100% of  41.5 MiB |################################| 226.6 MiB/s Time:  0:00:00\n",
      "100% of  43.9 KiB |################################|  31.7 MiB/s Time:  0:00:00\n"
     ]
    },
    {
     "name": "stdout",
     "output_type": "stream",
     "text": [
      "Extracted from xnat to : ./pre-process-TRAIN/LUNG4-284/CT/ct_image.nrrd\n",
      "Extracted from xnat to : ./pre-process-TRAIN/LUNG4-286/GT/GTV-1.nrrd\n"
     ]
    },
    {
     "name": "stderr",
     "output_type": "stream",
     "text": [
      "100% of  38.9 MiB |################################| 233.8 MiB/s Time:  0:00:00\n",
      "100% of  39.4 KiB |################################|  32.9 MiB/s Time:  0:00:00\n"
     ]
    },
    {
     "name": "stdout",
     "output_type": "stream",
     "text": [
      "Extracted from xnat to : ./pre-process-TRAIN/LUNG4-286/CT/ct_image.nrrd\n",
      "Extracted from xnat to : ./pre-process-TRAIN/LUNG4-288/GT/GTV-1.nrrd\n"
     ]
    },
    {
     "name": "stderr",
     "output_type": "stream",
     "text": [
      "100% of  36.6 MiB |################################| 224.3 MiB/s Time:  0:00:00\n",
      "100% of  34.5 KiB |################################|  22.6 MiB/s Time:  0:00:00\n"
     ]
    },
    {
     "name": "stdout",
     "output_type": "stream",
     "text": [
      "Extracted from xnat to : ./pre-process-TRAIN/LUNG4-288/CT/ct_image.nrrd\n",
      "Extracted from xnat to : ./pre-process-TRAIN/LUNG4-289/GT/GTV-1.nrrd\n"
     ]
    },
    {
     "name": "stderr",
     "output_type": "stream",
     "text": [
      "100% of  26.4 MiB |################################| 230.0 MiB/s Time:  0:00:00\n",
      "100% of  42.6 KiB |################################|  32.8 MiB/s Time:  0:00:00\n"
     ]
    },
    {
     "name": "stdout",
     "output_type": "stream",
     "text": [
      "Extracted from xnat to : ./pre-process-TRAIN/LUNG4-289/CT/ct_image.nrrd\n",
      "Extracted from xnat to : ./pre-process-TRAIN/LUNG4-290/GT/GTV-1.nrrd\n"
     ]
    },
    {
     "name": "stderr",
     "output_type": "stream",
     "text": [
      "100% of  34.2 MiB |################################| 238.7 MiB/s Time:  0:00:00\n",
      "100% of  37.1 KiB |################################|  29.3 MiB/s Time:  0:00:00\n"
     ]
    },
    {
     "name": "stdout",
     "output_type": "stream",
     "text": [
      "Extracted from xnat to : ./pre-process-TRAIN/LUNG4-290/CT/ct_image.nrrd\n",
      "Extracted from xnat to : ./pre-process-TRAIN/LUNG4-292/GT/GTV-1.nrrd\n"
     ]
    },
    {
     "name": "stderr",
     "output_type": "stream",
     "text": [
      "100% of  33.6 KiB |################################|  27.3 MiB/s Time:  0:00:00\n",
      " 78% of  29.3 MiB |#########################       | 223.0 MiB/s ETA:   0:00:00"
     ]
    },
    {
     "name": "stdout",
     "output_type": "stream",
     "text": [
      "Extracted from xnat to : ./pre-process-TRAIN/LUNG4-292/GT/GTV-2.nrrd\n"
     ]
    },
    {
     "name": "stderr",
     "output_type": "stream",
     "text": [
      "100% of  29.3 MiB |################################| 223.0 MiB/s Time:  0:00:00\n",
      "100% of  50.5 KiB |################################|  42.3 MiB/s Time:  0:00:00\n"
     ]
    },
    {
     "name": "stdout",
     "output_type": "stream",
     "text": [
      "Extracted from xnat to : ./pre-process-TRAIN/LUNG4-292/CT/ct_image.nrrd\n",
      "Extracted from xnat to : ./pre-process-TRAIN/LUNG4-296/GT/GTV-1.nrrd\n"
     ]
    },
    {
     "name": "stderr",
     "output_type": "stream",
     "text": [
      "100% of  45.4 MiB |################################| 225.1 MiB/s Time:  0:00:00\n",
      "  0% of  50.6 MiB |                                  |   0.0 s/B ETA:  --:--:--"
     ]
    },
    {
     "name": "stdout",
     "output_type": "stream",
     "text": [
      "Extracted from xnat to : ./pre-process-TRAIN/LUNG4-296/CT/ct_image.nrrd\n"
     ]
    },
    {
     "name": "stderr",
     "output_type": "stream",
     "text": [
      "100% of  50.6 MiB |################################| 221.9 MiB/s Time:  0:00:00\n",
      "100% of  62.6 KiB |################################|  51.6 MiB/s Time:  0:00:00\n"
     ]
    },
    {
     "name": "stdout",
     "output_type": "stream",
     "text": [
      "Extracted from xnat to : ./pre-process-TRAIN/LUNG4-298/CT/ct_image.nrrd\n",
      "Extracted from xnat to : ./pre-process-TRAIN/LUNG4-298/GT/GTV-1.nrrd\n"
     ]
    },
    {
     "name": "stderr",
     "output_type": "stream",
     "text": [
      "100% of  26.4 KiB |################################|  18.0 MiB/s Time:  0:00:00\n",
      "100% of  23.8 MiB |################################| 233.9 MiB/s Time:  0:00:00\n"
     ]
    },
    {
     "name": "stdout",
     "output_type": "stream",
     "text": [
      "Extracted from xnat to : ./pre-process-VALIDATE/LUNG4-299/GT/GTV-1.nrrd\n",
      "Extracted from xnat to : ./pre-process-VALIDATE/LUNG4-299/CT/ct_image.nrrd\n"
     ]
    },
    {
     "name": "stderr",
     "output_type": "stream",
     "text": [
      "100% of  36.1 KiB |################################|  29.9 MiB/s Time:  0:00:00\n",
      " 60% of  33.1 MiB |###################             | 198.4 MiB/s ETA:   0:00:00"
     ]
    },
    {
     "name": "stdout",
     "output_type": "stream",
     "text": [
      "Extracted from xnat to : ./pre-process-TRAIN/LUNG4-106/GT/GTV-1.nrrd\n"
     ]
    },
    {
     "name": "stderr",
     "output_type": "stream",
     "text": [
      "100% of  33.1 MiB |################################| 198.4 MiB/s Time:  0:00:00\n",
      "  0% of  33.9 MiB |                                  |   0.0 s/B ETA:  --:--:--"
     ]
    },
    {
     "name": "stdout",
     "output_type": "stream",
     "text": [
      "Extracted from xnat to : ./pre-process-TRAIN/LUNG4-106/CT/ct_image.nrrd\n"
     ]
    },
    {
     "name": "stderr",
     "output_type": "stream",
     "text": [
      "100% of  33.9 MiB |################################| 191.5 MiB/s Time:  0:00:00\n",
      "100% of  35.1 KiB |################################|  38.3 MiB/s Time:  0:00:00\n",
      "100% of  34.1 KiB |################################|  31.7 MiB/s Time:  0:00:00\n"
     ]
    },
    {
     "name": "stdout",
     "output_type": "stream",
     "text": [
      "Extracted from xnat to : ./pre-process-TRAIN/LUNG4-115/CT/ct_image.nrrd\n",
      "Extracted from xnat to : ./pre-process-TRAIN/LUNG4-115/GT/GTV-1.nrrd\n",
      "Extracted from xnat to : ./pre-process-TRAIN/LUNG4-115/GT/GTV-2.nrrd\n"
     ]
    },
    {
     "name": "stderr",
     "output_type": "stream",
     "text": [
      "100% of  33.4 MiB |################################| 199.6 MiB/s Time:  0:00:00\n",
      "100% of  34.0 KiB |################################|  37.2 MiB/s Time:  0:00:00\n"
     ]
    },
    {
     "name": "stdout",
     "output_type": "stream",
     "text": [
      "Extracted from xnat to : ./pre-process-TRAIN/LUNG4-118/CT/ct_image.nrrd\n",
      "Extracted from xnat to : ./pre-process-TRAIN/LUNG4-118/GT/GTV-1.nrrd\n"
     ]
    },
    {
     "name": "stderr",
     "output_type": "stream",
     "text": [
      "100% of  35.2 KiB |################################|  32.3 MiB/s Time:  0:00:00\n",
      " 68% of  29.2 MiB |#####################           | 195.5 MiB/s ETA:   0:00:00"
     ]
    },
    {
     "name": "stdout",
     "output_type": "stream",
     "text": [
      "Extracted from xnat to : ./pre-process-TRAIN/LUNG4-125/GT/GTV-1.nrrd\n"
     ]
    },
    {
     "name": "stderr",
     "output_type": "stream",
     "text": [
      "100% of  29.2 MiB |################################| 195.5 MiB/s Time:  0:00:00\n",
      "100% of  34.7 KiB |################################|  24.7 MiB/s Time:  0:00:00\n"
     ]
    },
    {
     "name": "stdout",
     "output_type": "stream",
     "text": [
      "Extracted from xnat to : ./pre-process-TRAIN/LUNG4-125/CT/ct_image.nrrd\n"
     ]
    },
    {
     "name": "stderr",
     "output_type": "stream",
     "text": [
      "100% of  33.9 KiB |################################|  30.7 MiB/s Time:  0:00:00\n",
      " 66% of  31.0 MiB |#####################           | 198.5 MiB/s ETA:   0:00:00"
     ]
    },
    {
     "name": "stdout",
     "output_type": "stream",
     "text": [
      "Extracted from xnat to : ./pre-process-TRAIN/LUNG4-246/GT/GTV-1.nrrd\n",
      "Extracted from xnat to : ./pre-process-TRAIN/LUNG4-246/GT/GTV-2.nrrd\n"
     ]
    },
    {
     "name": "stderr",
     "output_type": "stream",
     "text": [
      "100% of  31.0 MiB |################################| 198.5 MiB/s Time:  0:00:00\n",
      "100% of  32.8 KiB |################################|  26.8 MiB/s Time:  0:00:00\n"
     ]
    },
    {
     "name": "stdout",
     "output_type": "stream",
     "text": [
      "Extracted from xnat to : ./pre-process-TRAIN/LUNG4-246/CT/ct_image.nrrd\n",
      "Extracted from xnat to : ./pre-process-VALIDATE/LUNG4-254/GT/GTV-1.nrrd\n"
     ]
    },
    {
     "name": "stderr",
     "output_type": "stream",
     "text": [
      "100% of  32.4 MiB |################################| 197.5 MiB/s Time:  0:00:00\n",
      "100% of  54.2 KiB |################################|  42.4 MiB/s Time:  0:00:00\n"
     ]
    },
    {
     "name": "stdout",
     "output_type": "stream",
     "text": [
      "Extracted from xnat to : ./pre-process-VALIDATE/LUNG4-254/CT/ct_image.nrrd\n",
      "Extracted from xnat to : ./pre-process-TRAIN/LUNG4-255/GT/GTV-1.nrrd\n"
     ]
    },
    {
     "name": "stderr",
     "output_type": "stream",
     "text": [
      "100% of  50.3 MiB |################################| 196.8 MiB/s Time:  0:00:00\n",
      "100% of  43.4 KiB |################################|  34.9 MiB/s Time:  0:00:00\n"
     ]
    },
    {
     "name": "stdout",
     "output_type": "stream",
     "text": [
      "Extracted from xnat to : ./pre-process-TRAIN/LUNG4-255/CT/ct_image.nrrd\n",
      "Extracted from xnat to : ./pre-process-TRAIN/LUNG4-258/GT/GTV-1.nrrd\n"
     ]
    },
    {
     "name": "stderr",
     "output_type": "stream",
     "text": [
      "100% of  38.9 MiB |################################| 193.2 MiB/s Time:  0:00:00\n",
      "100% of  37.9 KiB |################################|  30.5 MiB/s Time:  0:00:00\n"
     ]
    },
    {
     "name": "stdout",
     "output_type": "stream",
     "text": [
      "Extracted from xnat to : ./pre-process-TRAIN/LUNG4-258/CT/ct_image.nrrd\n",
      "Extracted from xnat to : ./pre-process-TRAIN/LUNG4-270/GT/GTV-1.nrrd\n"
     ]
    },
    {
     "name": "stderr",
     "output_type": "stream",
     "text": [
      "100% of  37.9 KiB |################################|  30.0 MiB/s Time:  0:00:00\n",
      " 57% of  35.0 MiB |##################              | 196.7 MiB/s ETA:   0:00:00"
     ]
    },
    {
     "name": "stdout",
     "output_type": "stream",
     "text": [
      "Extracted from xnat to : ./pre-process-TRAIN/LUNG4-270/GT/GTV-2.nrrd\n"
     ]
    },
    {
     "name": "stderr",
     "output_type": "stream",
     "text": [
      "100% of  35.0 MiB |################################| 196.7 MiB/s Time:  0:00:00\n",
      "100% of  34.3 KiB |################################|  23.7 MiB/s Time:  0:00:00\n"
     ]
    },
    {
     "name": "stdout",
     "output_type": "stream",
     "text": [
      "Extracted from xnat to : ./pre-process-TRAIN/LUNG4-270/CT/ct_image.nrrd\n",
      "Extracted from xnat to : ./pre-process-TRAIN/LUNG4-275/GT/GTV-1.nrrd\n"
     ]
    },
    {
     "name": "stderr",
     "output_type": "stream",
     "text": [
      "100% of  28.1 MiB |################################| 197.4 MiB/s Time:  0:00:00\n",
      "100% of  57.1 KiB |################################|  45.6 MiB/s Time:  0:00:00\n"
     ]
    },
    {
     "name": "stdout",
     "output_type": "stream",
     "text": [
      "Extracted from xnat to : ./pre-process-TRAIN/LUNG4-275/CT/ct_image.nrrd\n",
      "Extracted from xnat to : ./pre-process-TRAIN/LUNG4-276/GT/GTV-1.nrrd\n"
     ]
    },
    {
     "name": "stderr",
     "output_type": "stream",
     "text": [
      "100% of  37.8 MiB |################################| 195.4 MiB/s Time:  0:00:00\n",
      "100% of  79.8 KiB |################################|  60.9 MiB/s Time:  0:00:00\n"
     ]
    },
    {
     "name": "stdout",
     "output_type": "stream",
     "text": [
      "Extracted from xnat to : ./pre-process-TRAIN/LUNG4-276/CT/ct_image.nrrd\n",
      "Extracted from xnat to : ./pre-process-TRAIN/LUNG4-277/GT/GTV-1.nrrd\n"
     ]
    },
    {
     "name": "stderr",
     "output_type": "stream",
     "text": [
      "100% of  75.7 MiB |################################| 198.8 MiB/s Time:  0:00:00\n",
      "100% of  43.3 KiB |################################|  31.6 MiB/s Time:  0:00:00\n"
     ]
    },
    {
     "name": "stdout",
     "output_type": "stream",
     "text": [
      "Extracted from xnat to : ./pre-process-TRAIN/LUNG4-277/CT/ct_image.nrrd\n",
      "Extracted from xnat to : ./pre-process-TRAIN/LUNG4-280/GT/GTV-1.nrrd\n"
     ]
    },
    {
     "name": "stderr",
     "output_type": "stream",
     "text": [
      "100% of  38.6 MiB |################################| 197.9 MiB/s Time:  0:00:00\n",
      "100% of  39.7 KiB |################################|  30.7 MiB/s Time:  0:00:00\n"
     ]
    },
    {
     "name": "stdout",
     "output_type": "stream",
     "text": [
      "Extracted from xnat to : ./pre-process-TRAIN/LUNG4-280/CT/ct_image.nrrd\n",
      "Extracted from xnat to : ./pre-process-TRAIN/LUNG4-283/GT/GTV-1.nrrd\n"
     ]
    },
    {
     "name": "stderr",
     "output_type": "stream",
     "text": [
      "100% of  33.3 MiB |################################| 199.0 MiB/s Time:  0:00:00\n",
      "100% of  41.1 KiB |################################|  33.3 MiB/s Time:  0:00:00\n"
     ]
    },
    {
     "name": "stdout",
     "output_type": "stream",
     "text": [
      "Extracted from xnat to : ./pre-process-TRAIN/LUNG4-283/CT/ct_image.nrrd\n",
      "Extracted from xnat to : ./pre-process-TRAIN/LUNG4-291/GT/GTV-1.nrrd\n"
     ]
    },
    {
     "name": "stderr",
     "output_type": "stream",
     "text": [
      "100% of  39.7 KiB |################################|  36.2 MiB/s Time:  0:00:00\n",
      " 51% of  40.0 MiB |################                | 200.1 MiB/s ETA:   0:00:00"
     ]
    },
    {
     "name": "stdout",
     "output_type": "stream",
     "text": [
      "Extracted from xnat to : ./pre-process-TRAIN/LUNG4-291/GT/GTV-2.nrrd\n"
     ]
    },
    {
     "name": "stderr",
     "output_type": "stream",
     "text": [
      "100% of  40.0 MiB |################################| 200.1 MiB/s Time:  0:00:00\n",
      "100% of  45.6 KiB |################################|  36.0 MiB/s Time:  0:00:00\n"
     ]
    },
    {
     "name": "stdout",
     "output_type": "stream",
     "text": [
      "Extracted from xnat to : ./pre-process-TRAIN/LUNG4-291/CT/ct_image.nrrd\n",
      "Extracted from xnat to : ./pre-process-TRAIN/LUNG4-128/GT/GTV-1.nrrd\n"
     ]
    },
    {
     "name": "stderr",
     "output_type": "stream",
     "text": [
      "100% of  35.9 MiB |################################| 197.4 MiB/s Time:  0:00:00\n",
      "100% of  50.2 KiB |################################|  37.5 MiB/s Time:  0:00:00\n"
     ]
    },
    {
     "name": "stdout",
     "output_type": "stream",
     "text": [
      "Extracted from xnat to : ./pre-process-TRAIN/LUNG4-128/CT/ct_image.nrrd\n",
      "Extracted from xnat to : ./pre-process-TRAIN/LUNG4-140/GT/GTV-1.nrrd\n"
     ]
    },
    {
     "name": "stderr",
     "output_type": "stream",
     "text": [
      "100% of  39.8 MiB |################################| 198.0 MiB/s Time:  0:00:00\n",
      "100% of  34.5 KiB |################################|  26.5 MiB/s Time:  0:00:00\n"
     ]
    },
    {
     "name": "stdout",
     "output_type": "stream",
     "text": [
      "Extracted from xnat to : ./pre-process-TRAIN/LUNG4-140/CT/ct_image.nrrd\n",
      "Extracted from xnat to : ./pre-process-TRAIN/LUNG4-146/GT/GTV-1.nrrd\n"
     ]
    },
    {
     "name": "stderr",
     "output_type": "stream",
     "text": [
      "100% of  29.2 MiB |################################| 189.9 MiB/s Time:  0:00:00\n",
      "100% of  43.8 KiB |################################|  32.0 MiB/s Time:  0:00:00\n"
     ]
    },
    {
     "name": "stdout",
     "output_type": "stream",
     "text": [
      "Extracted from xnat to : ./pre-process-TRAIN/LUNG4-146/CT/ct_image.nrrd\n",
      "Extracted from xnat to : ./pre-process-TRAIN/LUNG4-248/GT/GTV-1.nrrd\n"
     ]
    },
    {
     "name": "stderr",
     "output_type": "stream",
     "text": [
      "100% of  28.8 MiB |################################| 195.1 MiB/s Time:  0:00:00\n",
      "100% of  38.4 KiB |################################|  29.8 MiB/s Time:  0:00:00\n"
     ]
    },
    {
     "name": "stdout",
     "output_type": "stream",
     "text": [
      "Extracted from xnat to : ./pre-process-TRAIN/LUNG4-248/CT/ct_image.nrrd\n",
      "Extracted from xnat to : ./pre-process-TRAIN/LUNG4-249/GT/GTV-1.nrrd\n"
     ]
    },
    {
     "name": "stderr",
     "output_type": "stream",
     "text": [
      "100% of  36.5 MiB |################################| 198.5 MiB/s Time:  0:00:00\n",
      "100% of  38.8 KiB |################################|  37.5 MiB/s Time:  0:00:00\n"
     ]
    },
    {
     "name": "stdout",
     "output_type": "stream",
     "text": [
      "Extracted from xnat to : ./pre-process-TRAIN/LUNG4-249/CT/ct_image.nrrd\n",
      "Extracted from xnat to : ./pre-process-TRAIN/LUNG4-250/GT/GTV-1.nrrd\n"
     ]
    },
    {
     "name": "stderr",
     "output_type": "stream",
     "text": [
      "100% of  36.0 MiB |################################| 197.7 MiB/s Time:  0:00:00\n",
      "100% of  92.0 KiB |################################|  64.1 MiB/s Time:  0:00:00\n"
     ]
    },
    {
     "name": "stdout",
     "output_type": "stream",
     "text": [
      "Extracted from xnat to : ./pre-process-TRAIN/LUNG4-250/CT/ct_image.nrrd\n",
      "Extracted from xnat to : ./pre-process-TRAIN/LUNG4-252/GT/GTV-1.nrrd\n"
     ]
    },
    {
     "name": "stderr",
     "output_type": "stream",
     "text": [
      "100% of  52.1 MiB |################################| 195.9 MiB/s Time:  0:00:00\n",
      "100% of  43.7 KiB |################################|  35.7 MiB/s Time:  0:00:00\n"
     ]
    },
    {
     "name": "stdout",
     "output_type": "stream",
     "text": [
      "Extracted from xnat to : ./pre-process-TRAIN/LUNG4-252/CT/ct_image.nrrd\n",
      "Extracted from xnat to : ./pre-process-TRAIN/LUNG4-256/GT/GTV-1.nrrd\n"
     ]
    },
    {
     "name": "stderr",
     "output_type": "stream",
     "text": [
      "100% of  37.2 MiB |################################| 197.1 MiB/s Time:  0:00:00\n",
      "100% of  44.7 KiB |################################|  35.0 MiB/s Time:  0:00:00\n"
     ]
    },
    {
     "name": "stdout",
     "output_type": "stream",
     "text": [
      "Extracted from xnat to : ./pre-process-TRAIN/LUNG4-256/CT/ct_image.nrrd\n",
      "Extracted from xnat to : ./pre-process-TRAIN/LUNG4-271/GT/GTV-1.nrrd\n"
     ]
    },
    {
     "name": "stderr",
     "output_type": "stream",
     "text": [
      "100% of  38.6 MiB |################################| 144.3 MiB/s Time:  0:00:00\n",
      "100% of  38.4 KiB |################################|  36.5 MiB/s Time:  0:00:00\n"
     ]
    },
    {
     "name": "stdout",
     "output_type": "stream",
     "text": [
      "Extracted from xnat to : ./pre-process-TRAIN/LUNG4-271/CT/ct_image.nrrd\n",
      "Extracted from xnat to : ./pre-process-TRAIN/LUNG4-272/GT/GTV-1.nrrd\n"
     ]
    },
    {
     "name": "stderr",
     "output_type": "stream",
     "text": [
      "100% of  29.7 MiB |################################| 197.6 MiB/s Time:  0:00:00\n",
      "100% of  33.9 KiB |################################|  27.7 MiB/s Time:  0:00:00\n"
     ]
    },
    {
     "name": "stdout",
     "output_type": "stream",
     "text": [
      "Extracted from xnat to : ./pre-process-TRAIN/LUNG4-272/CT/ct_image.nrrd\n",
      "Extracted from xnat to : ./pre-process-TRAIN/LUNG4-278/GT/GTV-1.nrrd\n"
     ]
    },
    {
     "name": "stderr",
     "output_type": "stream",
     "text": [
      "100% of  31.9 MiB |################################| 199.4 MiB/s Time:  0:00:00\n",
      "100% of  46.5 KiB |################################|  34.1 MiB/s Time:  0:00:00\n"
     ]
    },
    {
     "name": "stdout",
     "output_type": "stream",
     "text": [
      "Extracted from xnat to : ./pre-process-TRAIN/LUNG4-278/CT/ct_image.nrrd\n",
      "Extracted from xnat to : ./pre-process-VALIDATE/LUNG4-281/GT/GTV-1.nrrd\n"
     ]
    },
    {
     "name": "stderr",
     "output_type": "stream",
     "text": [
      "100% of  41.4 MiB |################################| 200.8 MiB/s Time:  0:00:00\n",
      "100% of  34.2 KiB |################################|  28.8 MiB/s Time:  0:00:00\n"
     ]
    },
    {
     "name": "stdout",
     "output_type": "stream",
     "text": [
      "Extracted from xnat to : ./pre-process-VALIDATE/LUNG4-281/CT/ct_image.nrrd\n",
      "Extracted from xnat to : ./pre-process-VALIDATE/LUNG4-282/GT/GTV-1.nrrd\n"
     ]
    },
    {
     "name": "stderr",
     "output_type": "stream",
     "text": [
      "100% of  29.1 MiB |################################| 186.2 MiB/s Time:  0:00:00\n",
      "100% of  32.2 KiB |################################|  23.5 MiB/s Time:  0:00:00\n"
     ]
    },
    {
     "name": "stdout",
     "output_type": "stream",
     "text": [
      "Extracted from xnat to : ./pre-process-VALIDATE/LUNG4-282/CT/ct_image.nrrd\n",
      "Extracted from xnat to : ./pre-process-TRAIN/LUNG4-285/GT/GTV-1.nrrd\n"
     ]
    },
    {
     "name": "stderr",
     "output_type": "stream",
     "text": [
      "100% of  28.3 MiB |################################| 193.0 MiB/s Time:  0:00:00\n",
      "100% of  47.7 KiB |################################|  34.1 MiB/s Time:  0:00:00\n"
     ]
    },
    {
     "name": "stdout",
     "output_type": "stream",
     "text": [
      "Extracted from xnat to : ./pre-process-TRAIN/LUNG4-285/CT/ct_image.nrrd\n",
      "Extracted from xnat to : ./pre-process-TRAIN/LUNG4-287/GT/GTV-1.nrrd\n"
     ]
    },
    {
     "name": "stderr",
     "output_type": "stream",
     "text": [
      "100% of  43.4 MiB |################################| 197.4 MiB/s Time:  0:00:00\n",
      "100% of  49.8 KiB |################################|  36.0 MiB/s Time:  0:00:00\n"
     ]
    },
    {
     "name": "stdout",
     "output_type": "stream",
     "text": [
      "Extracted from xnat to : ./pre-process-TRAIN/LUNG4-287/CT/ct_image.nrrd\n",
      "Extracted from xnat to : ./pre-process-TRAIN/LUNG4-294/GT/GTV-1.nrrd\n"
     ]
    },
    {
     "name": "stderr",
     "output_type": "stream",
     "text": [
      "100% of  47.8 MiB |################################| 196.4 MiB/s Time:  0:00:00\n",
      "100% of  45.4 KiB |################################|  30.5 MiB/s Time:  0:00:00\n"
     ]
    },
    {
     "name": "stdout",
     "output_type": "stream",
     "text": [
      "Extracted from xnat to : ./pre-process-TRAIN/LUNG4-294/CT/ct_image.nrrd\n",
      "Extracted from xnat to : ./pre-process-TRAIN/LUNG4-295/GT/GTV-1.nrrd\n"
     ]
    },
    {
     "name": "stderr",
     "output_type": "stream",
     "text": [
      "100% of  35.6 MiB |################################| 197.1 MiB/s Time:  0:00:00\n",
      "100% of  51.9 KiB |################################|  38.0 MiB/s Time:  0:00:00\n"
     ]
    },
    {
     "name": "stdout",
     "output_type": "stream",
     "text": [
      "Extracted from xnat to : ./pre-process-TRAIN/LUNG4-295/CT/ct_image.nrrd\n",
      "Extracted from xnat to : ./pre-process-TRAIN/LUNG4-297/GT/GTV-1.nrrd\n"
     ]
    },
    {
     "name": "stderr",
     "output_type": "stream",
     "text": [
      "100% of  55.8 MiB |################################| 199.1 MiB/s Time:  0:00:00\n"
     ]
    },
    {
     "name": "stdout",
     "output_type": "stream",
     "text": [
      "Extracted from xnat to : ./pre-process-TRAIN/LUNG4-297/CT/ct_image.nrrd\n"
     ]
    },
    {
     "name": "stderr",
     "output_type": "stream",
     "text": [
      "100% of  35.5 KiB |################################|  25.9 MiB/s Time:  0:00:00\n",
      "100% of  33.3 KiB |################################|  22.9 MiB/s Time:  0:00:00\n",
      "  0% of  31.0 MiB |                                  |   0.0 s/B ETA:  --:--:--"
     ]
    },
    {
     "name": "stdout",
     "output_type": "stream",
     "text": [
      "Extracted from xnat to : ./pre-process-TRAIN/LUNG4-129/GT/GTV-1.nrrd\n",
      "Extracted from xnat to : ./pre-process-TRAIN/LUNG4-129/GT/GTV-2.nrrd\n"
     ]
    },
    {
     "name": "stderr",
     "output_type": "stream",
     "text": [
      "100% of  31.0 MiB |################################| 206.1 MiB/s Time:  0:00:00\n",
      "100% of  40.4 KiB |################################|  30.0 MiB/s Time:  0:00:00\n"
     ]
    },
    {
     "name": "stdout",
     "output_type": "stream",
     "text": [
      "Extracted from xnat to : ./pre-process-TRAIN/LUNG4-129/CT/ct_image.nrrd\n",
      "Extracted from xnat to : ./pre-process-TRAIN/LUNG4-130/GT/GTV-1.nrrd\n"
     ]
    },
    {
     "name": "stderr",
     "output_type": "stream",
     "text": [
      "100% of  28.9 MiB |################################| 202.6 MiB/s Time:  0:00:00\n",
      "100% of  36.4 KiB |################################|  26.1 MiB/s Time:  0:00:00\n"
     ]
    },
    {
     "name": "stdout",
     "output_type": "stream",
     "text": [
      "Extracted from xnat to : ./pre-process-TRAIN/LUNG4-130/CT/ct_image.nrrd\n",
      "Extracted from xnat to : ./pre-process-TRAIN/LUNG4-131/GT/GTV-1.nrrd\n"
     ]
    },
    {
     "name": "stderr",
     "output_type": "stream",
     "text": [
      "100% of  30.9 MiB |################################| 230.2 MiB/s Time:  0:00:00\n",
      "100% of  37.9 KiB |################################|  28.1 MiB/s Time:  0:00:00\n"
     ]
    },
    {
     "name": "stdout",
     "output_type": "stream",
     "text": [
      "Extracted from xnat to : ./pre-process-TRAIN/LUNG4-131/CT/ct_image.nrrd\n",
      "Extracted from xnat to : ./pre-process-TRAIN/LUNG4-136/GT/GTV-1.nrrd\n"
     ]
    },
    {
     "name": "stderr",
     "output_type": "stream",
     "text": [
      "100% of  30.4 MiB |################################| 170.5 MiB/s Time:  0:00:00\n",
      "100% of  36.7 KiB |################################|  29.0 MiB/s Time:  0:00:00\n"
     ]
    },
    {
     "name": "stdout",
     "output_type": "stream",
     "text": [
      "Extracted from xnat to : ./pre-process-TRAIN/LUNG4-136/CT/ct_image.nrrd\n",
      "Extracted from xnat to : ./pre-process-TRAIN/LUNG4-138/GT/GTV-1.nrrd\n"
     ]
    },
    {
     "name": "stderr",
     "output_type": "stream",
     "text": [
      "100% of  29.9 MiB |################################| 171.1 MiB/s Time:  0:00:00\n",
      "100% of  44.2 KiB |################################|  32.1 MiB/s Time:  0:00:00\n"
     ]
    },
    {
     "name": "stdout",
     "output_type": "stream",
     "text": [
      "Extracted from xnat to : ./pre-process-TRAIN/LUNG4-138/CT/ct_image.nrrd\n",
      "Extracted from xnat to : ./pre-process-VALIDATE/LUNG4-141/GT/GTV-1.nrrd\n"
     ]
    },
    {
     "name": "stderr",
     "output_type": "stream",
     "text": [
      "100% of  40.5 MiB |################################| 173.4 MiB/s Time:  0:00:00\n",
      "100% of  34.8 KiB |################################|  27.9 MiB/s Time:  0:00:00\n"
     ]
    },
    {
     "name": "stdout",
     "output_type": "stream",
     "text": [
      "Extracted from xnat to : ./pre-process-VALIDATE/LUNG4-141/CT/ct_image.nrrd\n",
      "Extracted from xnat to : ./pre-process-TRAIN/LUNG4-143/GT/GTV-1.nrrd\n"
     ]
    },
    {
     "name": "stderr",
     "output_type": "stream",
     "text": [
      "100% of  33.6 MiB |################################| 174.2 MiB/s Time:  0:00:00\n",
      "100% of  34.6 KiB |################################|  27.1 MiB/s Time:  0:00:00\n"
     ]
    },
    {
     "name": "stdout",
     "output_type": "stream",
     "text": [
      "Extracted from xnat to : ./pre-process-TRAIN/LUNG4-143/CT/ct_image.nrrd\n",
      "Extracted from xnat to : ./pre-process-TRAIN/LUNG4-147/GT/GTV-1.nrrd\n"
     ]
    },
    {
     "name": "stderr",
     "output_type": "stream",
     "text": [
      "100% of  29.3 MiB |################################| 164.2 MiB/s Time:  0:00:00\n",
      "100% of  43.9 KiB |################################|  33.2 MiB/s Time:  0:00:00\n"
     ]
    },
    {
     "name": "stdout",
     "output_type": "stream",
     "text": [
      "Extracted from xnat to : ./pre-process-TRAIN/LUNG4-147/CT/ct_image.nrrd\n",
      "Extracted from xnat to : ./pre-process-TRAIN/LUNG4-150/GT/GTV-1.nrrd\n"
     ]
    },
    {
     "name": "stderr",
     "output_type": "stream",
     "text": [
      "100% of  39.7 MiB |################################| 170.0 MiB/s Time:  0:00:00\n",
      "100% of  34.5 KiB |################################|  26.6 MiB/s Time:  0:00:00\n"
     ]
    },
    {
     "name": "stdout",
     "output_type": "stream",
     "text": [
      "Extracted from xnat to : ./pre-process-TRAIN/LUNG4-150/CT/ct_image.nrrd\n",
      "Extracted from xnat to : ./pre-process-VALIDATE/LUNG4-153/GT/GTV-1.nrrd\n"
     ]
    },
    {
     "name": "stderr",
     "output_type": "stream",
     "text": [
      "100% of  30.1 MiB |################################| 174.5 MiB/s Time:  0:00:00\n",
      "100% of  31.0 KiB |################################|  23.2 MiB/s Time:  0:00:00\n"
     ]
    },
    {
     "name": "stdout",
     "output_type": "stream",
     "text": [
      "Extracted from xnat to : ./pre-process-VALIDATE/LUNG4-153/CT/ct_image.nrrd\n",
      "Extracted from xnat to : ./pre-process-TRAIN/LUNG4-156/GT/GTV-1.nrrd\n"
     ]
    },
    {
     "name": "stderr",
     "output_type": "stream",
     "text": [
      "100% of  28.4 MiB |################################| 174.6 MiB/s Time:  0:00:00\n",
      "100% of  32.0 KiB |################################|  24.7 MiB/s Time:  0:00:00\n"
     ]
    },
    {
     "name": "stdout",
     "output_type": "stream",
     "text": [
      "Extracted from xnat to : ./pre-process-TRAIN/LUNG4-156/CT/ct_image.nrrd\n",
      "Extracted from xnat to : ./pre-process-VALIDATE/LUNG4-157/GT/GTV-1.nrrd\n"
     ]
    },
    {
     "name": "stderr",
     "output_type": "stream",
     "text": [
      "100% of  30.0 MiB |################################| 174.4 MiB/s Time:  0:00:00\n",
      "100% of  34.5 KiB |################################|  25.3 MiB/s Time:  0:00:00\n"
     ]
    },
    {
     "name": "stdout",
     "output_type": "stream",
     "text": [
      "Extracted from xnat to : ./pre-process-VALIDATE/LUNG4-157/CT/ct_image.nrrd\n",
      "Extracted from xnat to : ./pre-process-TRAIN/LUNG4-158/GT/GTV-1.nrrd\n"
     ]
    },
    {
     "name": "stderr",
     "output_type": "stream",
     "text": [
      "100% of  28.7 MiB |################################| 174.8 MiB/s Time:  0:00:00\n",
      "100% of  37.6 KiB |################################|  25.9 MiB/s Time:  0:00:00\n"
     ]
    },
    {
     "name": "stdout",
     "output_type": "stream",
     "text": [
      "Extracted from xnat to : ./pre-process-TRAIN/LUNG4-158/CT/ct_image.nrrd\n",
      "Extracted from xnat to : ./pre-process-TRAIN/LUNG4-164/GT/GTV-1.nrrd\n"
     ]
    },
    {
     "name": "stderr",
     "output_type": "stream",
     "text": [
      "100% of  28.3 MiB |################################| 177.9 MiB/s Time:  0:00:00\n",
      "100% of  42.2 KiB |################################|  29.0 MiB/s Time:  0:00:00\n"
     ]
    },
    {
     "name": "stdout",
     "output_type": "stream",
     "text": [
      "Extracted from xnat to : ./pre-process-TRAIN/LUNG4-164/CT/ct_image.nrrd\n",
      "Extracted from xnat to : ./pre-process-TRAIN/LUNG4-167/GT/GTV-1.nrrd\n"
     ]
    },
    {
     "name": "stderr",
     "output_type": "stream",
     "text": [
      "100% of  38.7 MiB |################################| 184.4 MiB/s Time:  0:00:00\n",
      "  0% of  31.4 MiB |                                  |   0.0 s/B ETA:  --:--:--"
     ]
    },
    {
     "name": "stdout",
     "output_type": "stream",
     "text": [
      "Extracted from xnat to : ./pre-process-TRAIN/LUNG4-167/CT/ct_image.nrrd\n"
     ]
    },
    {
     "name": "stderr",
     "output_type": "stream",
     "text": [
      "100% of  31.4 MiB |################################| 195.3 MiB/s Time:  0:00:00\n",
      "100% of  34.9 KiB |################################|  25.6 MiB/s Time:  0:00:00\n"
     ]
    },
    {
     "name": "stdout",
     "output_type": "stream",
     "text": [
      "Extracted from xnat to : ./pre-process-TRAIN/LUNG4-173/CT/ct_image.nrrd\n",
      "Extracted from xnat to : ./pre-process-TRAIN/LUNG4-173/GT/GTV-1.nrrd\n"
     ]
    },
    {
     "name": "stderr",
     "output_type": "stream",
     "text": [
      "100% of  35.0 KiB |################################|  25.4 MiB/s Time:  0:00:00\n",
      " 59% of  34.6 MiB |##################              | 201.9 MiB/s ETA:   0:00:00"
     ]
    },
    {
     "name": "stdout",
     "output_type": "stream",
     "text": [
      "Extracted from xnat to : ./pre-process-TRAIN/LUNG4-182/GT/GTV-1.nrrd\n"
     ]
    },
    {
     "name": "stderr",
     "output_type": "stream",
     "text": [
      "100% of  34.6 MiB |################################| 201.9 MiB/s Time:  0:00:00\n",
      "  0% of  39.6 MiB |                                  |   0.0 s/B ETA:  --:--:--"
     ]
    },
    {
     "name": "stdout",
     "output_type": "stream",
     "text": [
      "Extracted from xnat to : ./pre-process-TRAIN/LUNG4-182/CT/ct_image.nrrd\n"
     ]
    },
    {
     "name": "stderr",
     "output_type": "stream",
     "text": [
      "100% of  39.6 MiB |################################| 201.3 MiB/s Time:  0:00:00\n",
      "100% of  39.2 KiB |################################|  35.6 MiB/s Time:  0:00:00\n"
     ]
    },
    {
     "name": "stdout",
     "output_type": "stream",
     "text": [
      "Extracted from xnat to : ./pre-process-TRAIN/LUNG4-184/CT/ct_image.nrrd\n",
      "Extracted from xnat to : ./pre-process-TRAIN/LUNG4-184/GT/GTV-1.nrrd\n"
     ]
    },
    {
     "name": "stderr",
     "output_type": "stream",
     "text": [
      "100% of  34.3 KiB |################################|  24.6 MiB/s Time:  0:00:00\n",
      " 64% of  34.9 MiB |####################            | 223.0 MiB/s ETA:   0:00:00"
     ]
    },
    {
     "name": "stdout",
     "output_type": "stream",
     "text": [
      "Extracted from xnat to : ./pre-process-TRAIN/LUNG4-187/GT/GTV-1.nrrd\n"
     ]
    },
    {
     "name": "stderr",
     "output_type": "stream",
     "text": [
      "100% of  34.9 MiB |################################| 223.0 MiB/s Time:  0:00:00\n",
      "100% of  34.5 KiB |################################|  24.9 MiB/s Time:  0:00:00\n"
     ]
    },
    {
     "name": "stdout",
     "output_type": "stream",
     "text": [
      "Extracted from xnat to : ./pre-process-TRAIN/LUNG4-187/CT/ct_image.nrrd\n",
      "Extracted from xnat to : ./pre-process-TRAIN/LUNG4-188/GT/GTV-1.nrrd\n"
     ]
    },
    {
     "name": "stderr",
     "output_type": "stream",
     "text": [
      "100% of  34.6 MiB |################################| 199.6 MiB/s Time:  0:00:00\n",
      "100% of  43.7 KiB |################################|  31.6 MiB/s Time:  0:00:00\n"
     ]
    },
    {
     "name": "stdout",
     "output_type": "stream",
     "text": [
      "Extracted from xnat to : ./pre-process-TRAIN/LUNG4-188/CT/ct_image.nrrd\n",
      "Extracted from xnat to : ./pre-process-VALIDATE/LUNG4-189/GT/GTV-1.nrrd\n"
     ]
    },
    {
     "name": "stderr",
     "output_type": "stream",
     "text": [
      "100% of  41.2 MiB |################################| 142.0 MiB/s Time:  0:00:00\n",
      "100% of  33.5 KiB |################################|  25.7 MiB/s Time:  0:00:00\n"
     ]
    },
    {
     "name": "stdout",
     "output_type": "stream",
     "text": [
      "Extracted from xnat to : ./pre-process-VALIDATE/LUNG4-189/CT/ct_image.nrrd\n",
      "Extracted from xnat to : ./pre-process-TRAIN/LUNG4-193/GT/GTV-1.nrrd\n"
     ]
    },
    {
     "name": "stderr",
     "output_type": "stream",
     "text": [
      "100% of  32.1 MiB |################################| 149.1 MiB/s Time:  0:00:00\n",
      "  0% of  36.4 MiB |                                  |   0.0 s/B ETA:  --:--:--"
     ]
    },
    {
     "name": "stdout",
     "output_type": "stream",
     "text": [
      "Extracted from xnat to : ./pre-process-TRAIN/LUNG4-193/CT/ct_image.nrrd\n"
     ]
    },
    {
     "name": "stderr",
     "output_type": "stream",
     "text": [
      "100% of  36.4 MiB |################################| 181.9 MiB/s Time:  0:00:00\n",
      "100% of  34.9 KiB |################################|  26.8 MiB/s Time:  0:00:00\n"
     ]
    },
    {
     "name": "stdout",
     "output_type": "stream",
     "text": [
      "Extracted from xnat to : ./pre-process-TRAIN/LUNG4-192/CT/ct_image.nrrd\n",
      "Extracted from xnat to : ./pre-process-TRAIN/LUNG4-194/GT/GTV-1.nrrd\n"
     ]
    },
    {
     "name": "stderr",
     "output_type": "stream",
     "text": [
      "100% of  32.6 MiB |################################| 198.6 MiB/s Time:  0:00:00\n",
      "100% of  44.3 KiB |################################|  32.9 MiB/s Time:  0:00:00\n"
     ]
    },
    {
     "name": "stdout",
     "output_type": "stream",
     "text": [
      "Extracted from xnat to : ./pre-process-TRAIN/LUNG4-194/CT/ct_image.nrrd\n",
      "Extracted from xnat to : ./pre-process-TRAIN/LUNG4-196/GT/GTV-1.nrrd\n"
     ]
    },
    {
     "name": "stderr",
     "output_type": "stream",
     "text": [
      "100% of  44.0 MiB |################################| 185.8 MiB/s Time:  0:00:00\n",
      "100% of  37.9 KiB |################################|  27.6 MiB/s Time:  0:00:00\n"
     ]
    },
    {
     "name": "stdout",
     "output_type": "stream",
     "text": [
      "Extracted from xnat to : ./pre-process-TRAIN/LUNG4-196/CT/ct_image.nrrd\n",
      "Extracted from xnat to : ./pre-process-TRAIN/LUNG4-198/GT/GTV-1.nrrd\n"
     ]
    },
    {
     "name": "stderr",
     "output_type": "stream",
     "text": [
      "100% of  30.5 MiB |################################| 146.7 MiB/s Time:  0:00:00\n",
      "100% of  36.0 KiB |################################|  26.9 MiB/s Time:  0:00:00\n"
     ]
    },
    {
     "name": "stdout",
     "output_type": "stream",
     "text": [
      "Extracted from xnat to : ./pre-process-TRAIN/LUNG4-198/CT/ct_image.nrrd\n",
      "Extracted from xnat to : ./pre-process-VALIDATE/LUNG4-293/GT/GTV-1.nrrd\n"
     ]
    },
    {
     "name": "stderr",
     "output_type": "stream",
     "text": [
      "100% of  32.2 MiB |################################| 192.9 MiB/s Time:  0:00:00\n",
      "100% of  44.0 KiB |################################|  25.9 MiB/s Time:  0:00:00\n"
     ]
    },
    {
     "name": "stdout",
     "output_type": "stream",
     "text": [
      "Extracted from xnat to : ./pre-process-VALIDATE/LUNG4-293/CT/ct_image.nrrd\n",
      "Extracted from xnat to : ./pre-process-TRAIN/LUNG4-300/GT/GTV-1.nrrd\n"
     ]
    },
    {
     "name": "stderr",
     "output_type": "stream",
     "text": [
      "100% of  38.7 MiB |################################| 195.8 MiB/s Time:  0:00:00\n",
      "100% of  34.0 KiB |################################|  30.5 MiB/s Time:  0:00:00\n"
     ]
    },
    {
     "name": "stdout",
     "output_type": "stream",
     "text": [
      "Extracted from xnat to : ./pre-process-TRAIN/LUNG4-300/CT/ct_image.nrrd\n",
      "Extracted from xnat to : ./pre-process-TRAIN/LUNG4-134/GT/GTV-1.nrrd\n"
     ]
    },
    {
     "name": "stderr",
     "output_type": "stream",
     "text": [
      "100% of  29.8 MiB |################################| 211.8 MiB/s Time:  0:00:00\n",
      "100% of  43.9 KiB |################################|  32.9 MiB/s Time:  0:00:00\n"
     ]
    },
    {
     "name": "stdout",
     "output_type": "stream",
     "text": [
      "Extracted from xnat to : ./pre-process-TRAIN/LUNG4-134/CT/ct_image.nrrd\n",
      "Extracted from xnat to : ./pre-process-TRAIN/LUNG4-135/GT/GTV-1.nrrd\n"
     ]
    },
    {
     "name": "stderr",
     "output_type": "stream",
     "text": [
      "100% of  42.9 MiB |################################| 241.8 MiB/s Time:  0:00:00\n",
      "100% of  33.8 KiB |################################|  26.0 MiB/s Time:  0:00:00\n"
     ]
    },
    {
     "name": "stdout",
     "output_type": "stream",
     "text": [
      "Extracted from xnat to : ./pre-process-TRAIN/LUNG4-135/CT/ct_image.nrrd\n",
      "Extracted from xnat to : ./pre-process-TRAIN/LUNG4-137/GT/GTV-1.nrrd\n"
     ]
    },
    {
     "name": "stderr",
     "output_type": "stream",
     "text": [
      "100% of  31.6 MiB |################################| 266.9 MiB/s Time:  0:00:00\n",
      "100% of  35.4 KiB |################################|  26.3 MiB/s Time:  0:00:00\n"
     ]
    },
    {
     "name": "stdout",
     "output_type": "stream",
     "text": [
      "Extracted from xnat to : ./pre-process-TRAIN/LUNG4-137/CT/ct_image.nrrd\n",
      "Extracted from xnat to : ./pre-process-VALIDATE/LUNG4-139/GT/GTV-1.nrrd\n"
     ]
    },
    {
     "name": "stderr",
     "output_type": "stream",
     "text": [
      "100% of  34.1 MiB |################################| 220.4 MiB/s Time:  0:00:00\n",
      "100% of  37.5 KiB |################################|  27.3 MiB/s Time:  0:00:00\n"
     ]
    },
    {
     "name": "stdout",
     "output_type": "stream",
     "text": [
      "Extracted from xnat to : ./pre-process-VALIDATE/LUNG4-139/CT/ct_image.nrrd\n",
      "Extracted from xnat to : ./pre-process-VALIDATE/LUNG4-142/GT/GTV-1.nrrd\n"
     ]
    },
    {
     "name": "stderr",
     "output_type": "stream",
     "text": [
      "100% of  33.1 MiB |################################| 233.1 MiB/s Time:  0:00:00\n",
      "100% of  34.6 KiB |################################|  26.7 MiB/s Time:  0:00:00\n"
     ]
    },
    {
     "name": "stdout",
     "output_type": "stream",
     "text": [
      "Extracted from xnat to : ./pre-process-VALIDATE/LUNG4-142/CT/ct_image.nrrd\n",
      "Extracted from xnat to : ./pre-process-TRAIN/LUNG4-149/GT/GTV-1.nrrd\n"
     ]
    },
    {
     "name": "stderr",
     "output_type": "stream",
     "text": [
      "100% of  30.2 MiB |################################| 238.1 MiB/s Time:  0:00:00\n",
      "100% of  33.0 KiB |################################|  25.1 MiB/s Time:  0:00:00\n"
     ]
    },
    {
     "name": "stdout",
     "output_type": "stream",
     "text": [
      "Extracted from xnat to : ./pre-process-TRAIN/LUNG4-149/CT/ct_image.nrrd\n",
      "Extracted from xnat to : ./pre-process-TRAIN/LUNG4-145/GT/GTV-1.nrrd\n"
     ]
    },
    {
     "name": "stderr",
     "output_type": "stream",
     "text": [
      "100% of  32.0 MiB |################################| 218.3 MiB/s Time:  0:00:00\n",
      "100% of  33.4 KiB |################################|  26.4 MiB/s Time:  0:00:00\n"
     ]
    },
    {
     "name": "stdout",
     "output_type": "stream",
     "text": [
      "Extracted from xnat to : ./pre-process-TRAIN/LUNG4-145/CT/ct_image.nrrd\n",
      "Extracted from xnat to : ./pre-process-TRAIN/LUNG4-201/GT/GTV-1.nrrd\n"
     ]
    },
    {
     "name": "stderr",
     "output_type": "stream",
     "text": [
      "100% of  28.8 MiB |################################| 229.2 MiB/s Time:  0:00:00\n",
      "100% of  40.7 KiB |################################|  30.1 MiB/s Time:  0:00:00\n"
     ]
    },
    {
     "name": "stdout",
     "output_type": "stream",
     "text": [
      "Extracted from xnat to : ./pre-process-TRAIN/LUNG4-201/CT/ct_image.nrrd\n",
      "Extracted from xnat to : ./pre-process-VALIDATE/LUNG4-202/GT/GTV-1.nrrd\n"
     ]
    },
    {
     "name": "stderr",
     "output_type": "stream",
     "text": [
      "100% of  27.9 MiB |################################| 229.2 MiB/s Time:  0:00:00\n",
      "100% of  37.0 KiB |################################|  27.8 MiB/s Time:  0:00:00\n"
     ]
    },
    {
     "name": "stdout",
     "output_type": "stream",
     "text": [
      "Extracted from xnat to : ./pre-process-VALIDATE/LUNG4-202/CT/ct_image.nrrd\n",
      "Extracted from xnat to : ./pre-process-TRAIN/LUNG4-301/GT/GTV-1.nrrd\n"
     ]
    },
    {
     "name": "stderr",
     "output_type": "stream",
     "text": [
      "100% of  30.5 MiB |################################| 140.6 MiB/s Time:  0:00:00\n",
      "100% of  34.5 KiB |################################|  23.7 MiB/s Time:  0:00:00\n"
     ]
    },
    {
     "name": "stdout",
     "output_type": "stream",
     "text": [
      "Extracted from xnat to : ./pre-process-TRAIN/LUNG4-301/CT/ct_image.nrrd\n",
      "Extracted from xnat to : ./pre-process-TRAIN/LUNG4-302/GT/GTV-1.nrrd\n"
     ]
    },
    {
     "name": "stderr",
     "output_type": "stream",
     "text": [
      "100% of  31.7 MiB |################################| 197.5 MiB/s Time:  0:00:00\n",
      "100% of  39.4 KiB |################################|  28.6 MiB/s Time:  0:00:00\n"
     ]
    },
    {
     "name": "stdout",
     "output_type": "stream",
     "text": [
      "Extracted from xnat to : ./pre-process-TRAIN/LUNG4-302/CT/ct_image.nrrd\n",
      "Extracted from xnat to : ./pre-process-TRAIN/LUNG4-305/GT/GTV-1.nrrd\n"
     ]
    },
    {
     "name": "stderr",
     "output_type": "stream",
     "text": [
      "100% of  31.0 MiB |################################| 196.5 MiB/s Time:  0:00:00\n",
      "100% of  36.9 KiB |################################|  28.2 MiB/s Time:  0:00:00\n"
     ]
    },
    {
     "name": "stdout",
     "output_type": "stream",
     "text": [
      "Extracted from xnat to : ./pre-process-TRAIN/LUNG4-305/CT/ct_image.nrrd\n",
      "Extracted from xnat to : ./pre-process-TRAIN/LUNG4-307/GT/GTV-1.nrrd\n"
     ]
    },
    {
     "name": "stderr",
     "output_type": "stream",
     "text": [
      "100% of  33.3 MiB |################################| 193.5 MiB/s Time:  0:00:00\n",
      "100% of  34.5 KiB |################################|  24.8 MiB/s Time:  0:00:00\n"
     ]
    },
    {
     "name": "stdout",
     "output_type": "stream",
     "text": [
      "Extracted from xnat to : ./pre-process-TRAIN/LUNG4-307/CT/ct_image.nrrd\n",
      "Extracted from xnat to : ./pre-process-TRAIN/LUNG4-151/GT/GTV-1.nrrd\n"
     ]
    },
    {
     "name": "stderr",
     "output_type": "stream",
     "text": [
      "100% of  36.9 KiB |################################|  26.1 MiB/s Time:  0:00:00\n",
      " 60% of  33.2 MiB |###################             | 198.6 MiB/s ETA:   0:00:00"
     ]
    },
    {
     "name": "stdout",
     "output_type": "stream",
     "text": [
      "Extracted from xnat to : ./pre-process-TRAIN/LUNG4-151/GT/GTV-2.nrrd\n"
     ]
    },
    {
     "name": "stderr",
     "output_type": "stream",
     "text": [
      "100% of  33.2 MiB |################################| 198.6 MiB/s Time:  0:00:00\n",
      "100% of  35.5 KiB |################################|  26.4 MiB/s Time:  0:00:00\n"
     ]
    },
    {
     "name": "stdout",
     "output_type": "stream",
     "text": [
      "Extracted from xnat to : ./pre-process-TRAIN/LUNG4-151/CT/ct_image.nrrd\n",
      "Extracted from xnat to : ./pre-process-VALIDATE/LUNG4-159/GT/GTV-1.nrrd\n"
     ]
    },
    {
     "name": "stderr",
     "output_type": "stream",
     "text": [
      "100% of  33.3 MiB |################################| 198.2 MiB/s Time:  0:00:00\n",
      "100% of  35.8 KiB |################################|  27.3 MiB/s Time:  0:00:00\n"
     ]
    },
    {
     "name": "stdout",
     "output_type": "stream",
     "text": [
      "Extracted from xnat to : ./pre-process-VALIDATE/LUNG4-159/CT/ct_image.nrrd\n",
      "Extracted from xnat to : ./pre-process-VALIDATE/LUNG4-160/GT/GTV-1.nrrd\n"
     ]
    },
    {
     "name": "stderr",
     "output_type": "stream",
     "text": [
      "100% of  30.4 MiB |################################| 193.4 MiB/s Time:  0:00:00\n",
      "100% of  36.3 KiB |################################|  25.9 MiB/s Time:  0:00:00\n"
     ]
    },
    {
     "name": "stdout",
     "output_type": "stream",
     "text": [
      "Extracted from xnat to : ./pre-process-VALIDATE/LUNG4-160/CT/ct_image.nrrd\n",
      "Extracted from xnat to : ./pre-process-VALIDATE/LUNG4-162/GT/GTV-1.nrrd\n"
     ]
    },
    {
     "name": "stderr",
     "output_type": "stream",
     "text": [
      "100% of  36.8 MiB |################################| 191.8 MiB/s Time:  0:00:00\n",
      "100% of  41.7 KiB |################################|  30.8 MiB/s Time:  0:00:00\n"
     ]
    },
    {
     "name": "stdout",
     "output_type": "stream",
     "text": [
      "Extracted from xnat to : ./pre-process-VALIDATE/LUNG4-162/CT/ct_image.nrrd\n",
      "Extracted from xnat to : ./pre-process-TRAIN/LUNG4-168/GT/GTV-1.nrrd\n"
     ]
    },
    {
     "name": "stderr",
     "output_type": "stream",
     "text": [
      "100% of  28.7 MiB |################################| 197.8 MiB/s Time:  0:00:00\n",
      "100% of  39.5 KiB |################################|  27.7 MiB/s Time:  0:00:00\n"
     ]
    },
    {
     "name": "stdout",
     "output_type": "stream",
     "text": [
      "Extracted from xnat to : ./pre-process-TRAIN/LUNG4-168/CT/ct_image.nrrd\n",
      "Extracted from xnat to : ./pre-process-VALIDATE/LUNG4-169/GT/GTV-1.nrrd\n"
     ]
    },
    {
     "name": "stderr",
     "output_type": "stream",
     "text": [
      "100% of  29.8 MiB |################################| 198.1 MiB/s Time:  0:00:00\n",
      "100% of  35.0 KiB |################################|  25.6 MiB/s Time:  0:00:00\n"
     ]
    },
    {
     "name": "stdout",
     "output_type": "stream",
     "text": [
      "Extracted from xnat to : ./pre-process-VALIDATE/LUNG4-169/CT/ct_image.nrrd\n",
      "Extracted from xnat to : ./pre-process-TRAIN/LUNG4-172/GT/GTV-1.nrrd\n"
     ]
    },
    {
     "name": "stderr",
     "output_type": "stream",
     "text": [
      "100% of  30.5 MiB |################################| 133.6 MiB/s Time:  0:00:00\n",
      "100% of  28.7 KiB |################################|  21.7 MiB/s Time:  0:00:00\n"
     ]
    },
    {
     "name": "stdout",
     "output_type": "stream",
     "text": [
      "Extracted from xnat to : ./pre-process-TRAIN/LUNG4-172/CT/ct_image.nrrd\n",
      "Extracted from xnat to : ./pre-process-VALIDATE/LUNG4-175/GT/GTV-1.nrrd\n"
     ]
    },
    {
     "name": "stderr",
     "output_type": "stream",
     "text": [
      "100% of  26.5 MiB |################################| 191.5 MiB/s Time:  0:00:00\n",
      "100% of  36.8 KiB |################################|  31.4 MiB/s Time:  0:00:00\n"
     ]
    },
    {
     "name": "stdout",
     "output_type": "stream",
     "text": [
      "Extracted from xnat to : ./pre-process-VALIDATE/LUNG4-175/CT/ct_image.nrrd\n",
      "Extracted from xnat to : ./pre-process-TRAIN/LUNG4-179/GT/GTV-1.nrrd\n"
     ]
    },
    {
     "name": "stderr",
     "output_type": "stream",
     "text": [
      "100% of  30.5 MiB |################################| 198.2 MiB/s Time:  0:00:00\n",
      "100% of  37.6 KiB |################################|  28.6 MiB/s Time:  0:00:00\n"
     ]
    },
    {
     "name": "stdout",
     "output_type": "stream",
     "text": [
      "Extracted from xnat to : ./pre-process-TRAIN/LUNG4-179/CT/ct_image.nrrd\n",
      "Extracted from xnat to : ./pre-process-TRAIN/LUNG4-180/GT/GTV-1.nrrd\n"
     ]
    },
    {
     "name": "stderr",
     "output_type": "stream",
     "text": [
      "100% of  26.2 MiB |################################| 197.5 MiB/s Time:  0:00:00\n",
      "100% of  36.2 KiB |################################|  27.1 MiB/s Time:  0:00:00\n"
     ]
    },
    {
     "name": "stdout",
     "output_type": "stream",
     "text": [
      "Extracted from xnat to : ./pre-process-TRAIN/LUNG4-180/CT/ct_image.nrrd\n",
      "Extracted from xnat to : ./pre-process-TRAIN/LUNG4-195/GT/GTV-1.nrrd\n"
     ]
    },
    {
     "name": "stderr",
     "output_type": "stream",
     "text": [
      "100% of  33.8 KiB |################################|  26.7 MiB/s Time:  0:00:00\n",
      " 65% of  30.3 MiB |#####################           | 193.2 MiB/s ETA:   0:00:00"
     ]
    },
    {
     "name": "stdout",
     "output_type": "stream",
     "text": [
      "Extracted from xnat to : ./pre-process-TRAIN/LUNG4-195/GT/GTV-2.nrrd\n"
     ]
    },
    {
     "name": "stderr",
     "output_type": "stream",
     "text": [
      "100% of  30.3 MiB |################################| 193.2 MiB/s Time:  0:00:00\n",
      "100% of  40.6 KiB |################################|  32.8 MiB/s Time:  0:00:00\n"
     ]
    },
    {
     "name": "stdout",
     "output_type": "stream",
     "text": [
      "Extracted from xnat to : ./pre-process-TRAIN/LUNG4-195/CT/ct_image.nrrd\n",
      "Extracted from xnat to : ./pre-process-TRAIN/LUNG4-197/GT/GTV-1.nrrd\n"
     ]
    },
    {
     "name": "stderr",
     "output_type": "stream",
     "text": [
      "100% of  33.4 MiB |################################| 197.2 MiB/s Time:  0:00:00\n",
      "100% of  30.6 KiB |################################|  27.1 MiB/s Time:  0:00:00\n"
     ]
    },
    {
     "name": "stdout",
     "output_type": "stream",
     "text": [
      "Extracted from xnat to : ./pre-process-TRAIN/LUNG4-197/CT/ct_image.nrrd\n",
      "Extracted from xnat to : ./pre-process-TRAIN/LUNG4-199/GT/GTV-1.nrrd\n"
     ]
    },
    {
     "name": "stderr",
     "output_type": "stream",
     "text": [
      "100% of  27.3 MiB |################################| 198.8 MiB/s Time:  0:00:00\n",
      "100% of  39.3 KiB |################################|  30.6 MiB/s Time:  0:00:00\n"
     ]
    },
    {
     "name": "stdout",
     "output_type": "stream",
     "text": [
      "Extracted from xnat to : ./pre-process-TRAIN/LUNG4-199/CT/ct_image.nrrd\n",
      "Extracted from xnat to : ./pre-process-VALIDATE/LUNG4-203/GT/GTV-1.nrrd\n"
     ]
    },
    {
     "name": "stderr",
     "output_type": "stream",
     "text": [
      "100% of  31.4 MiB |################################| 192.2 MiB/s Time:  0:00:00\n",
      "100% of  40.9 KiB |################################|  34.7 MiB/s Time:  0:00:00\n"
     ]
    },
    {
     "name": "stdout",
     "output_type": "stream",
     "text": [
      "Extracted from xnat to : ./pre-process-VALIDATE/LUNG4-203/CT/ct_image.nrrd\n",
      "Extracted from xnat to : ./pre-process-TRAIN/LUNG4-204/GT/GTV-1.nrrd\n"
     ]
    },
    {
     "name": "stderr",
     "output_type": "stream",
     "text": [
      "100% of  36.8 MiB |################################| 191.2 MiB/s Time:  0:00:00\n",
      "100% of  34.8 KiB |################################|  25.8 MiB/s Time:  0:00:00\n"
     ]
    },
    {
     "name": "stdout",
     "output_type": "stream",
     "text": [
      "Extracted from xnat to : ./pre-process-TRAIN/LUNG4-204/CT/ct_image.nrrd\n",
      "Extracted from xnat to : ./pre-process-TRAIN/LUNG4-205/GT/GTV-1.nrrd\n"
     ]
    },
    {
     "name": "stderr",
     "output_type": "stream",
     "text": [
      "100% of  33.1 MiB |################################| 193.6 MiB/s Time:  0:00:00\n",
      "100% of  34.1 KiB |################################|  24.4 MiB/s Time:  0:00:00\n"
     ]
    },
    {
     "name": "stdout",
     "output_type": "stream",
     "text": [
      "Extracted from xnat to : ./pre-process-TRAIN/LUNG4-205/CT/ct_image.nrrd\n",
      "Extracted from xnat to : ./pre-process-TRAIN/LUNG4-206/GT/GTV-1.nrrd\n"
     ]
    },
    {
     "name": "stderr",
     "output_type": "stream",
     "text": [
      "100% of  35.8 MiB |################################| 193.8 MiB/s Time:  0:00:00\n",
      "100% of  35.0 KiB |################################|  29.4 MiB/s Time:  0:00:00\n"
     ]
    },
    {
     "name": "stdout",
     "output_type": "stream",
     "text": [
      "Extracted from xnat to : ./pre-process-TRAIN/LUNG4-206/CT/ct_image.nrrd\n",
      "Extracted from xnat to : ./pre-process-TRAIN/LUNG4-207/GT/GTV-1.nrrd\n"
     ]
    },
    {
     "name": "stderr",
     "output_type": "stream",
     "text": [
      "100% of  31.9 MiB |################################| 197.1 MiB/s Time:  0:00:00\n",
      "100% of  27.7 KiB |################################|  21.4 MiB/s Time:  0:00:00\n"
     ]
    },
    {
     "name": "stdout",
     "output_type": "stream",
     "text": [
      "Extracted from xnat to : ./pre-process-TRAIN/LUNG4-207/CT/ct_image.nrrd\n",
      "Extracted from xnat to : ./pre-process-VALIDATE/LUNG4-208/GT/GTV-1.nrrd\n"
     ]
    },
    {
     "name": "stderr",
     "output_type": "stream",
     "text": [
      "100% of  23.0 MiB |################################| 200.0 MiB/s Time:  0:00:00\n",
      "100% of  34.7 KiB |################################|  27.7 MiB/s Time:  0:00:00\n"
     ]
    },
    {
     "name": "stdout",
     "output_type": "stream",
     "text": [
      "Extracted from xnat to : ./pre-process-VALIDATE/LUNG4-208/CT/ct_image.nrrd\n",
      "Extracted from xnat to : ./pre-process-TRAIN/LUNG4-209/GT/GTV-1.nrrd\n"
     ]
    },
    {
     "name": "stderr",
     "output_type": "stream",
     "text": [
      "100% of  27.3 MiB |################################| 188.4 MiB/s Time:  0:00:00\n",
      "100% of  34.6 KiB |################################|  26.9 MiB/s Time:  0:00:00\n"
     ]
    },
    {
     "name": "stdout",
     "output_type": "stream",
     "text": [
      "Extracted from xnat to : ./pre-process-TRAIN/LUNG4-209/CT/ct_image.nrrd\n",
      "Extracted from xnat to : ./pre-process-TRAIN/LUNG4-210/GT/GTV-1.nrrd\n"
     ]
    },
    {
     "name": "stderr",
     "output_type": "stream",
     "text": [
      "100% of  39.1 MiB |################################| 190.7 MiB/s Time:  0:00:00\n",
      "100% of  38.3 KiB |################################|  29.3 MiB/s Time:  0:00:00\n"
     ]
    },
    {
     "name": "stdout",
     "output_type": "stream",
     "text": [
      "Extracted from xnat to : ./pre-process-TRAIN/LUNG4-210/CT/ct_image.nrrd\n",
      "Extracted from xnat to : ./pre-process-VALIDATE/LUNG4-303/GT/GTV-1.nrrd\n"
     ]
    },
    {
     "name": "stderr",
     "output_type": "stream",
     "text": [
      "100% of  32.0 MiB |################################| 198.9 MiB/s Time:  0:00:00\n",
      "100% of  40.7 KiB |################################|  34.6 MiB/s Time:  0:00:00\n"
     ]
    },
    {
     "name": "stdout",
     "output_type": "stream",
     "text": [
      "Extracted from xnat to : ./pre-process-VALIDATE/LUNG4-303/CT/ct_image.nrrd\n",
      "Extracted from xnat to : ./pre-process-TRAIN/LUNG4-304/GT/GTV-1.nrrd\n"
     ]
    },
    {
     "name": "stderr",
     "output_type": "stream",
     "text": [
      "100% of  32.3 MiB |################################| 197.8 MiB/s Time:  0:00:00\n",
      "100% of  52.2 KiB |################################|  37.2 MiB/s Time:  0:00:00\n"
     ]
    },
    {
     "name": "stdout",
     "output_type": "stream",
     "text": [
      "Extracted from xnat to : ./pre-process-TRAIN/LUNG4-304/CT/ct_image.nrrd\n",
      "Extracted from xnat to : ./pre-process-TRAIN/LUNG4-310/GT/GTV-1.nrrd\n"
     ]
    },
    {
     "name": "stderr",
     "output_type": "stream",
     "text": [
      "100% of  53.1 MiB |################################| 191.7 MiB/s Time:  0:00:00\n",
      "100% of  35.7 KiB |################################|  26.4 MiB/s Time:  0:00:00\n"
     ]
    },
    {
     "name": "stdout",
     "output_type": "stream",
     "text": [
      "Extracted from xnat to : ./pre-process-TRAIN/LUNG4-310/CT/ct_image.nrrd\n",
      "Extracted from xnat to : ./pre-process-TRAIN/LUNG4-314/GT/GTV-1.nrrd\n"
     ]
    },
    {
     "name": "stderr",
     "output_type": "stream",
     "text": [
      "100% of  28.5 MiB |################################| 192.2 MiB/s Time:  0:00:00\n",
      "100% of  37.3 KiB |################################|  28.5 MiB/s Time:  0:00:00\n"
     ]
    },
    {
     "name": "stdout",
     "output_type": "stream",
     "text": [
      "Extracted from xnat to : ./pre-process-TRAIN/LUNG4-314/CT/ct_image.nrrd\n",
      "Extracted from xnat to : ./pre-process-TRAIN/LUNG4-319/GT/GTV-1.nrrd\n"
     ]
    },
    {
     "name": "stderr",
     "output_type": "stream",
     "text": [
      "100% of  29.6 MiB |################################| 154.5 MiB/s Time:  0:00:00\n",
      "100% of  33.5 KiB |################################|  24.3 MiB/s Time:  0:00:00\n"
     ]
    },
    {
     "name": "stdout",
     "output_type": "stream",
     "text": [
      "Extracted from xnat to : ./pre-process-TRAIN/LUNG4-319/CT/ct_image.nrrd\n",
      "Extracted from xnat to : ./pre-process-TRAIN/LUNG4-321/GT/GTV-1.nrrd\n"
     ]
    },
    {
     "name": "stderr",
     "output_type": "stream",
     "text": [
      "100% of  30.2 MiB |################################| 148.2 MiB/s Time:  0:00:00\n",
      "100% of  39.7 KiB |################################|  29.3 MiB/s Time:  0:00:00\n"
     ]
    },
    {
     "name": "stdout",
     "output_type": "stream",
     "text": [
      "Extracted from xnat to : ./pre-process-TRAIN/LUNG4-321/CT/ct_image.nrrd\n",
      "Extracted from xnat to : ./pre-process-TRAIN/LUNG4-323/GT/GTV-1.nrrd\n"
     ]
    },
    {
     "name": "stderr",
     "output_type": "stream",
     "text": [
      "100% of  44.9 MiB |################################| 196.6 MiB/s Time:  0:00:00\n",
      "100% of  44.3 KiB |################################|  33.2 MiB/s Time:  0:00:00\n"
     ]
    },
    {
     "name": "stdout",
     "output_type": "stream",
     "text": [
      "Extracted from xnat to : ./pre-process-TRAIN/LUNG4-323/CT/ct_image.nrrd\n",
      "Extracted from xnat to : ./pre-process-TRAIN/LUNG4-326/GT/GTV-1.nrrd\n"
     ]
    },
    {
     "name": "stderr",
     "output_type": "stream",
     "text": [
      "100% of  41.8 MiB |################################| 197.3 MiB/s Time:  0:00:00\n",
      "100% of  35.6 KiB |################################|  22.8 MiB/s Time:  0:00:00\n"
     ]
    },
    {
     "name": "stdout",
     "output_type": "stream",
     "text": [
      "Extracted from xnat to : ./pre-process-TRAIN/LUNG4-326/CT/ct_image.nrrd\n",
      "Extracted from xnat to : ./pre-process-TRAIN/LUNG4-327/GT/GTV-1.nrrd\n"
     ]
    },
    {
     "name": "stderr",
     "output_type": "stream",
     "text": [
      "100% of  29.1 MiB |################################| 185.5 MiB/s Time:  0:00:00\n",
      "100% of  48.4 KiB |################################|  36.9 MiB/s Time:  0:00:00\n"
     ]
    },
    {
     "name": "stdout",
     "output_type": "stream",
     "text": [
      "Extracted from xnat to : ./pre-process-TRAIN/LUNG4-327/CT/ct_image.nrrd\n",
      "Extracted from xnat to : ./pre-process-VALIDATE/LUNG4-330/GT/GTV-1.nrrd\n"
     ]
    },
    {
     "name": "stderr",
     "output_type": "stream",
     "text": [
      "100% of  41.0 MiB |################################| 188.5 MiB/s Time:  0:00:00\n",
      "  0% of  31.8 MiB |                                  |   0.0 s/B ETA:  --:--:--"
     ]
    },
    {
     "name": "stdout",
     "output_type": "stream",
     "text": [
      "Extracted from xnat to : ./pre-process-VALIDATE/LUNG4-330/CT/ct_image.nrrd\n"
     ]
    },
    {
     "name": "stderr",
     "output_type": "stream",
     "text": [
      "100% of  31.8 MiB |################################| 187.7 MiB/s Time:  0:00:00\n",
      "100% of  38.7 KiB |################################|  31.5 MiB/s Time:  0:00:00\n"
     ]
    },
    {
     "name": "stdout",
     "output_type": "stream",
     "text": [
      "Extracted from xnat to : ./pre-process-TRAIN/LUNG4-336/CT/ct_image.nrrd\n",
      "Extracted from xnat to : ./pre-process-TRAIN/LUNG4-336/GT/GTV-1.nrrd\n"
     ]
    },
    {
     "name": "stderr",
     "output_type": "stream",
     "text": [
      "100% of  32.5 MiB |################################| 198.2 MiB/s Time:  0:00:00\n",
      "100% of  47.4 KiB |################################|  39.8 MiB/s Time:  0:00:00\n"
     ]
    },
    {
     "name": "stdout",
     "output_type": "stream",
     "text": [
      "Extracted from xnat to : ./pre-process-TRAIN/LUNG4-355/CT/ct_image.nrrd\n",
      "Extracted from xnat to : ./pre-process-TRAIN/LUNG4-355/GT/GTV-1.nrrd\n"
     ]
    },
    {
     "name": "stderr",
     "output_type": "stream",
     "text": [
      "100% of  40.7 KiB |################################|  32.4 MiB/s Time:  0:00:00\n",
      " 56% of  35.2 MiB |##################              | 190.6 MiB/s ETA:   0:00:00"
     ]
    },
    {
     "name": "stdout",
     "output_type": "stream",
     "text": [
      "Extracted from xnat to : ./pre-process-VALIDATE/LUNG4-339/GT/GTV-1.nrrd\n"
     ]
    },
    {
     "name": "stderr",
     "output_type": "stream",
     "text": [
      "100% of  35.2 MiB |################################| 190.6 MiB/s Time:  0:00:00\n",
      "100% of  45.1 KiB |################################|  33.0 MiB/s Time:  0:00:00\n"
     ]
    },
    {
     "name": "stdout",
     "output_type": "stream",
     "text": [
      "Extracted from xnat to : ./pre-process-VALIDATE/LUNG4-339/CT/ct_image.nrrd\n",
      "Extracted from xnat to : ./pre-process-VALIDATE/LUNG4-334/GT/GTV-1.nrrd\n"
     ]
    },
    {
     "name": "stderr",
     "output_type": "stream",
     "text": [
      "100% of  36.4 MiB |################################| 192.2 MiB/s Time:  0:00:00\n",
      "100% of  47.0 KiB |################################|  32.9 MiB/s Time:  0:00:00\n"
     ]
    },
    {
     "name": "stdout",
     "output_type": "stream",
     "text": [
      "Extracted from xnat to : ./pre-process-VALIDATE/LUNG4-334/CT/ct_image.nrrd\n",
      "Extracted from xnat to : ./pre-process-TRAIN/LUNG4-341/GT/GTV-1.nrrd\n"
     ]
    },
    {
     "name": "stderr",
     "output_type": "stream",
     "text": [
      "100% of  41.1 MiB |################################| 200.5 MiB/s Time:  0:00:00\n",
      "100% of  41.3 KiB |################################|  34.2 MiB/s Time:  0:00:00\n"
     ]
    },
    {
     "name": "stdout",
     "output_type": "stream",
     "text": [
      "Extracted from xnat to : ./pre-process-TRAIN/LUNG4-341/CT/ct_image.nrrd\n",
      "Extracted from xnat to : ./pre-process-TRAIN/LUNG4-338/GT/GTV-1.nrrd\n"
     ]
    },
    {
     "name": "stderr",
     "output_type": "stream",
     "text": [
      "100% of  31.6 MiB |################################| 195.3 MiB/s Time:  0:00:00\n",
      "100% of  36.9 KiB |################################|  25.2 MiB/s Time:  0:00:00\n"
     ]
    },
    {
     "name": "stdout",
     "output_type": "stream",
     "text": [
      "Extracted from xnat to : ./pre-process-TRAIN/LUNG4-338/CT/ct_image.nrrd\n",
      "Extracted from xnat to : ./pre-process-TRAIN/LUNG4-345/GT/GTV-1.nrrd\n"
     ]
    },
    {
     "name": "stderr",
     "output_type": "stream",
     "text": [
      "100% of  31.4 MiB |################################| 199.6 MiB/s Time:  0:00:00\n",
      "100% of  45.5 KiB |################################|  36.7 MiB/s Time:  0:00:00\n"
     ]
    },
    {
     "name": "stdout",
     "output_type": "stream",
     "text": [
      "Extracted from xnat to : ./pre-process-TRAIN/LUNG4-345/CT/ct_image.nrrd\n",
      "Extracted from xnat to : ./pre-process-VALIDATE/LUNG4-344/GT/GTV-1.nrrd\n"
     ]
    },
    {
     "name": "stderr",
     "output_type": "stream",
     "text": [
      "100% of  41.4 MiB |################################| 189.1 MiB/s Time:  0:00:00\n",
      "100% of  38.6 KiB |################################|  33.2 MiB/s Time:  0:00:00\n"
     ]
    },
    {
     "name": "stdout",
     "output_type": "stream",
     "text": [
      "Extracted from xnat to : ./pre-process-VALIDATE/LUNG4-344/CT/ct_image.nrrd\n",
      "Extracted from xnat to : ./pre-process-TRAIN/LUNG4-340/GT/GTV-1.nrrd\n"
     ]
    },
    {
     "name": "stderr",
     "output_type": "stream",
     "text": [
      "100% of  34.9 MiB |################################| 188.2 MiB/s Time:  0:00:00\n",
      "100% of  47.8 KiB |################################|  37.5 MiB/s Time:  0:00:00\n"
     ]
    },
    {
     "name": "stdout",
     "output_type": "stream",
     "text": [
      "Extracted from xnat to : ./pre-process-TRAIN/LUNG4-340/CT/ct_image.nrrd\n",
      "Extracted from xnat to : ./pre-process-TRAIN/LUNG4-366/GT/GTV-1.nrrd\n"
     ]
    },
    {
     "name": "stderr",
     "output_type": "stream",
     "text": [
      "100% of  48.1 KiB |################################|  40.9 MiB/s Time:  0:00:00\n",
      " 49% of  40.0 MiB |###############                 | 198.9 MiB/s ETA:   0:00:00"
     ]
    },
    {
     "name": "stdout",
     "output_type": "stream",
     "text": [
      "Extracted from xnat to : ./pre-process-TRAIN/LUNG4-366/GT/GTV-2.nrrd\n"
     ]
    },
    {
     "name": "stderr",
     "output_type": "stream",
     "text": [
      "100% of  40.0 MiB |################################| 198.9 MiB/s Time:  0:00:00\n",
      "100% of  29.0 KiB |################################|  21.8 MiB/s Time:  0:00:00\n"
     ]
    },
    {
     "name": "stdout",
     "output_type": "stream",
     "text": [
      "Extracted from xnat to : ./pre-process-TRAIN/LUNG4-366/CT/ct_image.nrrd\n",
      "Extracted from xnat to : ./pre-process-TRAIN/LUNG4-371/GT/GTV-1.nrrd\n"
     ]
    },
    {
     "name": "stderr",
     "output_type": "stream",
     "text": [
      "100% of  27.7 MiB |################################| 190.2 MiB/s Time:  0:00:00\n",
      "100% of  33.0 KiB |################################|  23.7 MiB/s Time:  0:00:00\n"
     ]
    },
    {
     "name": "stdout",
     "output_type": "stream",
     "text": [
      "Extracted from xnat to : ./pre-process-TRAIN/LUNG4-371/CT/ct_image.nrrd\n",
      "Extracted from xnat to : ./pre-process-TRAIN/LUNG4-378/GT/GTV-1.nrrd\n"
     ]
    },
    {
     "name": "stderr",
     "output_type": "stream",
     "text": [
      "100% of  29.0 MiB |################################| 190.2 MiB/s Time:  0:00:00\n",
      "100% of  34.9 KiB |################################|  24.2 MiB/s Time:  0:00:00\n"
     ]
    },
    {
     "name": "stdout",
     "output_type": "stream",
     "text": [
      "Extracted from xnat to : ./pre-process-TRAIN/LUNG4-378/CT/ct_image.nrrd\n",
      "Extracted from xnat to : ./pre-process-TRAIN/LUNG4-382/GT/GTV-1.nrrd\n"
     ]
    },
    {
     "name": "stderr",
     "output_type": "stream",
     "text": [
      "100% of  31.2 MiB |################################| 188.4 MiB/s Time:  0:00:00\n",
      "100% of  34.1 KiB |################################|  25.4 MiB/s Time:  0:00:00\n"
     ]
    },
    {
     "name": "stdout",
     "output_type": "stream",
     "text": [
      "Extracted from xnat to : ./pre-process-TRAIN/LUNG4-382/CT/ct_image.nrrd\n",
      "Extracted from xnat to : ./pre-process-TRAIN/LUNG4-383/GT/GTV-1.nrrd\n"
     ]
    },
    {
     "name": "stderr",
     "output_type": "stream",
     "text": [
      "100% of  33.5 MiB |################################| 194.8 MiB/s Time:  0:00:00\n",
      "100% of  35.3 KiB |################################|  25.0 MiB/s Time:  0:00:00\n"
     ]
    },
    {
     "name": "stdout",
     "output_type": "stream",
     "text": [
      "Extracted from xnat to : ./pre-process-TRAIN/LUNG4-383/CT/ct_image.nrrd\n",
      "Extracted from xnat to : ./pre-process-VALIDATE/LUNG4-387/GT/GTV-1.nrrd\n"
     ]
    },
    {
     "name": "stderr",
     "output_type": "stream",
     "text": [
      "100% of  28.9 MiB |################################| 195.3 MiB/s Time:  0:00:00\n",
      "100% of  43.6 KiB |################################|  32.3 MiB/s Time:  0:00:00\n"
     ]
    },
    {
     "name": "stdout",
     "output_type": "stream",
     "text": [
      "Extracted from xnat to : ./pre-process-VALIDATE/LUNG4-387/CT/ct_image.nrrd\n",
      "Extracted from xnat to : ./pre-process-TRAIN/LUNG4-390/GT/GTV-1.nrrd\n"
     ]
    },
    {
     "name": "stderr",
     "output_type": "stream",
     "text": [
      "100% of  39.6 MiB |################################| 193.1 MiB/s Time:  0:00:00\n",
      "100% of  35.3 KiB |################################|  25.8 MiB/s Time:  0:00:00\n"
     ]
    },
    {
     "name": "stdout",
     "output_type": "stream",
     "text": [
      "Extracted from xnat to : ./pre-process-TRAIN/LUNG4-390/CT/ct_image.nrrd\n",
      "Extracted from xnat to : ./pre-process-TRAIN/LUNG4-152/GT/GTV-1.nrrd\n"
     ]
    },
    {
     "name": "stderr",
     "output_type": "stream",
     "text": [
      "100% of  29.1 MiB |################################| 193.1 MiB/s Time:  0:00:00\n",
      "100% of  34.4 KiB |################################|  25.5 MiB/s Time:  0:00:00\n"
     ]
    },
    {
     "name": "stdout",
     "output_type": "stream",
     "text": [
      "Extracted from xnat to : ./pre-process-TRAIN/LUNG4-152/CT/ct_image.nrrd\n",
      "Extracted from xnat to : ./pre-process-TRAIN/LUNG4-171/GT/GTV-1.nrrd\n"
     ]
    },
    {
     "name": "stderr",
     "output_type": "stream",
     "text": [
      "100% of  31.3 MiB |################################| 198.8 MiB/s Time:  0:00:00\n",
      "100% of  36.4 KiB |################################|  31.2 MiB/s Time:  0:00:00\n"
     ]
    },
    {
     "name": "stdout",
     "output_type": "stream",
     "text": [
      "Extracted from xnat to : ./pre-process-TRAIN/LUNG4-171/CT/ct_image.nrrd\n",
      "Extracted from xnat to : ./pre-process-TRAIN/LUNG4-174/GT/GTV-1.nrrd\n"
     ]
    },
    {
     "name": "stderr",
     "output_type": "stream",
     "text": [
      "100% of  32.8 MiB |################################| 194.1 MiB/s Time:  0:00:00\n",
      "100% of  31.9 KiB |################################|  24.1 MiB/s Time:  0:00:00\n"
     ]
    },
    {
     "name": "stdout",
     "output_type": "stream",
     "text": [
      "Extracted from xnat to : ./pre-process-TRAIN/LUNG4-174/CT/ct_image.nrrd\n",
      "Extracted from xnat to : ./pre-process-TRAIN/LUNG4-178/GT/GTV-1.nrrd\n"
     ]
    },
    {
     "name": "stderr",
     "output_type": "stream",
     "text": [
      "100% of  27.0 MiB |################################| 191.8 MiB/s Time:  0:00:00\n",
      "100% of  34.7 KiB |################################|  24.5 MiB/s Time:  0:00:00\n"
     ]
    },
    {
     "name": "stdout",
     "output_type": "stream",
     "text": [
      "Extracted from xnat to : ./pre-process-TRAIN/LUNG4-178/CT/ct_image.nrrd\n",
      "Extracted from xnat to : ./pre-process-TRAIN/LUNG4-181/GT/GTV-1.nrrd\n"
     ]
    },
    {
     "name": "stderr",
     "output_type": "stream",
     "text": [
      "100% of  39.8 MiB |################################| 190.8 MiB/s Time:  0:00:00\n",
      "100% of  38.4 KiB |################################|  28.1 MiB/s Time:  0:00:00\n"
     ]
    },
    {
     "name": "stdout",
     "output_type": "stream",
     "text": [
      "Extracted from xnat to : ./pre-process-TRAIN/LUNG4-181/CT/ct_image.nrrd\n",
      "Extracted from xnat to : ./pre-process-TRAIN/LUNG4-183/GT/GTV-1.nrrd\n"
     ]
    },
    {
     "name": "stderr",
     "output_type": "stream",
     "text": [
      "100% of  29.7 MiB |################################| 189.9 MiB/s Time:  0:00:00\n",
      "100% of  43.3 KiB |################################|  32.9 MiB/s Time:  0:00:00\n"
     ]
    },
    {
     "name": "stdout",
     "output_type": "stream",
     "text": [
      "Extracted from xnat to : ./pre-process-TRAIN/LUNG4-183/CT/ct_image.nrrd\n",
      "Extracted from xnat to : ./pre-process-TRAIN/LUNG4-185/GT/GTV-1.nrrd\n"
     ]
    },
    {
     "name": "stderr",
     "output_type": "stream",
     "text": [
      "100% of  42.4 MiB |################################| 189.4 MiB/s Time:  0:00:00\n",
      "100% of  29.4 KiB |################################|  22.5 MiB/s Time:  0:00:00\n"
     ]
    },
    {
     "name": "stdout",
     "output_type": "stream",
     "text": [
      "Extracted from xnat to : ./pre-process-TRAIN/LUNG4-185/CT/ct_image.nrrd\n",
      "Extracted from xnat to : ./pre-process-VALIDATE/LUNG4-186/GT/GTV-1.nrrd\n"
     ]
    },
    {
     "name": "stderr",
     "output_type": "stream",
     "text": [
      "100% of  27.9 MiB |################################| 197.2 MiB/s Time:  0:00:00\n",
      "100% of  33.7 KiB |################################|  26.8 MiB/s Time:  0:00:00\n"
     ]
    },
    {
     "name": "stdout",
     "output_type": "stream",
     "text": [
      "Extracted from xnat to : ./pre-process-VALIDATE/LUNG4-186/CT/ct_image.nrrd\n",
      "Extracted from xnat to : ./pre-process-VALIDATE/LUNG4-200/GT/GTV-1.nrrd\n"
     ]
    },
    {
     "name": "stderr",
     "output_type": "stream",
     "text": [
      "100% of  30.5 MiB |################################| 199.1 MiB/s Time:  0:00:00\n",
      "100% of  34.2 KiB |################################|  25.6 MiB/s Time:  0:00:00\n"
     ]
    },
    {
     "name": "stdout",
     "output_type": "stream",
     "text": [
      "Extracted from xnat to : ./pre-process-VALIDATE/LUNG4-200/CT/ct_image.nrrd\n",
      "Extracted from xnat to : ./pre-process-TRAIN/LUNG4-191/GT/GTV-1.nrrd\n"
     ]
    },
    {
     "name": "stderr",
     "output_type": "stream",
     "text": [
      "100% of  34.0 MiB |################################| 192.4 MiB/s Time:  0:00:00\n",
      "100% of  35.7 KiB |################################|  26.4 MiB/s Time:  0:00:00\n"
     ]
    },
    {
     "name": "stdout",
     "output_type": "stream",
     "text": [
      "Extracted from xnat to : ./pre-process-TRAIN/LUNG4-191/CT/ct_image.nrrd\n",
      "Extracted from xnat to : ./pre-process-TRAIN/LUNG4-308/GT/GTV-1.nrrd\n"
     ]
    },
    {
     "name": "stderr",
     "output_type": "stream",
     "text": [
      "100% of  33.1 MiB |################################| 198.8 MiB/s Time:  0:00:00\n",
      "100% of  46.6 KiB |################################|  31.3 MiB/s Time:  0:00:00\n"
     ]
    },
    {
     "name": "stdout",
     "output_type": "stream",
     "text": [
      "Extracted from xnat to : ./pre-process-TRAIN/LUNG4-308/CT/ct_image.nrrd\n",
      "Extracted from xnat to : ./pre-process-TRAIN/LUNG4-316/GT/GTV-1.nrrd\n"
     ]
    },
    {
     "name": "stderr",
     "output_type": "stream",
     "text": [
      "100% of  43.1 MiB |################################| 198.3 MiB/s Time:  0:00:00\n",
      "100% of  36.7 KiB |################################|  33.1 MiB/s Time:  0:00:00\n"
     ]
    },
    {
     "name": "stdout",
     "output_type": "stream",
     "text": [
      "Extracted from xnat to : ./pre-process-TRAIN/LUNG4-316/CT/ct_image.nrrd\n",
      "Extracted from xnat to : ./pre-process-VALIDATE/LUNG4-317/GT/GTV-1.nrrd\n"
     ]
    },
    {
     "name": "stderr",
     "output_type": "stream",
     "text": [
      "100% of  27.6 MiB |################################| 193.0 MiB/s Time:  0:00:00\n",
      "100% of  46.7 KiB |################################|  33.7 MiB/s Time:  0:00:00\n"
     ]
    },
    {
     "name": "stdout",
     "output_type": "stream",
     "text": [
      "Extracted from xnat to : ./pre-process-VALIDATE/LUNG4-317/CT/ct_image.nrrd\n",
      "Extracted from xnat to : ./pre-process-VALIDATE/LUNG4-322/GT/GTV-1.nrrd\n"
     ]
    },
    {
     "name": "stderr",
     "output_type": "stream",
     "text": [
      "100% of  45.4 MiB |################################| 192.4 MiB/s Time:  0:00:00\n",
      "100% of  51.3 KiB |################################|  40.6 MiB/s Time:  0:00:00\n"
     ]
    },
    {
     "name": "stdout",
     "output_type": "stream",
     "text": [
      "Extracted from xnat to : ./pre-process-VALIDATE/LUNG4-322/CT/ct_image.nrrd\n",
      "Extracted from xnat to : ./pre-process-VALIDATE/LUNG4-325/GT/GTV-1.nrrd\n"
     ]
    },
    {
     "name": "stderr",
     "output_type": "stream",
     "text": [
      "100% of  45.6 MiB |################################| 189.9 MiB/s Time:  0:00:00\n",
      "100% of  43.2 KiB |################################|  33.6 MiB/s Time:  0:00:00\n"
     ]
    },
    {
     "name": "stdout",
     "output_type": "stream",
     "text": [
      "Extracted from xnat to : ./pre-process-VALIDATE/LUNG4-325/CT/ct_image.nrrd\n",
      "Extracted from xnat to : ./pre-process-TRAIN/LUNG4-328/GT/GTV-1.nrrd\n"
     ]
    },
    {
     "name": "stderr",
     "output_type": "stream",
     "text": [
      "100% of  40.0 MiB |################################| 195.1 MiB/s Time:  0:00:00\n",
      "100% of  35.0 KiB |################################|  33.1 MiB/s Time:  0:00:00\n"
     ]
    },
    {
     "name": "stdout",
     "output_type": "stream",
     "text": [
      "Extracted from xnat to : ./pre-process-TRAIN/LUNG4-328/CT/ct_image.nrrd\n",
      "Extracted from xnat to : ./pre-process-TRAIN/LUNG4-331/GT/GTV-1.nrrd\n"
     ]
    },
    {
     "name": "stderr",
     "output_type": "stream",
     "text": [
      "100% of  27.1 MiB |################################| 197.6 MiB/s Time:  0:00:00\n",
      "100% of  20.6 KiB |################################|  14.8 MiB/s Time:  0:00:00\n"
     ]
    },
    {
     "name": "stdout",
     "output_type": "stream",
     "text": [
      "Extracted from xnat to : ./pre-process-TRAIN/LUNG4-331/CT/ct_image.nrrd\n",
      "Extracted from xnat to : ./pre-process-TRAIN/LUNG4-347/GT/GTV-1.nrrd\n"
     ]
    },
    {
     "name": "stderr",
     "output_type": "stream",
     "text": [
      "100% of  18.5 MiB |################################| 195.3 MiB/s Time:  0:00:00\n",
      "100% of  48.3 KiB |################################|  33.6 MiB/s Time:  0:00:00\n"
     ]
    },
    {
     "name": "stdout",
     "output_type": "stream",
     "text": [
      "Extracted from xnat to : ./pre-process-TRAIN/LUNG4-347/CT/ct_image.nrrd\n"
     ]
    },
    {
     "name": "stderr",
     "output_type": "stream",
     "text": [
      " 52% of  38.5 MiB |################                | 197.0 MiB/s ETA:   0:00:00"
     ]
    },
    {
     "name": "stdout",
     "output_type": "stream",
     "text": [
      "Extracted from xnat to : ./pre-process-TRAIN/LUNG4-332/GT/GTV-1.nrrd\n"
     ]
    },
    {
     "name": "stderr",
     "output_type": "stream",
     "text": [
      "100% of  38.5 MiB |################################| 197.0 MiB/s Time:  0:00:00\n",
      "100% of  39.7 KiB |################################|  27.9 MiB/s Time:  0:00:00\n"
     ]
    },
    {
     "name": "stdout",
     "output_type": "stream",
     "text": [
      "Extracted from xnat to : ./pre-process-TRAIN/LUNG4-332/CT/ct_image.nrrd\n",
      "Extracted from xnat to : ./pre-process-TRAIN/LUNG4-352/GT/GTV-1.nrrd\n"
     ]
    },
    {
     "name": "stderr",
     "output_type": "stream",
     "text": [
      "100% of  27.6 MiB |################################| 192.2 MiB/s Time:  0:00:00\n",
      "100% of  49.6 KiB |################################|  37.8 MiB/s Time:  0:00:00\n"
     ]
    },
    {
     "name": "stdout",
     "output_type": "stream",
     "text": [
      "Extracted from xnat to : ./pre-process-TRAIN/LUNG4-352/CT/ct_image.nrrd\n",
      "Extracted from xnat to : ./pre-process-VALIDATE/LUNG4-354/GT/GTV-1.nrrd\n"
     ]
    },
    {
     "name": "stderr",
     "output_type": "stream",
     "text": [
      "100% of  41.5 MiB |################################| 197.7 MiB/s Time:  0:00:00\n"
     ]
    },
    {
     "name": "stdout",
     "output_type": "stream",
     "text": [
      "Extracted from xnat to : ./pre-process-VALIDATE/LUNG4-354/CT/ct_image.nrrd\n"
     ]
    },
    {
     "name": "stderr",
     "output_type": "stream",
     "text": [
      "100% of  43.8 KiB |################################|  32.6 MiB/s Time:  0:00:00\n",
      " 50% of  39.5 MiB |################                | 198.5 MiB/s ETA:   0:00:00"
     ]
    },
    {
     "name": "stdout",
     "output_type": "stream",
     "text": [
      "Extracted from xnat to : ./pre-process-VALIDATE/LUNG4-357/GT/GTV-2.nrrd\n"
     ]
    },
    {
     "name": "stderr",
     "output_type": "stream",
     "text": [
      "100% of  39.5 MiB |################################| 198.5 MiB/s Time:  0:00:00\n",
      "100% of  46.6 KiB |################################|  32.8 MiB/s Time:  0:00:00\n",
      "100% of  43.6 KiB |################################|  33.7 MiB/s Time:  0:00:00\n"
     ]
    },
    {
     "name": "stdout",
     "output_type": "stream",
     "text": [
      "Extracted from xnat to : ./pre-process-VALIDATE/LUNG4-357/CT/ct_image.nrrd\n",
      "Extracted from xnat to : ./pre-process-VALIDATE/LUNG4-357/GT/GTV-1.nrrd\n",
      "Extracted from xnat to : ./pre-process-VALIDATE/LUNG4-357/GT/GTV-3.nrrd\n"
     ]
    },
    {
     "name": "stderr",
     "output_type": "stream",
     "text": [
      "100% of  40.4 KiB |################################|  34.1 MiB/s Time:  0:00:00\n",
      " 61% of  32.5 MiB |###################             | 193.4 MiB/s ETA:   0:00:00"
     ]
    },
    {
     "name": "stdout",
     "output_type": "stream",
     "text": [
      "Extracted from xnat to : ./pre-process-TRAIN/LUNG4-359/GT/GTV-1.nrrd\n"
     ]
    },
    {
     "name": "stderr",
     "output_type": "stream",
     "text": [
      "100% of  32.5 MiB |################################| 193.4 MiB/s Time:  0:00:00\n",
      "100% of  33.2 KiB |################################|  24.0 MiB/s Time:  0:00:00\n"
     ]
    },
    {
     "name": "stdout",
     "output_type": "stream",
     "text": [
      "Extracted from xnat to : ./pre-process-TRAIN/LUNG4-359/CT/ct_image.nrrd\n",
      "Extracted from xnat to : ./pre-process-TRAIN/LUNG4-358/GT/GTV-1.nrrd\n"
     ]
    },
    {
     "name": "stderr",
     "output_type": "stream",
     "text": [
      "100% of  33.3 MiB |################################| 196.9 MiB/s Time:  0:00:00\n",
      "100% of  26.3 KiB |################################|  19.8 MiB/s Time:  0:00:00\n"
     ]
    },
    {
     "name": "stdout",
     "output_type": "stream",
     "text": [
      "Extracted from xnat to : ./pre-process-TRAIN/LUNG4-358/CT/ct_image.nrrd\n",
      "Extracted from xnat to : ./pre-process-VALIDATE/LUNG4-360/GT/GTV-1.nrrd\n"
     ]
    },
    {
     "name": "stderr",
     "output_type": "stream",
     "text": [
      "100% of  22.4 MiB |################################| 196.4 MiB/s Time:  0:00:00\n"
     ]
    },
    {
     "name": "stdout",
     "output_type": "stream",
     "text": [
      "Extracted from xnat to : ./pre-process-VALIDATE/LUNG4-360/CT/ct_image.nrrd\n"
     ]
    },
    {
     "name": "stderr",
     "output_type": "stream",
     "text": [
      "100% of  43.6 KiB |################################|  33.0 MiB/s Time:  0:00:00\n",
      "100% of  43.9 KiB |################################|  33.9 MiB/s Time:  0:00:00\n",
      "100% of  43.5 KiB |################################|  35.5 MiB/s Time:  0:00:00\n"
     ]
    },
    {
     "name": "stdout",
     "output_type": "stream",
     "text": [
      "Extracted from xnat to : ./pre-process-VALIDATE/LUNG4-361/GT/GTV-1.nrrd\n",
      "Extracted from xnat to : ./pre-process-VALIDATE/LUNG4-361/GT/GTV-3.nrrd\n",
      "Extracted from xnat to : ./pre-process-VALIDATE/LUNG4-361/GT/GTV-2.nrrd\n"
     ]
    },
    {
     "name": "stderr",
     "output_type": "stream",
     "text": [
      "100% of  47.4 MiB |################################| 134.5 MiB/s Time:  0:00:00\n",
      "100% of  53.1 KiB |################################|  40.4 MiB/s Time:  0:00:00\n"
     ]
    },
    {
     "name": "stdout",
     "output_type": "stream",
     "text": [
      "Extracted from xnat to : ./pre-process-VALIDATE/LUNG4-361/CT/ct_image.nrrd\n",
      "Extracted from xnat to : ./pre-process-TRAIN/LUNG4-367/GT/GTV-1.nrrd\n"
     ]
    },
    {
     "name": "stderr",
     "output_type": "stream",
     "text": [
      "100% of  44.2 MiB |################################| 189.7 MiB/s Time:  0:00:00\n",
      "100% of  42.9 KiB |################################|  32.8 MiB/s Time:  0:00:00\n"
     ]
    },
    {
     "name": "stdout",
     "output_type": "stream",
     "text": [
      "Extracted from xnat to : ./pre-process-TRAIN/LUNG4-367/CT/ct_image.nrrd\n",
      "Extracted from xnat to : ./pre-process-TRAIN/LUNG4-369/GT/GTV-1.nrrd\n"
     ]
    },
    {
     "name": "stderr",
     "output_type": "stream",
     "text": [
      "100% of  40.5 MiB |################################| 194.0 MiB/s Time:  0:00:00\n",
      "100% of  42.2 KiB |################################|  32.6 MiB/s Time:  0:00:00\n"
     ]
    },
    {
     "name": "stdout",
     "output_type": "stream",
     "text": [
      "Extracted from xnat to : ./pre-process-TRAIN/LUNG4-369/CT/ct_image.nrrd\n",
      "Extracted from xnat to : ./pre-process-TRAIN/LUNG4-368/GT/GTV-1.nrrd\n"
     ]
    },
    {
     "name": "stderr",
     "output_type": "stream",
     "text": [
      "100% of  36.9 MiB |################################| 196.4 MiB/s Time:  0:00:00\n"
     ]
    },
    {
     "name": "stdout",
     "output_type": "stream",
     "text": [
      "Extracted from xnat to : ./pre-process-TRAIN/LUNG4-368/CT/ct_image.nrrd\n"
     ]
    },
    {
     "name": "stderr",
     "output_type": "stream",
     "text": [
      "100% of  50.2 KiB |################################|  38.9 MiB/s Time:  0:00:00\n",
      "100% of  47.0 KiB |################################|  37.1 MiB/s Time:  0:00:00\n",
      "100% of  46.1 KiB |################################|  34.0 MiB/s Time:  0:00:00\n"
     ]
    },
    {
     "name": "stdout",
     "output_type": "stream",
     "text": [
      "Extracted from xnat to : ./pre-process-VALIDATE/LUNG4-375/GT/GTV-1.nrrd\n",
      "Extracted from xnat to : ./pre-process-VALIDATE/LUNG4-375/GT/GTV-3.nrrd\n",
      "Extracted from xnat to : ./pre-process-VALIDATE/LUNG4-375/GT/GTV-2.nrrd\n"
     ]
    },
    {
     "name": "stderr",
     "output_type": "stream",
     "text": [
      "100% of  44.2 MiB |################################| 144.2 MiB/s Time:  0:00:00\n",
      "100% of  38.9 KiB |################################|  34.0 MiB/s Time:  0:00:00\n"
     ]
    },
    {
     "name": "stdout",
     "output_type": "stream",
     "text": [
      "Extracted from xnat to : ./pre-process-VALIDATE/LUNG4-375/CT/ct_image.nrrd\n",
      "Extracted from xnat to : ./pre-process-TRAIN/LUNG4-379/GT/GTV-1.nrrd\n"
     ]
    },
    {
     "name": "stderr",
     "output_type": "stream",
     "text": [
      "100% of  35.5 MiB |################################| 193.9 MiB/s Time:  0:00:00\n",
      "100% of  50.1 KiB |################################|  39.8 MiB/s Time:  0:00:00\n"
     ]
    },
    {
     "name": "stdout",
     "output_type": "stream",
     "text": [
      "Extracted from xnat to : ./pre-process-TRAIN/LUNG4-379/CT/ct_image.nrrd\n",
      "Extracted from xnat to : ./pre-process-VALIDATE/LUNG4-381/GT/GTV-1.nrrd\n"
     ]
    },
    {
     "name": "stderr",
     "output_type": "stream",
     "text": [
      "100% of  38.7 MiB |################################| 192.0 MiB/s Time:  0:00:00\n",
      "100% of  43.3 KiB |################################|  33.7 MiB/s Time:  0:00:00\n"
     ]
    },
    {
     "name": "stdout",
     "output_type": "stream",
     "text": [
      "Extracted from xnat to : ./pre-process-VALIDATE/LUNG4-381/CT/ct_image.nrrd\n",
      "Extracted from xnat to : ./pre-process-TRAIN/LUNG4-384/GT/GTV-1.nrrd\n"
     ]
    },
    {
     "name": "stderr",
     "output_type": "stream",
     "text": [
      "100% of  42.2 MiB |################################| 185.7 MiB/s Time:  0:00:00\n",
      "100% of  41.7 KiB |################################|  33.8 MiB/s Time:  0:00:00\n"
     ]
    },
    {
     "name": "stdout",
     "output_type": "stream",
     "text": [
      "Extracted from xnat to : ./pre-process-TRAIN/LUNG4-384/CT/ct_image.nrrd\n",
      "Extracted from xnat to : ./pre-process-TRAIN/LUNG4-393/GT/GTV-1.nrrd\n"
     ]
    },
    {
     "name": "stderr",
     "output_type": "stream",
     "text": [
      "100% of  29.1 MiB |################################| 194.6 MiB/s Time:  0:00:00\n",
      "100% of  40.3 KiB |################################|  33.7 MiB/s Time:  0:00:00\n"
     ]
    },
    {
     "name": "stdout",
     "output_type": "stream",
     "text": [
      "Extracted from xnat to : ./pre-process-TRAIN/LUNG4-393/CT/ct_image.nrrd\n",
      "Extracted from xnat to : ./pre-process-VALIDATE/LUNG4-389/GT/GTV-1.nrrd\n"
     ]
    },
    {
     "name": "stderr",
     "output_type": "stream",
     "text": [
      "100% of  30.7 MiB |################################| 197.8 MiB/s Time:  0:00:00\n",
      "100% of  40.3 KiB |################################|  31.8 MiB/s Time:  0:00:00\n"
     ]
    },
    {
     "name": "stdout",
     "output_type": "stream",
     "text": [
      "Extracted from xnat to : ./pre-process-VALIDATE/LUNG4-389/CT/ct_image.nrrd\n",
      "Extracted from xnat to : ./pre-process-TRAIN/LUNG4-385/GT/GTV-1.nrrd\n"
     ]
    },
    {
     "name": "stderr",
     "output_type": "stream",
     "text": [
      "100% of  30.7 MiB |################################| 197.9 MiB/s Time:  0:00:00\n",
      "100% of  34.0 KiB |################################|  25.0 MiB/s Time:  0:00:00\n"
     ]
    },
    {
     "name": "stdout",
     "output_type": "stream",
     "text": [
      "Extracted from xnat to : ./pre-process-TRAIN/LUNG4-385/CT/ct_image.nrrd\n",
      "Extracted from xnat to : ./pre-process-TRAIN/LUNG4-386/GT/GTV-1.nrrd\n"
     ]
    },
    {
     "name": "stderr",
     "output_type": "stream",
     "text": [
      "100% of  34.9 MiB |################################| 197.1 MiB/s Time:  0:00:00\n"
     ]
    },
    {
     "name": "stdout",
     "output_type": "stream",
     "text": [
      "Extracted from xnat to : ./pre-process-TRAIN/LUNG4-386/CT/ct_image.nrrd\n"
     ]
    },
    {
     "name": "stderr",
     "output_type": "stream",
     "text": [
      "100% of  37.4 KiB |################################|  30.1 MiB/s Time:  0:00:00\n",
      " 58% of  34.3 MiB |##################              | 198.5 MiB/s ETA:   0:00:00"
     ]
    },
    {
     "name": "stdout",
     "output_type": "stream",
     "text": [
      "Extracted from xnat to : ./pre-process-VALIDATE/LUNG4-388/GT/GTV-1.nrrd\n"
     ]
    },
    {
     "name": "stderr",
     "output_type": "stream",
     "text": [
      "100% of  34.3 MiB |################################| 198.5 MiB/s Time:  0:00:00\n",
      "100% of  33.2 KiB |################################|  24.2 MiB/s Time:  0:00:00\n"
     ]
    },
    {
     "name": "stdout",
     "output_type": "stream",
     "text": [
      "Extracted from xnat to : ./pre-process-VALIDATE/LUNG4-388/CT/ct_image.nrrd\n",
      "Extracted from xnat to : ./pre-process-TRAIN/LUNG4-398/GT/GTV-1.nrrd\n"
     ]
    },
    {
     "name": "stderr",
     "output_type": "stream",
     "text": [
      "100% of  29.7 MiB |################################| 199.6 MiB/s Time:  0:00:00\n",
      "  0% of  36.9 MiB |                                  |   0.0 s/B ETA:  --:--:--"
     ]
    },
    {
     "name": "stdout",
     "output_type": "stream",
     "text": [
      "Extracted from xnat to : ./pre-process-TRAIN/LUNG4-398/CT/ct_image.nrrd\n"
     ]
    },
    {
     "name": "stderr",
     "output_type": "stream",
     "text": [
      "100% of  36.9 MiB |################################| 189.5 MiB/s Time:  0:00:00\n",
      "100% of  35.1 KiB |################################|  28.2 MiB/s Time:  0:00:00\n"
     ]
    },
    {
     "name": "stdout",
     "output_type": "stream",
     "text": [
      "Extracted from xnat to : ./pre-process-TRAIN/LUNG4-211/CT/ct_image.nrrd\n",
      "Extracted from xnat to : ./pre-process-TRAIN/LUNG4-211/GT/GTV-1.nrrd\n"
     ]
    },
    {
     "name": "stderr",
     "output_type": "stream",
     "text": [
      "100% of  37.1 KiB |################################|  26.0 MiB/s Time:  0:00:00\n",
      " 58% of  34.1 MiB |##################              | 194.8 MiB/s ETA:   0:00:00"
     ]
    },
    {
     "name": "stdout",
     "output_type": "stream",
     "text": [
      "Extracted from xnat to : ./pre-process-TRAIN/LUNG4-213/GT/GTV-1.nrrd\n"
     ]
    },
    {
     "name": "stderr",
     "output_type": "stream",
     "text": [
      "100% of  34.1 MiB |################################| 194.8 MiB/s Time:  0:00:00\n",
      "100% of  35.3 KiB |################################|  25.0 MiB/s Time:  0:00:00\n"
     ]
    },
    {
     "name": "stdout",
     "output_type": "stream",
     "text": [
      "Extracted from xnat to : ./pre-process-TRAIN/LUNG4-213/CT/ct_image.nrrd\n",
      "Extracted from xnat to : ./pre-process-TRAIN/LUNG4-214/GT/GTV-1.nrrd\n"
     ]
    },
    {
     "name": "stderr",
     "output_type": "stream",
     "text": [
      "100% of  30.5 MiB |################################| 193.1 MiB/s Time:  0:00:00\n",
      "100% of  41.3 KiB |################################|  26.9 MiB/s Time:  0:00:00\n"
     ]
    },
    {
     "name": "stdout",
     "output_type": "stream",
     "text": [
      "Extracted from xnat to : ./pre-process-TRAIN/LUNG4-214/CT/ct_image.nrrd\n",
      "Extracted from xnat to : ./pre-process-TRAIN/LUNG4-218/GT/GTV-1.nrrd\n"
     ]
    },
    {
     "name": "stderr",
     "output_type": "stream",
     "text": [
      "100% of  34.0 MiB |################################| 189.3 MiB/s Time:  0:00:00\n",
      "  0% of  22.0 MiB |                                  |   0.0 s/B ETA:  --:--:--"
     ]
    },
    {
     "name": "stdout",
     "output_type": "stream",
     "text": [
      "Extracted from xnat to : ./pre-process-TRAIN/LUNG4-218/CT/ct_image.nrrd\n"
     ]
    },
    {
     "name": "stderr",
     "output_type": "stream",
     "text": [
      "100% of  22.0 MiB |################################| 197.8 MiB/s Time:  0:00:00\n",
      "100% of  27.0 KiB |################################|  17.9 MiB/s Time:  0:00:00\n"
     ]
    },
    {
     "name": "stdout",
     "output_type": "stream",
     "text": [
      "Extracted from xnat to : ./pre-process-VALIDATE/LUNG4-234/CT/ct_image.nrrd\n",
      "Extracted from xnat to : ./pre-process-VALIDATE/LUNG4-234/GT/GTV-1.nrrd\n"
     ]
    },
    {
     "name": "stderr",
     "output_type": "stream",
     "text": [
      "100% of  33.2 MiB |################################| 200.8 MiB/s Time:  0:00:00\n",
      "100% of  33.8 KiB |################################|  24.5 MiB/s Time:  0:00:00\n"
     ]
    },
    {
     "name": "stdout",
     "output_type": "stream",
     "text": [
      "Extracted from xnat to : ./pre-process-TRAIN/LUNG4-226/CT/ct_image.nrrd\n",
      "Extracted from xnat to : ./pre-process-TRAIN/LUNG4-226/GT/GTV-1.nrrd\n"
     ]
    },
    {
     "name": "stderr",
     "output_type": "stream",
     "text": [
      "100% of  38.1 KiB |################################|  26.1 MiB/s Time:  0:00:00\n",
      " 56% of  35.4 MiB |##################              | 198.6 MiB/s ETA:   0:00:00"
     ]
    },
    {
     "name": "stdout",
     "output_type": "stream",
     "text": [
      "Extracted from xnat to : ./pre-process-TRAIN/LUNG4-232/GT/GTV-1.nrrd\n"
     ]
    },
    {
     "name": "stderr",
     "output_type": "stream",
     "text": [
      "100% of  35.4 MiB |################################| 198.6 MiB/s Time:  0:00:00\n",
      "  0% of  29.2 MiB |                                  |   0.0 s/B ETA:  --:--:--"
     ]
    },
    {
     "name": "stdout",
     "output_type": "stream",
     "text": [
      "Extracted from xnat to : ./pre-process-TRAIN/LUNG4-232/CT/ct_image.nrrd\n"
     ]
    },
    {
     "name": "stderr",
     "output_type": "stream",
     "text": [
      "100% of  29.2 MiB |################################| 199.0 MiB/s Time:  0:00:00\n",
      "100% of  36.7 KiB |################################|  23.7 MiB/s Time:  0:00:00\n"
     ]
    },
    {
     "name": "stdout",
     "output_type": "stream",
     "text": [
      "Extracted from xnat to : ./pre-process-TRAIN/LUNG4-312/CT/ct_image.nrrd\n",
      "Extracted from xnat to : ./pre-process-TRAIN/LUNG4-312/GT/GTV-1.nrrd\n"
     ]
    },
    {
     "name": "stderr",
     "output_type": "stream",
     "text": [
      "100% of  71.3 KiB |################################|  45.5 MiB/s Time:  0:00:00\n",
      " 32% of  62.2 MiB |##########                      | 200.0 MiB/s ETA:   0:00:00"
     ]
    },
    {
     "name": "stdout",
     "output_type": "stream",
     "text": [
      "Extracted from xnat to : ./pre-process-TRAIN/LUNG4-313/GT/GTV-1.nrrd\n"
     ]
    },
    {
     "name": "stderr",
     "output_type": "stream",
     "text": [
      "100% of  62.2 MiB |################################| 200.0 MiB/s Time:  0:00:00\n",
      "100% of  43.2 KiB |################################|  29.8 MiB/s Time:  0:00:00\n"
     ]
    },
    {
     "name": "stdout",
     "output_type": "stream",
     "text": [
      "Extracted from xnat to : ./pre-process-TRAIN/LUNG4-313/CT/ct_image.nrrd\n",
      "Extracted from xnat to : ./pre-process-TRAIN/LUNG4-315/GT/GTV-1.nrrd\n"
     ]
    },
    {
     "name": "stderr",
     "output_type": "stream",
     "text": [
      "100% of  40.5 MiB |################################| 200.3 MiB/s Time:  0:00:00\n",
      "  0% of  34.8 MiB |                                  |   0.0 s/B ETA:  --:--:--"
     ]
    },
    {
     "name": "stdout",
     "output_type": "stream",
     "text": [
      "Extracted from xnat to : ./pre-process-TRAIN/LUNG4-315/CT/ct_image.nrrd\n"
     ]
    },
    {
     "name": "stderr",
     "output_type": "stream",
     "text": [
      "100% of  34.8 MiB |################################| 190.3 MiB/s Time:  0:00:00\n",
      "100% of  37.4 KiB |################################|  29.0 MiB/s Time:  0:00:00\n"
     ]
    },
    {
     "name": "stdout",
     "output_type": "stream",
     "text": [
      "Extracted from xnat to : ./pre-process-TRAIN/LUNG4-320/CT/ct_image.nrrd\n",
      "Extracted from xnat to : ./pre-process-TRAIN/LUNG4-320/GT/GTV-1.nrrd\n"
     ]
    },
    {
     "name": "stderr",
     "output_type": "stream",
     "text": [
      "100% of  28.2 MiB |################################| 195.7 MiB/s Time:  0:00:00\n",
      "100% of  34.8 KiB |################################|  26.1 MiB/s Time:  0:00:00\n"
     ]
    },
    {
     "name": "stdout",
     "output_type": "stream",
     "text": [
      "Extracted from xnat to : ./pre-process-TRAIN/LUNG4-329/CT/ct_image.nrrd\n",
      "Extracted from xnat to : ./pre-process-TRAIN/LUNG4-329/GT/GTV-1.nrrd\n"
     ]
    },
    {
     "name": "stderr",
     "output_type": "stream",
     "text": [
      "100% of  33.6 MiB |################################| 199.0 MiB/s Time:  0:00:00\n",
      "100% of  37.6 KiB |################################|  28.0 MiB/s Time:  0:00:00\n"
     ]
    },
    {
     "name": "stdout",
     "output_type": "stream",
     "text": [
      "Extracted from xnat to : ./pre-process-TRAIN/LUNG4-342/CT/ct_image.nrrd\n",
      "Extracted from xnat to : ./pre-process-TRAIN/LUNG4-342/GT/GTV-1.nrrd\n"
     ]
    },
    {
     "name": "stderr",
     "output_type": "stream",
     "text": [
      "100% of  39.8 KiB |################################|  27.7 MiB/s Time:  0:00:00\n",
      " 47% of  40.7 MiB |###############                 | 190.0 MiB/s ETA:   0:00:00"
     ]
    },
    {
     "name": "stdout",
     "output_type": "stream",
     "text": [
      "Extracted from xnat to : ./pre-process-TRAIN/LUNG4-333/GT/GTV-1.nrrd\n"
     ]
    },
    {
     "name": "stderr",
     "output_type": "stream",
     "text": [
      "100% of  40.7 MiB |################################| 189.0 MiB/s Time:  0:00:00\n",
      "100% of  40.7 KiB |################################|  27.3 MiB/s Time:  0:00:00\n"
     ]
    },
    {
     "name": "stdout",
     "output_type": "stream",
     "text": [
      "Extracted from xnat to : ./pre-process-TRAIN/LUNG4-333/CT/ct_image.nrrd\n",
      "Extracted from xnat to : ./pre-process-TRAIN/LUNG4-346/GT/GTV-1.nrrd\n"
     ]
    },
    {
     "name": "stderr",
     "output_type": "stream",
     "text": [
      "100% of  34.6 MiB |################################| 195.8 MiB/s Time:  0:00:00\n",
      "100% of  34.5 KiB |################################|  24.2 MiB/s Time:  0:00:00\n"
     ]
    },
    {
     "name": "stdout",
     "output_type": "stream",
     "text": [
      "Extracted from xnat to : ./pre-process-TRAIN/LUNG4-346/CT/ct_image.nrrd\n",
      "Extracted from xnat to : ./pre-process-TRAIN/LUNG4-349/GT/GTV-1.nrrd\n"
     ]
    },
    {
     "name": "stderr",
     "output_type": "stream",
     "text": [
      "100% of  33.1 MiB |################################| 200.3 MiB/s Time:  0:00:00\n",
      "100% of  49.4 KiB |################################|  32.6 MiB/s Time:  0:00:00\n"
     ]
    },
    {
     "name": "stdout",
     "output_type": "stream",
     "text": [
      "Extracted from xnat to : ./pre-process-TRAIN/LUNG4-349/CT/ct_image.nrrd\n",
      "Extracted from xnat to : ./pre-process-TRAIN/LUNG4-343/GT/GTV-1.nrrd\n"
     ]
    },
    {
     "name": "stderr",
     "output_type": "stream",
     "text": [
      "100% of  39.1 MiB |################################| 194.6 MiB/s Time:  0:00:00\n",
      "100% of  43.6 KiB |################################|  35.5 MiB/s Time:  0:00:00\n"
     ]
    },
    {
     "name": "stdout",
     "output_type": "stream",
     "text": [
      "Extracted from xnat to : ./pre-process-TRAIN/LUNG4-343/CT/ct_image.nrrd\n",
      "Extracted from xnat to : ./pre-process-TRAIN/LUNG4-356/GT/GTV-1.nrrd\n"
     ]
    },
    {
     "name": "stderr",
     "output_type": "stream",
     "text": [
      "100% of  41.5 MiB |################################| 199.6 MiB/s Time:  0:00:00\n",
      "100% of  36.0 KiB |################################|  25.8 MiB/s Time:  0:00:00\n"
     ]
    },
    {
     "name": "stdout",
     "output_type": "stream",
     "text": [
      "Extracted from xnat to : ./pre-process-TRAIN/LUNG4-356/CT/ct_image.nrrd\n",
      "Extracted from xnat to : ./pre-process-VALIDATE/LUNG4-362/GT/GTV-1.nrrd\n"
     ]
    },
    {
     "name": "stderr",
     "output_type": "stream",
     "text": [
      "100% of  29.1 MiB |################################| 200.0 MiB/s Time:  0:00:00\n",
      "100% of  34.6 KiB |################################|  23.3 MiB/s Time:  0:00:00\n"
     ]
    },
    {
     "name": "stdout",
     "output_type": "stream",
     "text": [
      "Extracted from xnat to : ./pre-process-VALIDATE/LUNG4-362/CT/ct_image.nrrd\n",
      "Extracted from xnat to : ./pre-process-TRAIN/LUNG4-363/GT/GTV-1.nrrd\n"
     ]
    },
    {
     "name": "stderr",
     "output_type": "stream",
     "text": [
      "100% of  31.6 MiB |################################| 200.4 MiB/s Time:  0:00:00\n",
      "100% of  36.1 KiB |################################|  25.4 MiB/s Time:  0:00:00\n"
     ]
    },
    {
     "name": "stdout",
     "output_type": "stream",
     "text": [
      "Extracted from xnat to : ./pre-process-TRAIN/LUNG4-363/CT/ct_image.nrrd\n",
      "Extracted from xnat to : ./pre-process-TRAIN/LUNG4-365/GT/GTV-1.nrrd\n"
     ]
    },
    {
     "name": "stderr",
     "output_type": "stream",
     "text": [
      "100% of  33.9 KiB |################################|  26.8 MiB/s Time:  0:00:00\n",
      " 72% of  27.8 MiB |#######################         | 198.8 MiB/s ETA:   0:00:00"
     ]
    },
    {
     "name": "stdout",
     "output_type": "stream",
     "text": [
      "Extracted from xnat to : ./pre-process-TRAIN/LUNG4-365/GT/GTV-2.nrrd\n"
     ]
    },
    {
     "name": "stderr",
     "output_type": "stream",
     "text": [
      "100% of  27.8 MiB |################################| 198.8 MiB/s Time:  0:00:00\n",
      "100% of  39.9 KiB |################################|  27.8 MiB/s Time:  0:00:00\n"
     ]
    },
    {
     "name": "stdout",
     "output_type": "stream",
     "text": [
      "Extracted from xnat to : ./pre-process-TRAIN/LUNG4-365/CT/ct_image.nrrd\n",
      "Extracted from xnat to : ./pre-process-TRAIN/LUNG4-370/GT/GTV-1.nrrd\n"
     ]
    },
    {
     "name": "stderr",
     "output_type": "stream",
     "text": [
      "100% of  36.8 MiB |################################| 198.2 MiB/s Time:  0:00:00\n",
      "100% of  38.6 KiB |################################|  27.8 MiB/s Time:  0:00:00\n"
     ]
    },
    {
     "name": "stdout",
     "output_type": "stream",
     "text": [
      "Extracted from xnat to : ./pre-process-TRAIN/LUNG4-370/CT/ct_image.nrrd\n",
      "Extracted from xnat to : ./pre-process-TRAIN/LUNG4-373/GT/GTV-1.nrrd\n"
     ]
    },
    {
     "name": "stderr",
     "output_type": "stream",
     "text": [
      "100% of  31.8 MiB |################################| 201.0 MiB/s Time:  0:00:00\n",
      "100% of  46.2 KiB |################################|  33.9 MiB/s Time:  0:00:00\n"
     ]
    },
    {
     "name": "stdout",
     "output_type": "stream",
     "text": [
      "Extracted from xnat to : ./pre-process-TRAIN/LUNG4-373/CT/ct_image.nrrd\n",
      "Extracted from xnat to : ./pre-process-TRAIN/LUNG4-376/GT/GTV-1.nrrd\n"
     ]
    },
    {
     "name": "stderr",
     "output_type": "stream",
     "text": [
      "100% of  39.4 MiB |################################| 142.5 MiB/s Time:  0:00:00\n",
      "100% of  34.4 KiB |################################|  24.3 MiB/s Time:  0:00:00\n"
     ]
    },
    {
     "name": "stdout",
     "output_type": "stream",
     "text": [
      "Extracted from xnat to : ./pre-process-TRAIN/LUNG4-376/CT/ct_image.nrrd\n",
      "Extracted from xnat to : ./pre-process-TRAIN/LUNG4-380/GT/GTV-1.nrrd\n"
     ]
    },
    {
     "name": "stderr",
     "output_type": "stream",
     "text": [
      "100% of  32.2 MiB |################################| 193.2 MiB/s Time:  0:00:00\n",
      "100% of  33.5 KiB |################################|  25.0 MiB/s Time:  0:00:00\n"
     ]
    },
    {
     "name": "stdout",
     "output_type": "stream",
     "text": [
      "Extracted from xnat to : ./pre-process-TRAIN/LUNG4-380/CT/ct_image.nrrd\n",
      "Extracted from xnat to : ./pre-process-TRAIN/LUNG4-396/GT/GTV-1.nrrd\n"
     ]
    },
    {
     "name": "stderr",
     "output_type": "stream",
     "text": [
      "100% of  28.6 MiB |################################| 192.1 MiB/s Time:  0:00:00\n",
      "  0% of  40.8 KiB |                                  |   0.0 s/B ETA:  --:--:--"
     ]
    },
    {
     "name": "stdout",
     "output_type": "stream",
     "text": [
      "Extracted from xnat to : ./pre-process-TRAIN/LUNG4-396/CT/ct_image.nrrd\n"
     ]
    },
    {
     "name": "stderr",
     "output_type": "stream",
     "text": [
      "100% of  40.8 KiB |################################|  27.3 MiB/s Time:  0:00:00\n",
      "100% of  38.6 KiB |################################|  30.4 MiB/s Time:  0:00:00\n",
      "  0% of  31.9 MiB |                                  |   0.0 s/B ETA:  --:--:--"
     ]
    },
    {
     "name": "stdout",
     "output_type": "stream",
     "text": [
      "Extracted from xnat to : ./pre-process-TRAIN/LUNG4-395/GT/GTV-1.nrrd\n",
      "Extracted from xnat to : ./pre-process-TRAIN/LUNG4-395/GT/GTV-2.nrrd\n"
     ]
    },
    {
     "name": "stderr",
     "output_type": "stream",
     "text": [
      "100% of  31.9 MiB |################################| 200.6 MiB/s Time:  0:00:00\n",
      "100% of  34.5 KiB |################################|  21.1 MiB/s Time:  0:00:00\n"
     ]
    },
    {
     "name": "stdout",
     "output_type": "stream",
     "text": [
      "Extracted from xnat to : ./pre-process-TRAIN/LUNG4-395/CT/ct_image.nrrd\n",
      "Extracted from xnat to : ./pre-process-TRAIN/LUNG4-391/GT/GTV-1.nrrd\n"
     ]
    },
    {
     "name": "stderr",
     "output_type": "stream",
     "text": [
      "100% of  29.0 MiB |################################| 196.9 MiB/s Time:  0:00:00\n",
      "100% of  42.5 KiB |################################|  34.3 MiB/s Time:  0:00:00\n"
     ]
    },
    {
     "name": "stdout",
     "output_type": "stream",
     "text": [
      "Extracted from xnat to : ./pre-process-TRAIN/LUNG4-391/CT/ct_image.nrrd\n",
      "Extracted from xnat to : ./pre-process-TRAIN/LUNG4-394/GT/GTV-1.nrrd\n"
     ]
    },
    {
     "name": "stderr",
     "output_type": "stream",
     "text": [
      "100% of  29.5 MiB |################################| 194.1 MiB/s Time:  0:00:00\n",
      "100% of  45.7 KiB |################################|  34.1 MiB/s Time:  0:00:00\n"
     ]
    },
    {
     "name": "stdout",
     "output_type": "stream",
     "text": [
      "Extracted from xnat to : ./pre-process-TRAIN/LUNG4-394/CT/ct_image.nrrd\n",
      "Extracted from xnat to : ./pre-process-VALIDATE/LUNG4-397/GT/GTV-1.nrrd\n"
     ]
    },
    {
     "name": "stderr",
     "output_type": "stream",
     "text": [
      "100% of  36.3 MiB |################################| 198.9 MiB/s Time:  0:00:00\n",
      "100% of  37.3 KiB |################################|  30.9 MiB/s Time:  0:00:00\n"
     ]
    },
    {
     "name": "stdout",
     "output_type": "stream",
     "text": [
      "Extracted from xnat to : ./pre-process-VALIDATE/LUNG4-397/CT/ct_image.nrrd\n",
      "Extracted from xnat to : ./pre-process-TRAIN/LUNG4-212/GT/GTV-1.nrrd\n"
     ]
    },
    {
     "name": "stderr",
     "output_type": "stream",
     "text": [
      "100% of  38.6 MiB |################################| 191.9 MiB/s Time:  0:00:00\n",
      "100% of  43.6 KiB |################################|  31.9 MiB/s Time:  0:00:00\n"
     ]
    },
    {
     "name": "stdout",
     "output_type": "stream",
     "text": [
      "Extracted from xnat to : ./pre-process-TRAIN/LUNG4-212/CT/ct_image.nrrd\n",
      "Extracted from xnat to : ./pre-process-TRAIN/LUNG4-215/GT/GTV-1.nrrd\n"
     ]
    },
    {
     "name": "stderr",
     "output_type": "stream",
     "text": [
      "100% of  41.3 MiB |################################| 198.7 MiB/s Time:  0:00:00\n",
      "100% of  34.3 KiB |################################|  24.4 MiB/s Time:  0:00:00\n"
     ]
    },
    {
     "name": "stdout",
     "output_type": "stream",
     "text": [
      "Extracted from xnat to : ./pre-process-TRAIN/LUNG4-215/CT/ct_image.nrrd\n",
      "Extracted from xnat to : ./pre-process-TRAIN/LUNG4-216/GT/GTV-1.nrrd\n"
     ]
    },
    {
     "name": "stderr",
     "output_type": "stream",
     "text": [
      "100% of  34.2 MiB |################################| 141.7 MiB/s Time:  0:00:00\n",
      "100% of  37.5 KiB |################################|  35.0 MiB/s Time:  0:00:00\n"
     ]
    },
    {
     "name": "stdout",
     "output_type": "stream",
     "text": [
      "Extracted from xnat to : ./pre-process-TRAIN/LUNG4-216/CT/ct_image.nrrd\n",
      "Extracted from xnat to : ./pre-process-VALIDATE/LUNG4-003/GT/GTV-1.nrrd\n"
     ]
    },
    {
     "name": "stderr",
     "output_type": "stream",
     "text": [
      "100% of  26.8 MiB |################################| 198.3 MiB/s Time:  0:00:00\n",
      "100% of  35.4 KiB |################################|  26.6 MiB/s Time:  0:00:00\n"
     ]
    },
    {
     "name": "stdout",
     "output_type": "stream",
     "text": [
      "Extracted from xnat to : ./pre-process-VALIDATE/LUNG4-003/CT/ct_image.nrrd\n",
      "Extracted from xnat to : ./pre-process-TRAIN/LUNG4-001/GT/GTV-1.nrrd\n"
     ]
    },
    {
     "name": "stderr",
     "output_type": "stream",
     "text": [
      "100% of  31.6 MiB |################################| 200.1 MiB/s Time:  0:00:00\n",
      "100% of  32.4 KiB |################################|  26.7 MiB/s Time:  0:00:00\n"
     ]
    },
    {
     "name": "stdout",
     "output_type": "stream",
     "text": [
      "Extracted from xnat to : ./pre-process-TRAIN/LUNG4-001/CT/ct_image.nrrd\n",
      "Extracted from xnat to : ./pre-process-TRAIN/LUNG4-006/GT/GTV-1.nrrd\n"
     ]
    },
    {
     "name": "stderr",
     "output_type": "stream",
     "text": [
      "100% of  29.1 MiB |################################| 199.6 MiB/s Time:  0:00:00\n",
      "100% of  43.3 KiB |################################|  32.5 MiB/s Time:  0:00:00\n"
     ]
    },
    {
     "name": "stdout",
     "output_type": "stream",
     "text": [
      "Extracted from xnat to : ./pre-process-TRAIN/LUNG4-006/CT/ct_image.nrrd\n",
      "Extracted from xnat to : ./pre-process-TRAIN/LUNG4-008/GT/GTV-1.nrrd\n"
     ]
    },
    {
     "name": "stderr",
     "output_type": "stream",
     "text": [
      "100% of  44.2 MiB |################################| 198.7 MiB/s Time:  0:00:00\n",
      "100% of  36.0 KiB |################################|  24.3 MiB/s Time:  0:00:00\n"
     ]
    },
    {
     "name": "stdout",
     "output_type": "stream",
     "text": [
      "Extracted from xnat to : ./pre-process-TRAIN/LUNG4-008/CT/ct_image.nrrd\n",
      "Extracted from xnat to : ./pre-process-TRAIN/LUNG4-007/GT/GTV-1.nrrd\n"
     ]
    },
    {
     "name": "stderr",
     "output_type": "stream",
     "text": [
      "100% of  32.4 MiB |################################| 193.6 MiB/s Time:  0:00:00\n",
      "100% of  29.6 KiB |################################|  22.2 MiB/s Time:  0:00:00\n"
     ]
    },
    {
     "name": "stdout",
     "output_type": "stream",
     "text": [
      "Extracted from xnat to : ./pre-process-TRAIN/LUNG4-007/CT/ct_image.nrrd\n",
      "Extracted from xnat to : ./pre-process-TRAIN/LUNG4-009/GT/GTV-1.nrrd\n"
     ]
    },
    {
     "name": "stderr",
     "output_type": "stream",
     "text": [
      "100% of  24.8 MiB |################################| 193.0 MiB/s Time:  0:00:00\n",
      "100% of  36.0 KiB |################################|  22.5 MiB/s Time:  0:00:00\n"
     ]
    },
    {
     "name": "stdout",
     "output_type": "stream",
     "text": [
      "Extracted from xnat to : ./pre-process-TRAIN/LUNG4-009/CT/ct_image.nrrd\n",
      "Extracted from xnat to : ./pre-process-TRAIN/LUNG4-010/GT/GTV-1.nrrd\n"
     ]
    },
    {
     "name": "stderr",
     "output_type": "stream",
     "text": [
      "100% of  32.1 MiB |################################| 196.4 MiB/s Time:  0:00:00\n",
      "100% of  35.6 KiB |################################|  25.3 MiB/s Time:  0:00:00\n"
     ]
    },
    {
     "name": "stdout",
     "output_type": "stream",
     "text": [
      "Extracted from xnat to : ./pre-process-TRAIN/LUNG4-010/CT/ct_image.nrrd\n",
      "Extracted from xnat to : ./pre-process-TRAIN/LUNG4-011/GT/GTV-1.nrrd\n"
     ]
    },
    {
     "name": "stderr",
     "output_type": "stream",
     "text": [
      "100% of  30.7 MiB |################################| 192.2 MiB/s Time:  0:00:00\n",
      "100% of  36.1 KiB |################################|  25.3 MiB/s Time:  0:00:00\n"
     ]
    },
    {
     "name": "stdout",
     "output_type": "stream",
     "text": [
      "Extracted from xnat to : ./pre-process-TRAIN/LUNG4-011/CT/ct_image.nrrd\n",
      "Extracted from xnat to : ./pre-process-TRAIN/LUNG4-012/GT/GTV-1.nrrd\n"
     ]
    },
    {
     "name": "stderr",
     "output_type": "stream",
     "text": [
      "100% of  29.9 MiB |################################| 190.2 MiB/s Time:  0:00:00\n"
     ]
    },
    {
     "name": "stdout",
     "output_type": "stream",
     "text": [
      "Extracted from xnat to : ./pre-process-TRAIN/LUNG4-012/CT/ct_image.nrrd\n"
     ]
    },
    {
     "name": "stderr",
     "output_type": "stream",
     "text": [
      "100% of  33.9 KiB |################################|  24.6 MiB/s Time:  0:00:00\n",
      " 56% of  35.3 MiB |##################              | 195.5 MiB/s ETA:   0:00:00"
     ]
    },
    {
     "name": "stdout",
     "output_type": "stream",
     "text": [
      "Extracted from xnat to : ./pre-process-TRAIN/LUNG4-013/GT/GTV-1.nrrd\n"
     ]
    },
    {
     "name": "stderr",
     "output_type": "stream",
     "text": [
      "100% of  35.3 MiB |################################| 195.5 MiB/s Time:  0:00:00\n",
      "100% of  33.8 KiB |################################|  24.9 MiB/s Time:  0:00:00\n"
     ]
    },
    {
     "name": "stdout",
     "output_type": "stream",
     "text": [
      "Extracted from xnat to : ./pre-process-TRAIN/LUNG4-013/CT/ct_image.nrrd\n",
      "Extracted from xnat to : ./pre-process-TRAIN/LUNG4-014/GT/GTV-1.nrrd\n"
     ]
    },
    {
     "name": "stderr",
     "output_type": "stream",
     "text": [
      "100% of  33.1 MiB |################################| 198.0 MiB/s Time:  0:00:00\n",
      "100% of  27.8 KiB |################################|  18.7 MiB/s Time:  0:00:00\n"
     ]
    },
    {
     "name": "stdout",
     "output_type": "stream",
     "text": [
      "Extracted from xnat to : ./pre-process-TRAIN/LUNG4-014/CT/ct_image.nrrd\n",
      "Extracted from xnat to : ./pre-process-TRAIN/LUNG4-015/GT/GTV-1.nrrd\n"
     ]
    },
    {
     "name": "stderr",
     "output_type": "stream",
     "text": [
      "100% of  24.1 MiB |################################| 191.5 MiB/s Time:  0:00:00\n",
      "100% of  38.6 KiB |################################|  26.6 MiB/s Time:  0:00:00\n"
     ]
    },
    {
     "name": "stdout",
     "output_type": "stream",
     "text": [
      "Extracted from xnat to : ./pre-process-TRAIN/LUNG4-015/CT/ct_image.nrrd\n",
      "Extracted from xnat to : ./pre-process-TRAIN/LUNG4-016/GT/GTV-1.nrrd\n"
     ]
    },
    {
     "name": "stderr",
     "output_type": "stream",
     "text": [
      "100% of  30.6 MiB |################################| 197.6 MiB/s Time:  0:00:00\n",
      "100% of  33.3 KiB |################################|  24.0 MiB/s Time:  0:00:00\n"
     ]
    },
    {
     "name": "stdout",
     "output_type": "stream",
     "text": [
      "Extracted from xnat to : ./pre-process-TRAIN/LUNG4-016/CT/ct_image.nrrd\n",
      "Extracted from xnat to : ./pre-process-TRAIN/LUNG4-017/GT/GTV-1.nrrd\n"
     ]
    },
    {
     "name": "stderr",
     "output_type": "stream",
     "text": [
      "100% of  25.7 MiB |################################| 199.3 MiB/s Time:  0:00:00\n",
      "100% of  35.4 KiB |################################|  30.0 MiB/s Time:  0:00:00\n"
     ]
    },
    {
     "name": "stdout",
     "output_type": "stream",
     "text": [
      "Extracted from xnat to : ./pre-process-TRAIN/LUNG4-017/CT/ct_image.nrrd\n",
      "Extracted from xnat to : ./pre-process-TRAIN/LUNG4-020/GT/GTV-1.nrrd\n"
     ]
    },
    {
     "name": "stderr",
     "output_type": "stream",
     "text": [
      "100% of  32.1 MiB |################################| 192.4 MiB/s Time:  0:00:00\n",
      "100% of  35.4 KiB |################################|  24.3 MiB/s Time:  0:00:00\n"
     ]
    },
    {
     "name": "stdout",
     "output_type": "stream",
     "text": [
      "Extracted from xnat to : ./pre-process-TRAIN/LUNG4-020/CT/ct_image.nrrd\n",
      "Extracted from xnat to : ./pre-process-VALIDATE/LUNG4-023/GT/GTV-1.nrrd\n"
     ]
    },
    {
     "name": "stderr",
     "output_type": "stream",
     "text": [
      "100% of  29.1 MiB |################################| 190.9 MiB/s Time:  0:00:00\n",
      "100% of  49.4 KiB |################################|  38.1 MiB/s Time:  0:00:00\n"
     ]
    },
    {
     "name": "stdout",
     "output_type": "stream",
     "text": [
      "Extracted from xnat to : ./pre-process-VALIDATE/LUNG4-023/CT/ct_image.nrrd\n",
      "Extracted from xnat to : ./pre-process-TRAIN/LUNG4-024/GT/GTV-1.nrrd\n"
     ]
    },
    {
     "name": "stderr",
     "output_type": "stream",
     "text": [
      "100% of  41.5 MiB |################################| 197.0 MiB/s Time:  0:00:00\n",
      "100% of  24.6 KiB |################################|  18.9 MiB/s Time:  0:00:00\n"
     ]
    },
    {
     "name": "stdout",
     "output_type": "stream",
     "text": [
      "Extracted from xnat to : ./pre-process-TRAIN/LUNG4-024/CT/ct_image.nrrd\n",
      "Extracted from xnat to : ./pre-process-TRAIN/LUNG4-025/GT/GTV-1.nrrd\n"
     ]
    },
    {
     "name": "stderr",
     "output_type": "stream",
     "text": [
      "100% of  20.1 MiB |################################| 192.7 MiB/s Time:  0:00:00\n",
      "100% of  36.0 KiB |################################|  26.9 MiB/s Time:  0:00:00\n"
     ]
    },
    {
     "name": "stdout",
     "output_type": "stream",
     "text": [
      "Extracted from xnat to : ./pre-process-TRAIN/LUNG4-025/CT/ct_image.nrrd\n",
      "Extracted from xnat to : ./pre-process-TRAIN/LUNG4-026/GT/GTV-1.nrrd\n"
     ]
    },
    {
     "name": "stderr",
     "output_type": "stream",
     "text": [
      "100% of  30.6 MiB |################################| 197.9 MiB/s Time:  0:00:00\n",
      "100% of  30.1 KiB |################################|  26.2 MiB/s Time:  0:00:00\n"
     ]
    },
    {
     "name": "stdout",
     "output_type": "stream",
     "text": [
      "Extracted from xnat to : ./pre-process-TRAIN/LUNG4-026/CT/ct_image.nrrd\n",
      "Extracted from xnat to : ./pre-process-TRAIN/LUNG4-028/GT/GTV-1.nrrd\n"
     ]
    },
    {
     "name": "stderr",
     "output_type": "stream",
     "text": [
      "100% of  30.5 MiB |################################| 193.5 MiB/s Time:  0:00:00\n",
      "100% of  32.9 KiB |################################|  25.9 MiB/s Time:  0:00:00\n"
     ]
    },
    {
     "name": "stdout",
     "output_type": "stream",
     "text": [
      "Extracted from xnat to : ./pre-process-TRAIN/LUNG4-028/CT/ct_image.nrrd\n",
      "Extracted from xnat to : ./pre-process-TRAIN/LUNG4-029/GT/GTV-1.nrrd\n"
     ]
    },
    {
     "name": "stderr",
     "output_type": "stream",
     "text": [
      "100% of  28.6 MiB |################################| 188.4 MiB/s Time:  0:00:00\n",
      "100% of  43.4 KiB |################################|  31.9 MiB/s Time:  0:00:00\n"
     ]
    },
    {
     "name": "stdout",
     "output_type": "stream",
     "text": [
      "Extracted from xnat to : ./pre-process-TRAIN/LUNG4-029/CT/ct_image.nrrd\n",
      "Extracted from xnat to : ./pre-process-TRAIN/LUNG4-031/GT/GTV-1.nrrd\n"
     ]
    },
    {
     "name": "stderr",
     "output_type": "stream",
     "text": [
      "100% of  43.1 MiB |################################| 192.0 MiB/s Time:  0:00:00\n",
      "100% of  25.1 KiB |################################|  20.0 MiB/s Time:  0:00:00\n"
     ]
    },
    {
     "name": "stdout",
     "output_type": "stream",
     "text": [
      "Extracted from xnat to : ./pre-process-TRAIN/LUNG4-031/CT/ct_image.nrrd\n",
      "Extracted from xnat to : ./pre-process-TRAIN/LUNG4-032/GT/GTV-1.nrrd\n"
     ]
    },
    {
     "name": "stderr",
     "output_type": "stream",
     "text": [
      "100% of  25.2 MiB |################################| 198.3 MiB/s Time:  0:00:00\n",
      "100% of  44.0 KiB |################################|  34.9 MiB/s Time:  0:00:00\n"
     ]
    },
    {
     "name": "stdout",
     "output_type": "stream",
     "text": [
      "Extracted from xnat to : ./pre-process-TRAIN/LUNG4-032/CT/ct_image.nrrd\n",
      "Extracted from xnat to : ./pre-process-VALIDATE/LUNG4-034/GT/GTV-1.nrrd\n"
     ]
    },
    {
     "name": "stderr",
     "output_type": "stream",
     "text": [
      "100% of  43.0 MiB |################################| 196.1 MiB/s Time:  0:00:00\n"
     ]
    },
    {
     "name": "stdout",
     "output_type": "stream",
     "text": [
      "Extracted from xnat to : ./pre-process-VALIDATE/LUNG4-034/CT/ct_image.nrrd\n"
     ]
    },
    {
     "name": "stderr",
     "output_type": "stream",
     "text": [
      "100% of  37.7 KiB |################################|  22.9 MiB/s Time:  0:00:00\n",
      "100% of  33.3 KiB |################################|  28.1 MiB/s Time:  0:00:00\n",
      "  0% of  27.7 MiB |                                  |   0.0 s/B ETA:  --:--:--"
     ]
    },
    {
     "name": "stdout",
     "output_type": "stream",
     "text": [
      "Extracted from xnat to : ./pre-process-VALIDATE/LUNG4-035/GT/GTV-1.nrrd\n",
      "Extracted from xnat to : ./pre-process-VALIDATE/LUNG4-035/GT/GTV-2.nrrd\n"
     ]
    },
    {
     "name": "stderr",
     "output_type": "stream",
     "text": [
      "100% of  27.7 MiB |################################| 194.3 MiB/s Time:  0:00:00\n",
      "100% of  37.1 KiB |################################|  29.1 MiB/s Time:  0:00:00\n"
     ]
    },
    {
     "name": "stdout",
     "output_type": "stream",
     "text": [
      "Extracted from xnat to : ./pre-process-VALIDATE/LUNG4-035/CT/ct_image.nrrd\n",
      "Extracted from xnat to : ./pre-process-TRAIN/LUNG4-037/GT/GTV-1.nrrd\n"
     ]
    },
    {
     "name": "stderr",
     "output_type": "stream",
     "text": [
      "100% of  28.1 MiB |################################| 198.7 MiB/s Time:  0:00:00\n",
      "100% of  37.5 KiB |################################|  27.6 MiB/s Time:  0:00:00\n"
     ]
    },
    {
     "name": "stdout",
     "output_type": "stream",
     "text": [
      "Extracted from xnat to : ./pre-process-TRAIN/LUNG4-037/CT/ct_image.nrrd\n",
      "Extracted from xnat to : ./pre-process-TRAIN/LUNG4-038/GT/GTV-1.nrrd\n"
     ]
    },
    {
     "name": "stderr",
     "output_type": "stream",
     "text": [
      "100% of  36.8 MiB |################################| 193.0 MiB/s Time:  0:00:00\n",
      "100% of  33.8 KiB |################################|  24.1 MiB/s Time:  0:00:00\n"
     ]
    },
    {
     "name": "stdout",
     "output_type": "stream",
     "text": [
      "Extracted from xnat to : ./pre-process-TRAIN/LUNG4-038/CT/ct_image.nrrd\n",
      "Extracted from xnat to : ./pre-process-TRAIN/LUNG4-040/GT/GTV-1.nrrd\n"
     ]
    },
    {
     "name": "stderr",
     "output_type": "stream",
     "text": [
      "100% of  31.0 MiB |################################| 195.2 MiB/s Time:  0:00:00\n",
      "100% of  35.1 KiB |################################|  25.7 MiB/s Time:  0:00:00\n"
     ]
    },
    {
     "name": "stdout",
     "output_type": "stream",
     "text": [
      "Extracted from xnat to : ./pre-process-TRAIN/LUNG4-040/CT/ct_image.nrrd\n",
      "Extracted from xnat to : ./pre-process-TRAIN/LUNG4-041/GT/GTV-1.nrrd\n"
     ]
    },
    {
     "name": "stderr",
     "output_type": "stream",
     "text": [
      "100% of  28.6 MiB |################################| 191.4 MiB/s Time:  0:00:00\n",
      "100% of  35.0 KiB |################################|  23.0 MiB/s Time:  0:00:00\n"
     ]
    },
    {
     "name": "stdout",
     "output_type": "stream",
     "text": [
      "Extracted from xnat to : ./pre-process-TRAIN/LUNG4-041/CT/ct_image.nrrd\n",
      "Extracted from xnat to : ./pre-process-VALIDATE/LUNG4-042/GT/GTV-1.nrrd\n"
     ]
    },
    {
     "name": "stderr",
     "output_type": "stream",
     "text": [
      "100% of  26.7 MiB |################################| 197.0 MiB/s Time:  0:00:00\n",
      "100% of  34.2 KiB |################################|  25.9 MiB/s Time:  0:00:00\n"
     ]
    },
    {
     "name": "stdout",
     "output_type": "stream",
     "text": [
      "Extracted from xnat to : ./pre-process-VALIDATE/LUNG4-042/CT/ct_image.nrrd\n",
      "Extracted from xnat to : ./pre-process-TRAIN/LUNG4-044/GT/GTV-1.nrrd\n"
     ]
    },
    {
     "name": "stderr",
     "output_type": "stream",
     "text": [
      "100% of  30.5 MiB |################################| 193.3 MiB/s Time:  0:00:00\n",
      "100% of  30.2 KiB |################################|  26.8 MiB/s Time:  0:00:00\n"
     ]
    },
    {
     "name": "stdout",
     "output_type": "stream",
     "text": [
      "Extracted from xnat to : ./pre-process-TRAIN/LUNG4-044/CT/ct_image.nrrd\n",
      "Extracted from xnat to : ./pre-process-TRAIN/LUNG4-045/GT/GTV-1.nrrd\n"
     ]
    },
    {
     "name": "stderr",
     "output_type": "stream",
     "text": [
      "100% of  29.7 MiB |################################| 164.0 MiB/s Time:  0:00:00\n",
      "100% of  35.1 KiB |################################|  25.7 MiB/s Time:  0:00:00\n"
     ]
    },
    {
     "name": "stdout",
     "output_type": "stream",
     "text": [
      "Extracted from xnat to : ./pre-process-TRAIN/LUNG4-045/CT/ct_image.nrrd\n",
      "Extracted from xnat to : ./pre-process-VALIDATE/LUNG4-046/GT/GTV-1.nrrd\n"
     ]
    },
    {
     "name": "stderr",
     "output_type": "stream",
     "text": [
      "100% of  32.5 MiB |################################| 194.2 MiB/s Time:  0:00:00\n",
      "100% of  46.6 KiB |################################|  33.0 MiB/s Time:  0:00:00\n"
     ]
    },
    {
     "name": "stdout",
     "output_type": "stream",
     "text": [
      "Extracted from xnat to : ./pre-process-VALIDATE/LUNG4-046/CT/ct_image.nrrd\n",
      "Extracted from xnat to : ./pre-process-TRAIN/LUNG4-047/GT/GTV-1.nrrd\n"
     ]
    },
    {
     "name": "stderr",
     "output_type": "stream",
     "text": [
      "100% of  40.3 MiB |################################| 187.8 MiB/s Time:  0:00:00\n",
      "  0% of  28.9 MiB |                                  |   0.0 s/B ETA:  --:--:--"
     ]
    },
    {
     "name": "stdout",
     "output_type": "stream",
     "text": [
      "Extracted from xnat to : ./pre-process-TRAIN/LUNG4-047/CT/ct_image.nrrd\n"
     ]
    },
    {
     "name": "stderr",
     "output_type": "stream",
     "text": [
      "100% of  28.9 MiB |################################| 194.6 MiB/s Time:  0:00:00\n",
      "100% of  41.6 KiB |################################|  30.6 MiB/s Time:  0:00:00\n"
     ]
    },
    {
     "name": "stdout",
     "output_type": "stream",
     "text": [
      "Extracted from xnat to : ./pre-process-TRAIN/LUNG4-048/CT/ct_image.nrrd\n",
      "Extracted from xnat to : ./pre-process-TRAIN/LUNG4-048/GT/GTV-1.nrrd\n"
     ]
    },
    {
     "name": "stderr",
     "output_type": "stream",
     "text": [
      "100% of  32.3 KiB |################################|  24.1 MiB/s Time:  0:00:00\n",
      " 65% of  30.5 MiB |#####################           | 193.4 MiB/s ETA:   0:00:00"
     ]
    },
    {
     "name": "stdout",
     "output_type": "stream",
     "text": [
      "Extracted from xnat to : ./pre-process-TRAIN/LUNG4-049/GT/GTV-1.nrrd\n"
     ]
    },
    {
     "name": "stderr",
     "output_type": "stream",
     "text": [
      "100% of  30.5 MiB |################################| 193.4 MiB/s Time:  0:00:00\n",
      "  0% of  27.5 MiB |                                  |   0.0 s/B ETA:  --:--:--"
     ]
    },
    {
     "name": "stdout",
     "output_type": "stream",
     "text": [
      "Extracted from xnat to : ./pre-process-TRAIN/LUNG4-049/CT/ct_image.nrrd\n"
     ]
    },
    {
     "name": "stderr",
     "output_type": "stream",
     "text": [
      "100% of  27.5 MiB |################################| 196.6 MiB/s Time:  0:00:00\n",
      "100% of  34.9 KiB |################################|  25.8 MiB/s Time:  0:00:00\n"
     ]
    },
    {
     "name": "stdout",
     "output_type": "stream",
     "text": [
      "Extracted from xnat to : ./pre-process-VALIDATE/LUNG4-050/CT/ct_image.nrrd\n",
      "Extracted from xnat to : ./pre-process-VALIDATE/LUNG4-050/GT/GTV-1.nrrd\n"
     ]
    },
    {
     "name": "stderr",
     "output_type": "stream",
     "text": [
      "100% of  30.4 MiB |################################| 197.2 MiB/s Time:  0:00:00\n",
      "100% of  33.7 KiB |################################|  32.0 MiB/s Time:  0:00:00\n"
     ]
    },
    {
     "name": "stdout",
     "output_type": "stream",
     "text": [
      "Extracted from xnat to : ./pre-process-TRAIN/LUNG4-065/CT/ct_image.nrrd\n",
      "Extracted from xnat to : ./pre-process-TRAIN/LUNG4-065/GT/GTV-1.nrrd\n"
     ]
    },
    {
     "name": "stderr",
     "output_type": "stream",
     "text": [
      "100% of  33.0 KiB |################################|  26.1 MiB/s Time:  0:00:00\n",
      " 64% of  30.9 MiB |####################            | 192.9 MiB/s ETA:   0:00:00"
     ]
    },
    {
     "name": "stdout",
     "output_type": "stream",
     "text": [
      "Extracted from xnat to : ./pre-process-VALIDATE/LUNG4-058/GT/GTV-1.nrrd\n"
     ]
    },
    {
     "name": "stderr",
     "output_type": "stream",
     "text": [
      "100% of  30.9 MiB |################################| 192.9 MiB/s Time:  0:00:00\n",
      "100% of  37.6 KiB |################################|  27.9 MiB/s Time:  0:00:00\n"
     ]
    },
    {
     "name": "stdout",
     "output_type": "stream",
     "text": [
      "Extracted from xnat to : ./pre-process-VALIDATE/LUNG4-058/CT/ct_image.nrrd\n",
      "Extracted from xnat to : ./pre-process-VALIDATE/LUNG4-056/GT/GTV-1.nrrd\n"
     ]
    },
    {
     "name": "stderr",
     "output_type": "stream",
     "text": [
      "100% of  39.8 MiB |################################| 140.3 MiB/s Time:  0:00:00\n",
      "100% of  37.1 KiB |################################|  30.4 MiB/s Time:  0:00:00\n"
     ]
    },
    {
     "name": "stdout",
     "output_type": "stream",
     "text": [
      "Extracted from xnat to : ./pre-process-VALIDATE/LUNG4-056/CT/ct_image.nrrd\n",
      "Extracted from xnat to : ./pre-process-TRAIN/LUNG4-052/GT/GTV-1.nrrd\n"
     ]
    },
    {
     "name": "stderr",
     "output_type": "stream",
     "text": [
      "100% of  30.5 MiB |################################| 197.0 MiB/s Time:  0:00:00\n",
      "  0% of  32.2 MiB |                                  |   0.0 s/B ETA:  --:--:--"
     ]
    },
    {
     "name": "stdout",
     "output_type": "stream",
     "text": [
      "Extracted from xnat to : ./pre-process-TRAIN/LUNG4-052/CT/ct_image.nrrd\n"
     ]
    },
    {
     "name": "stderr",
     "output_type": "stream",
     "text": [
      "100% of  32.2 MiB |################################| 198.7 MiB/s Time:  0:00:00\n",
      "100% of  32.6 KiB |################################|  27.7 MiB/s Time:  0:00:00\n",
      "100% of  32.6 KiB |################################|  25.3 MiB/s Time:  0:00:00\n"
     ]
    },
    {
     "name": "stdout",
     "output_type": "stream",
     "text": [
      "Extracted from xnat to : ./pre-process-TRAIN/LUNG4-061/CT/ct_image.nrrd\n",
      "Extracted from xnat to : ./pre-process-TRAIN/LUNG4-061/GT/GTV-1.nrrd\n",
      "Extracted from xnat to : ./pre-process-TRAIN/LUNG4-061/GT/GTV-2.nrrd\n"
     ]
    },
    {
     "name": "stderr",
     "output_type": "stream",
     "text": [
      "100% of  26.3 KiB |################################|  21.1 MiB/s Time:  0:00:00\n",
      " 58% of  24.8 MiB |##################              | 140.2 MiB/s ETA:   0:00:00"
     ]
    },
    {
     "name": "stdout",
     "output_type": "stream",
     "text": [
      "Extracted from xnat to : ./pre-process-TRAIN/LUNG4-057/GT/GTV-1.nrrd\n"
     ]
    },
    {
     "name": "stderr",
     "output_type": "stream",
     "text": [
      "100% of  24.8 MiB |################################| 140.2 MiB/s Time:  0:00:00\n",
      "100% of  35.6 KiB |################################|  33.7 MiB/s Time:  0:00:00\n"
     ]
    },
    {
     "name": "stdout",
     "output_type": "stream",
     "text": [
      "Extracted from xnat to : ./pre-process-TRAIN/LUNG4-057/CT/ct_image.nrrd\n",
      "Extracted from xnat to : ./pre-process-VALIDATE/LUNG4-055/GT/GTV-1.nrrd\n"
     ]
    },
    {
     "name": "stderr",
     "output_type": "stream",
     "text": [
      "100% of  32.7 MiB |################################| 196.8 MiB/s Time:  0:00:00\n",
      "100% of  34.9 KiB |################################|  25.5 MiB/s Time:  0:00:00\n"
     ]
    },
    {
     "name": "stdout",
     "output_type": "stream",
     "text": [
      "Extracted from xnat to : ./pre-process-VALIDATE/LUNG4-055/CT/ct_image.nrrd\n",
      "Extracted from xnat to : ./pre-process-TRAIN/LUNG4-063/GT/GTV-1.nrrd\n"
     ]
    },
    {
     "name": "stderr",
     "output_type": "stream",
     "text": [
      "100% of  34.8 MiB |################################| 199.6 MiB/s Time:  0:00:00\n",
      "100% of  40.3 KiB |################################|  28.8 MiB/s Time:  0:00:00\n"
     ]
    },
    {
     "name": "stdout",
     "output_type": "stream",
     "text": [
      "Extracted from xnat to : ./pre-process-TRAIN/LUNG4-063/CT/ct_image.nrrd\n",
      "Extracted from xnat to : ./pre-process-TRAIN/LUNG4-059/GT/GTV-1.nrrd\n"
     ]
    },
    {
     "name": "stderr",
     "output_type": "stream",
     "text": [
      "100% of  28.5 MiB |################################| 200.1 MiB/s Time:  0:00:00\n",
      "100% of  44.4 KiB |################################|  36.2 MiB/s Time:  0:00:00\n"
     ]
    },
    {
     "name": "stdout",
     "output_type": "stream",
     "text": [
      "Extracted from xnat to : ./pre-process-TRAIN/LUNG4-059/CT/ct_image.nrrd\n",
      "Extracted from xnat to : ./pre-process-TRAIN/LUNG4-062/GT/GTV-1.nrrd\n"
     ]
    },
    {
     "name": "stderr",
     "output_type": "stream",
     "text": [
      "100% of  38.5 MiB |################################| 188.5 MiB/s Time:  0:00:00\n",
      "100% of  34.1 KiB |################################|  26.3 MiB/s Time:  0:00:00\n"
     ]
    },
    {
     "name": "stdout",
     "output_type": "stream",
     "text": [
      "Extracted from xnat to : ./pre-process-TRAIN/LUNG4-062/CT/ct_image.nrrd\n",
      "Extracted from xnat to : ./pre-process-VALIDATE/LUNG4-067/GT/GTV-1.nrrd\n"
     ]
    },
    {
     "name": "stderr",
     "output_type": "stream",
     "text": [
      "100% of  31.4 MiB |################################| 200.1 MiB/s Time:  0:00:00\n",
      "100% of  35.0 KiB |################################|  26.0 MiB/s Time:  0:00:00\n"
     ]
    },
    {
     "name": "stdout",
     "output_type": "stream",
     "text": [
      "Extracted from xnat to : ./pre-process-VALIDATE/LUNG4-067/CT/ct_image.nrrd\n",
      "Extracted from xnat to : ./pre-process-TRAIN/LUNG4-068/GT/GTV-1.nrrd\n"
     ]
    },
    {
     "name": "stderr",
     "output_type": "stream",
     "text": [
      "100% of  29.9 MiB |################################| 199.2 MiB/s Time:  0:00:00\n",
      "100% of  35.1 KiB |################################|  26.3 MiB/s Time:  0:00:00\n"
     ]
    },
    {
     "name": "stdout",
     "output_type": "stream",
     "text": [
      "Extracted from xnat to : ./pre-process-TRAIN/LUNG4-068/CT/ct_image.nrrd\n",
      "Extracted from xnat to : ./pre-process-TRAIN/LUNG4-069/GT/GTV-1.nrrd\n"
     ]
    },
    {
     "name": "stderr",
     "output_type": "stream",
     "text": [
      "100% of  29.6 MiB |################################| 198.4 MiB/s Time:  0:00:00\n",
      "100% of  35.1 KiB |################################|  25.0 MiB/s Time:  0:00:00\n"
     ]
    },
    {
     "name": "stdout",
     "output_type": "stream",
     "text": [
      "Extracted from xnat to : ./pre-process-TRAIN/LUNG4-069/CT/ct_image.nrrd\n",
      "Extracted from xnat to : ./pre-process-VALIDATE/LUNG4-070/GT/GTV-1.nrrd\n"
     ]
    },
    {
     "name": "stderr",
     "output_type": "stream",
     "text": [
      "100% of  29.5 MiB |################################| 194.7 MiB/s Time:  0:00:00\n",
      "100% of  39.1 KiB |################################|  35.0 MiB/s Time:  0:00:00\n"
     ]
    },
    {
     "name": "stdout",
     "output_type": "stream",
     "text": [
      "Extracted from xnat to : ./pre-process-VALIDATE/LUNG4-070/CT/ct_image.nrrd\n",
      "Extracted from xnat to : ./pre-process-TRAIN/LUNG4-071/GT/GTV-1.nrrd\n"
     ]
    },
    {
     "name": "stderr",
     "output_type": "stream",
     "text": [
      "100% of  28.6 MiB |################################| 198.5 MiB/s Time:  0:00:00\n",
      "  0% of  33.3 MiB |                                  |   0.0 s/B ETA:  --:--:--"
     ]
    },
    {
     "name": "stdout",
     "output_type": "stream",
     "text": [
      "Extracted from xnat to : ./pre-process-TRAIN/LUNG4-071/CT/ct_image.nrrd\n"
     ]
    },
    {
     "name": "stderr",
     "output_type": "stream",
     "text": [
      "100% of  33.3 MiB |################################| 199.2 MiB/s Time:  0:00:00\n",
      "100% of  39.6 KiB |################################|  31.2 MiB/s Time:  0:00:00\n"
     ]
    },
    {
     "name": "stdout",
     "output_type": "stream",
     "text": [
      "Extracted from xnat to : ./pre-process-TRAIN/LUNG4-072/CT/ct_image.nrrd\n",
      "Extracted from xnat to : ./pre-process-TRAIN/LUNG4-072/GT/GTV-1.nrrd\n"
     ]
    },
    {
     "name": "stderr",
     "output_type": "stream",
     "text": [
      "100% of  34.9 KiB |################################|  25.8 MiB/s Time:  0:00:00\n",
      " 57% of  34.7 MiB |##################              | 196.8 MiB/s ETA:   0:00:00"
     ]
    },
    {
     "name": "stdout",
     "output_type": "stream",
     "text": [
      "Extracted from xnat to : ./pre-process-TRAIN/LUNG4-073/GT/GTV-1.nrrd\n"
     ]
    },
    {
     "name": "stderr",
     "output_type": "stream",
     "text": [
      "100% of  34.7 MiB |################################| 196.8 MiB/s Time:  0:00:00\n",
      "  0% of  32.5 MiB |                                  |   0.0 s/B ETA:  --:--:--"
     ]
    },
    {
     "name": "stdout",
     "output_type": "stream",
     "text": [
      "Extracted from xnat to : ./pre-process-TRAIN/LUNG4-073/CT/ct_image.nrrd\n"
     ]
    },
    {
     "name": "stderr",
     "output_type": "stream",
     "text": [
      "100% of  32.5 MiB |################################| 199.2 MiB/s Time:  0:00:00\n",
      "100% of  34.4 KiB |################################|  33.2 MiB/s Time:  0:00:00\n"
     ]
    },
    {
     "name": "stdout",
     "output_type": "stream",
     "text": [
      "Extracted from xnat to : ./pre-process-TRAIN/LUNG4-074/CT/ct_image.nrrd\n",
      "Extracted from xnat to : ./pre-process-TRAIN/LUNG4-074/GT/GTV-1.nrrd\n"
     ]
    },
    {
     "name": "stderr",
     "output_type": "stream",
     "text": [
      "100% of  36.6 KiB |################################|  26.0 MiB/s Time:  0:00:00\n",
      " 66% of  30.7 MiB |#####################           | 200.2 MiB/s ETA:   0:00:00"
     ]
    },
    {
     "name": "stdout",
     "output_type": "stream",
     "text": [
      "Extracted from xnat to : ./pre-process-TRAIN/LUNG4-075/GT/GTV-1.nrrd\n"
     ]
    },
    {
     "name": "stderr",
     "output_type": "stream",
     "text": [
      "100% of  30.7 MiB |################################| 200.2 MiB/s Time:  0:00:00\n",
      "  0% of  34.3 MiB |                                  |   0.0 s/B ETA:  --:--:--"
     ]
    },
    {
     "name": "stdout",
     "output_type": "stream",
     "text": [
      "Extracted from xnat to : ./pre-process-TRAIN/LUNG4-075/CT/ct_image.nrrd\n"
     ]
    },
    {
     "name": "stderr",
     "output_type": "stream",
     "text": [
      "100% of  34.3 MiB |################################| 198.9 MiB/s Time:  0:00:00\n",
      "100% of  34.5 KiB |################################|  33.3 MiB/s Time:  0:00:00\n"
     ]
    },
    {
     "name": "stdout",
     "output_type": "stream",
     "text": [
      "Extracted from xnat to : ./pre-process-TRAIN/LUNG4-076/CT/ct_image.nrrd\n",
      "Extracted from xnat to : ./pre-process-TRAIN/LUNG4-076/GT/GTV-1.nrrd\n"
     ]
    },
    {
     "name": "stderr",
     "output_type": "stream",
     "text": [
      "100% of  43.0 KiB |################################|  30.1 MiB/s Time:  0:00:00\n",
      " 62% of  31.8 MiB |####################            | 196.9 MiB/s ETA:   0:00:00"
     ]
    },
    {
     "name": "stdout",
     "output_type": "stream",
     "text": [
      "Extracted from xnat to : ./pre-process-TRAIN/LUNG4-077/GT/GTV-1.nrrd\n"
     ]
    },
    {
     "name": "stderr",
     "output_type": "stream",
     "text": [
      "100% of  31.8 MiB |################################| 196.9 MiB/s Time:  0:00:00\n",
      "100% of  44.7 KiB |################################|  30.9 MiB/s Time:  0:00:00\n"
     ]
    },
    {
     "name": "stdout",
     "output_type": "stream",
     "text": [
      "Extracted from xnat to : ./pre-process-TRAIN/LUNG4-077/CT/ct_image.nrrd\n",
      "Extracted from xnat to : ./pre-process-VALIDATE/LUNG4-078/GT/GTV-1.nrrd\n"
     ]
    },
    {
     "name": "stderr",
     "output_type": "stream",
     "text": [
      "100% of  38.9 MiB |################################| 198.6 MiB/s Time:  0:00:00\n",
      "100% of  45.8 KiB |################################|  33.5 MiB/s Time:  0:00:00\n"
     ]
    },
    {
     "name": "stdout",
     "output_type": "stream",
     "text": [
      "Extracted from xnat to : ./pre-process-VALIDATE/LUNG4-078/CT/ct_image.nrrd\n",
      "Extracted from xnat to : ./pre-process-TRAIN/LUNG4-079/GT/GTV-1.nrrd\n"
     ]
    },
    {
     "name": "stderr",
     "output_type": "stream",
     "text": [
      "100% of  38.5 MiB |################################| 198.8 MiB/s Time:  0:00:00\n",
      "100% of  36.7 KiB |################################|  25.6 MiB/s Time:  0:00:00\n"
     ]
    },
    {
     "name": "stdout",
     "output_type": "stream",
     "text": [
      "Extracted from xnat to : ./pre-process-TRAIN/LUNG4-079/CT/ct_image.nrrd\n",
      "Extracted from xnat to : ./pre-process-TRAIN/LUNG4-080/GT/GTV-1.nrrd\n"
     ]
    },
    {
     "name": "stderr",
     "output_type": "stream",
     "text": [
      "100% of  30.1 MiB |################################| 192.5 MiB/s Time:  0:00:00\n",
      "100% of  42.5 KiB |################################|  32.3 MiB/s Time:  0:00:00\n"
     ]
    },
    {
     "name": "stdout",
     "output_type": "stream",
     "text": [
      "Extracted from xnat to : ./pre-process-TRAIN/LUNG4-080/CT/ct_image.nrrd\n",
      "Extracted from xnat to : ./pre-process-TRAIN/LUNG4-081/GT/GTV-1.nrrd\n"
     ]
    },
    {
     "name": "stderr",
     "output_type": "stream",
     "text": [
      "100% of  40.1 MiB |################################| 198.2 MiB/s Time:  0:00:00\n",
      "100% of  34.6 KiB |################################|  26.9 MiB/s Time:  0:00:00\n"
     ]
    },
    {
     "name": "stdout",
     "output_type": "stream",
     "text": [
      "Extracted from xnat to : ./pre-process-TRAIN/LUNG4-081/CT/ct_image.nrrd\n",
      "Extracted from xnat to : ./pre-process-TRAIN/LUNG4-082/GT/GTV-1.nrrd\n"
     ]
    },
    {
     "name": "stderr",
     "output_type": "stream",
     "text": [
      "100% of  29.8 MiB |################################| 198.2 MiB/s Time:  0:00:00\n",
      "100% of  33.1 KiB |################################|  29.4 MiB/s Time:  0:00:00\n"
     ]
    },
    {
     "name": "stdout",
     "output_type": "stream",
     "text": [
      "Extracted from xnat to : ./pre-process-TRAIN/LUNG4-082/CT/ct_image.nrrd\n",
      "Extracted from xnat to : ./pre-process-TRAIN/LUNG4-083/GT/GTV-1.nrrd\n"
     ]
    },
    {
     "name": "stderr",
     "output_type": "stream",
     "text": [
      "100% of  30.4 MiB |################################| 196.0 MiB/s Time:  0:00:00\n",
      "  0% of  31.5 MiB |                                  |   0.0 s/B ETA:  --:--:--"
     ]
    },
    {
     "name": "stdout",
     "output_type": "stream",
     "text": [
      "Extracted from xnat to : ./pre-process-TRAIN/LUNG4-083/CT/ct_image.nrrd\n"
     ]
    },
    {
     "name": "stderr",
     "output_type": "stream",
     "text": [
      "100% of  31.5 MiB |################################| 196.6 MiB/s Time:  0:00:00\n",
      "100% of  32.7 KiB |################################|  28.9 MiB/s Time:  0:00:00\n"
     ]
    },
    {
     "name": "stdout",
     "output_type": "stream",
     "text": [
      "Extracted from xnat to : ./pre-process-TRAIN/LUNG4-084/CT/ct_image.nrrd\n",
      "Extracted from xnat to : ./pre-process-TRAIN/LUNG4-084/GT/GTV-1.nrrd\n"
     ]
    },
    {
     "name": "stderr",
     "output_type": "stream",
     "text": [
      "100% of  37.8 KiB |################################|  26.2 MiB/s Time:  0:00:00\n",
      " 60% of  33.0 MiB |###################             | 197.1 MiB/s ETA:   0:00:00"
     ]
    },
    {
     "name": "stdout",
     "output_type": "stream",
     "text": [
      "Extracted from xnat to : ./pre-process-TRAIN/LUNG4-085/GT/GTV-1.nrrd\n"
     ]
    },
    {
     "name": "stderr",
     "output_type": "stream",
     "text": [
      "100% of  33.0 MiB |################################| 197.1 MiB/s Time:  0:00:00\n",
      "100% of  32.3 KiB |################################|  22.7 MiB/s Time:  0:00:00\n"
     ]
    },
    {
     "name": "stdout",
     "output_type": "stream",
     "text": [
      "Extracted from xnat to : ./pre-process-TRAIN/LUNG4-085/CT/ct_image.nrrd\n",
      "Extracted from xnat to : ./pre-process-TRAIN/LUNG4-086/GT/GTV-1.nrrd\n"
     ]
    },
    {
     "name": "stderr",
     "output_type": "stream",
     "text": [
      "100% of  28.9 MiB |################################| 137.0 MiB/s Time:  0:00:00\n",
      "100% of  34.9 KiB |################################|  26.1 MiB/s Time:  0:00:00\n"
     ]
    },
    {
     "name": "stdout",
     "output_type": "stream",
     "text": [
      "Extracted from xnat to : ./pre-process-TRAIN/LUNG4-086/CT/ct_image.nrrd\n",
      "Extracted from xnat to : ./pre-process-TRAIN/LUNG4-087/GT/GTV-1.nrrd\n"
     ]
    },
    {
     "name": "stderr",
     "output_type": "stream",
     "text": [
      "100% of  31.5 MiB |################################| 198.6 MiB/s Time:  0:00:00\n",
      "  0% of  33.1 MiB |                                  |   0.0 s/B ETA:  --:--:--"
     ]
    },
    {
     "name": "stdout",
     "output_type": "stream",
     "text": [
      "Extracted from xnat to : ./pre-process-TRAIN/LUNG4-087/CT/ct_image.nrrd\n"
     ]
    },
    {
     "name": "stderr",
     "output_type": "stream",
     "text": [
      "100% of  33.1 MiB |################################| 198.8 MiB/s Time:  0:00:00\n",
      "100% of  36.6 KiB |################################|  30.6 MiB/s Time:  0:00:00\n"
     ]
    },
    {
     "name": "stdout",
     "output_type": "stream",
     "text": [
      "Extracted from xnat to : ./pre-process-TRAIN/LUNG4-088/CT/ct_image.nrrd\n",
      "Extracted from xnat to : ./pre-process-TRAIN/LUNG4-088/GT/GTV-1.nrrd\n"
     ]
    },
    {
     "name": "stderr",
     "output_type": "stream",
     "text": [
      "100% of  42.1 KiB |################################|  35.2 MiB/s Time:  0:00:00\n",
      " 58% of  34.1 MiB |##################              | 194.9 MiB/s ETA:   0:00:00"
     ]
    },
    {
     "name": "stdout",
     "output_type": "stream",
     "text": [
      "Extracted from xnat to : ./pre-process-TRAIN/LUNG4-089/GT/GTV-1.nrrd\n"
     ]
    },
    {
     "name": "stderr",
     "output_type": "stream",
     "text": [
      "100% of  34.1 MiB |################################| 194.9 MiB/s Time:  0:00:00\n",
      "100% of  35.4 KiB |################################|  29.2 MiB/s Time:  0:00:00\n"
     ]
    },
    {
     "name": "stdout",
     "output_type": "stream",
     "text": [
      "Extracted from xnat to : ./pre-process-TRAIN/LUNG4-089/CT/ct_image.nrrd\n",
      "Extracted from xnat to : ./pre-process-TRAIN/LUNG4-091/GT/GTV-1.nrrd\n"
     ]
    },
    {
     "name": "stderr",
     "output_type": "stream",
     "text": [
      "100% of  29.5 MiB |################################| 186.3 MiB/s Time:  0:00:00\n",
      "100% of  34.3 KiB |################################|  27.7 MiB/s Time:  0:00:00\n"
     ]
    },
    {
     "name": "stdout",
     "output_type": "stream",
     "text": [
      "Extracted from xnat to : ./pre-process-TRAIN/LUNG4-091/CT/ct_image.nrrd\n",
      "Extracted from xnat to : ./pre-process-VALIDATE/LUNG4-098/GT/GTV-1.nrrd\n"
     ]
    },
    {
     "name": "stderr",
     "output_type": "stream",
     "text": [
      "100% of  32.7 MiB |################################| 197.5 MiB/s Time:  0:00:00\n",
      "100% of  41.3 KiB |################################|  31.5 MiB/s Time:  0:00:00\n"
     ]
    },
    {
     "name": "stdout",
     "output_type": "stream",
     "text": [
      "Extracted from xnat to : ./pre-process-VALIDATE/LUNG4-098/CT/ct_image.nrrd\n",
      "Extracted from xnat to : ./pre-process-TRAIN/LUNG4-097/GT/GTV-1.nrrd\n"
     ]
    },
    {
     "name": "stderr",
     "output_type": "stream",
     "text": [
      "100% of  31.3 MiB |################################| 195.6 MiB/s Time:  0:00:00\n",
      "100% of  34.7 KiB |################################|  25.8 MiB/s Time:  0:00:00\n"
     ]
    },
    {
     "name": "stdout",
     "output_type": "stream",
     "text": [
      "Extracted from xnat to : ./pre-process-TRAIN/LUNG4-097/CT/ct_image.nrrd\n",
      "Extracted from xnat to : ./pre-process-TRAIN/LUNG4-096/GT/GTV-1.nrrd\n"
     ]
    },
    {
     "name": "stderr",
     "output_type": "stream",
     "text": [
      "100% of  29.4 MiB |################################| 199.3 MiB/s Time:  0:00:00\n",
      "100% of  32.3 KiB |################################|  23.0 MiB/s Time:  0:00:00\n"
     ]
    },
    {
     "name": "stdout",
     "output_type": "stream",
     "text": [
      "Extracted from xnat to : ./pre-process-TRAIN/LUNG4-096/CT/ct_image.nrrd\n",
      "Extracted from xnat to : ./pre-process-TRAIN/LUNG4-094/GT/GTV-1.nrrd\n"
     ]
    },
    {
     "name": "stderr",
     "output_type": "stream",
     "text": [
      "100% of  28.2 MiB |################################| 187.6 MiB/s Time:  0:00:00\n"
     ]
    },
    {
     "name": "stdout",
     "output_type": "stream",
     "text": [
      "Extracted from xnat to : ./pre-process-TRAIN/LUNG4-094/CT/ct_image.nrrd\n"
     ]
    }
   ],
   "source": [
    "# -----------------------------------------------------------\n",
    "with xnat.connect(xnatUrl, user=xnatUser, password=xnatPass) as session:\n",
    "    myProject = session.projects[xnatProject]\n",
    "    mySubjectsList = myProject.subjects.values()\n",
    "    for s in mySubjectsList:\n",
    "            mySubjectID = s.label\n",
    "            mySubject = myProject.subjects[mySubjectID]\n",
    "            myExperimentsList = mySubject.experiments.values()\n",
    "            for e in myExperimentsList:\n",
    "                myExperimentID = e.label\n",
    "                myExperiment = mySubject.experiments[myExperimentID]\n",
    "                myResourcesList = myExperiment.resources.values()\n",
    "                for r in myResourcesList:\n",
    "                    myResourceID = r.label\n",
    "                    if myResourceID.startswith(DevelopmentSetLabel):\n",
    "                        destination_stem = os.path.join(DevelopmentWorkingDir,mySubjectID)\n",
    "                    elif myResourceID.startswith(ValidationSetLabel):\n",
    "                        destination_stem = os.path.join(ValidationWorkingDir,mySubjectID)\n",
    "                    else:\n",
    "                        continue #skip over any non-nrrd type of object\n",
    "                    myResource = myExperiment.resources[myResourceID]\n",
    "                    for i in range(len(myResource.files)):\n",
    "                        myFile = myResource.files[i].data['Name']\n",
    "                        if myFile.startswith('GTV'):\n",
    "                            destination_mid = 'GT'\n",
    "                        elif myFile.startswith('ct'):\n",
    "                            destination_mid = 'CT'\n",
    "                        else:\n",
    "                            continue\n",
    "                        destination = os.path.join(destination_stem,destination_mid)\n",
    "                        cleanup_temp_folder(destination)\n",
    "                        try:\n",
    "                            myResource.files[0].download(os.path.join(destination,myFile))\n",
    "                            print('Extracted from xnat to : ' + os.path.join(destination,myFile))\n",
    "                        except:\n",
    "                            print('FAILURE - could not save ' + os.path.join(destination,myFile))\n"
   ]
  }
 ],
 "metadata": {
  "kernelspec": {
   "display_name": "Python 3 (ipykernel)",
   "language": "python",
   "name": "python3"
  },
  "language_info": {
   "codemirror_mode": {
    "name": "ipython",
    "version": 3
   },
   "file_extension": ".py",
   "mimetype": "text/x-python",
   "name": "python",
   "nbconvert_exporter": "python",
   "pygments_lexer": "ipython3",
   "version": "3.10.6"
  }
 },
 "nbformat": 4,
 "nbformat_minor": 5
}
