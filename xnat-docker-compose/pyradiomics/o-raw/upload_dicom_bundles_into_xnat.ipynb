{
 "cells": [
  {
   "cell_type": "code",
   "execution_count": 1,
   "metadata": {},
   "outputs": [],
   "source": [
    "import xnat\n",
    "import zipfile\n",
    "#import mysql.connector\n",
    "#import json\n",
    "import os\n",
    "import pydicom as dicom"
   ]
  },
  {
   "cell_type": "code",
   "execution_count": 2,
   "metadata": {},
   "outputs": [],
   "source": [
    "# set up XNAT login credentials here\n",
    "# .......................\n",
    "#xnatUrl = 'http://172.19.0.5:80'  #change me! e.g. 'http://localhost:8081/'\n",
    "xnatUrl = 'http://xnat-nginx:80/'\n",
    "# - check the url using docker network inspect on the package defaul network, find the web application nginx\n",
    "# - the procedure is\n",
    "# - docker network ls\n",
    "# - find your docker network bridge running all the xnat and python images, eg xnat-docker-compose-master_default\n",
    "# - copy the network id on the left hand side\n",
    "# - docker network inspect [the network id from above]\n",
    "# - scroll down a little and find the docker IP network address of the nginx gateway\n",
    "#xnatUrl = 'https://xnat.bmia.nl'\n",
    "xnatUser = 'admin'  #change me!\n",
    "#xnatUser = 'leonardwee'  #change me!\n",
    "xnatPass = 'admin'  #change me!\n",
    "xnatProject = 'argos-testbed'  #change me!"
   ]
  },
  {
   "cell_type": "code",
   "execution_count": 3,
   "metadata": {},
   "outputs": [],
   "source": [
    "# ----------------------------------------------------------------------------------- create a zip function\n",
    "#fileList : a python list containing the path to each file to put packed into the zip archive\n",
    "def createZip(fileList, fileName, omitPrefixFolder=None):\n",
    "    fileZip = zipfile.ZipFile(fileName, 'w', zipfile.ZIP_DEFLATED)\n",
    "\n",
    "    for myFile in fileList:\n",
    "        archFileName = myFile\n",
    "        if omitPrefixFolder is not None:\n",
    "            archFileName = myFile.replace(omitPrefixFolder, '')\n",
    "        try:\n",
    "            fileZip.write(myFile, archFileName)\n",
    "        except:\n",
    "            print(\"Could not find file: \" + myFile)\n",
    "\n",
    "    fileZip.close()\n",
    "\n",
    "    return fileName"
   ]
  },
  {
   "cell_type": "code",
   "execution_count": 4,
   "metadata": {},
   "outputs": [],
   "source": [
    "# ----------------------------------------------------------------------------------- create an xnat upload function\n",
    "#conn : is the connector handle to an XNAT service\n",
    "#zipFilePath : is the fullPath to the zipped dicom data object\n",
    "#project : is the unique identifier of the xnat project - see your setting for xnatProject above\n",
    "#subject : is the unique identifier of the patient\n",
    "#studyDescription : is the identifier of the study eg \"CT\"\n",
    "def uploadData(conn, zipFilePath, project, subject, studyDescription):\n",
    "    conn.services.import_(zipFilePath, content_type='application/zip',\n",
    "                          project=project,\n",
    "                          subject=subject,\n",
    "                          experiment=studyDescription, overwrite=\"delete\")"
   ]
  },
  {
   "cell_type": "code",
   "execution_count": 6,
   "metadata": {},
   "outputs": [
    {
     "name": "stderr",
     "output_type": "stream",
     "text": [
      "[WARNING] Detected a redirect from http://xnat-nginx:80/ to http://xnat-nginx/, using http://xnat-nginx/ from now on\n"
     ]
    }
   ],
   "source": [
    "# Connecting to XNAT service\n",
    "connection = xnat.connect(xnatUrl, user=xnatUser, password=xnatPass)"
   ]
  },
  {
   "cell_type": "code",
   "execution_count": 7,
   "metadata": {},
   "outputs": [],
   "source": [
    "#script starts here\n",
    "dataLocation = './data/xnat_import' #change me!\n",
    "\n",
    "patientList = [ f.path for f in os.scandir(dataLocation) if f.is_dir() ]"
   ]
  },
  {
   "cell_type": "code",
   "execution_count": 8,
   "metadata": {},
   "outputs": [
    {
     "name": "stdout",
     "output_type": "stream",
     "text": [
      "./data/xnat_import/LUNG1-001.zip\n",
      "./data/xnat_import/LUNG1-002.zip\n",
      "./data/xnat_import/LUNG1-003.zip\n",
      "FINISHED!\n"
     ]
    }
   ],
   "source": [
    "for ff in patientList:\n",
    "    patid = ff.split('/')[-1]\n",
    "    targetFile = dataLocation+'/'+patid+'.zip' ##change me!\n",
    "    listOfFiles = [os.path.join(dp, f) for dp, dn, filenames in os.walk(ff) for f in filenames]\n",
    "    #this = dicom.read_file(listOfFiles[0], force=True)\n",
    "    xnatSubject = patid\n",
    "    xnatStudyDescription = 'CT' #or change to this.StudyDescription\n",
    "    zipFileName = createZip(listOfFiles,targetFile)\n",
    "    print(zipFileName)\n",
    "    try:\n",
    "        #uploadData(connection, zipFileName,xnatProject,xnatSubject,xnatStudyDescription)\n",
    "        prearchive_session = connection.services.import_(zipFileName, project=xnatProject, destination='/prearchive')\n",
    "        os.remove(zipFileName)\n",
    "    except:\n",
    "        print(\"Could not upload study : \"+xnatSubject)\n",
    "\n",
    "# Close XNAT connection\n",
    "connection.disconnect()\n",
    "\n",
    "print('FINISHED!')"
   ]
  },
  {
   "cell_type": "code",
   "execution_count": 8,
   "metadata": {},
   "outputs": [],
   "source": [
    "# Close XNAT connection\n",
    "connection.disconnect()"
   ]
  },
  {
   "cell_type": "code",
   "execution_count": null,
   "metadata": {},
   "outputs": [],
   "source": []
  },
  {
   "cell_type": "code",
   "execution_count": null,
   "metadata": {},
   "outputs": [],
   "source": []
  },
  {
   "cell_type": "code",
   "execution_count": null,
   "metadata": {},
   "outputs": [],
   "source": []
  }
 ],
 "metadata": {
  "kernelspec": {
   "display_name": "Python 3 (ipykernel)",
   "language": "python",
   "name": "python3"
  },
  "language_info": {
   "codemirror_mode": {
    "name": "ipython",
    "version": 3
   },
   "file_extension": ".py",
   "mimetype": "text/x-python",
   "name": "python",
   "nbconvert_exporter": "python",
   "pygments_lexer": "ipython3",
   "version": "3.10.6"
  }
 },
 "nbformat": 4,
 "nbformat_minor": 4
}
