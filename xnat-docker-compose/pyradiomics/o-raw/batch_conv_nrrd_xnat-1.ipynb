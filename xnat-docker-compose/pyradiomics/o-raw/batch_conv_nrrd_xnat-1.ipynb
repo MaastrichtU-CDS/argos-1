{
 "cells": [
  {
   "cell_type": "markdown",
   "id": "0fcc84f5",
   "metadata": {},
   "source": [
    "# Batch conversion Dicom to NRRD in XNAT collection"
   ]
  },
  {
   "cell_type": "raw",
   "id": "5ea30128",
   "metadata": {},
   "source": [
    "By : Leonard Wee (postdoc), Tianchen Luo (intern) and Zhenwei Shi (PhD graduate)\n",
    "Thanks to : Johan van Soest (dicomdb function) and Hakim Achterberg (xnat api library)"
   ]
  },
  {
   "cell_type": "markdown",
   "id": "df2d2522",
   "metadata": {},
   "source": [
    "### import necessary components"
   ]
  },
  {
   "cell_type": "code",
   "execution_count": null,
   "id": "2ab3ecee",
   "metadata": {
    "scrolled": true
   },
   "outputs": [],
   "source": [
    "#ORAW modifications and integrations with XNAT by Leonard Wee during Oct -> Dec 2021\n",
    "\n",
    "from __future__ import print_function\n",
    "\n",
    "from time import process_time\n",
    "import os, subprocess, glob\n",
    "#import yaml\n",
    "#import ORAW\n",
    "import glob\n",
    "import shutil\n",
    "import pandas as pd\n",
    "from datetime import date, datetime\n",
    "from numpy.random import choice\n",
    "\n",
    "import xnat #needed for reading and writing to/from XNAT\n",
    "from DicomDatabase import DicomDatabase # dicom indexer by Johan van Soest\n"
   ]
  },
  {
   "cell_type": "markdown",
   "id": "c83d00c2",
   "metadata": {},
   "source": [
    "### define needed operations"
   ]
  },
  {
   "cell_type": "code",
   "execution_count": null,
   "id": "46392327",
   "metadata": {},
   "outputs": [],
   "source": [
    "def upload_file(session, project, subject, experiment, assessment, resource, convfile):\n",
    "    xnat_project = session.projects[project]\n",
    "    xnat_subject = xnat_project.subjects[subject]\n",
    "    xnat_experiment = xnat_project.experiments[experiment]\n",
    "    xnat_resource = session.classes.ResourceCatalog(parent=xnat_experiment, label=resource)\n",
    "    #xnat_assessment = session.classes.QcAssessmentData(parent=xnat_experiment, label=assessment) #not used\n",
    "    #xnat_resource = session.classes.ResourceCatalog(parent=xnat_assessment, label=resource) #resource under experiment instead\n",
    "    xnat_resource.upload(convfile, os.path.basename(convfile)) # upload\n",
    "#    for file_ in data:\n",
    "#        resource.upload(file_, os.path.basename(file_))\n",
    "#    pass\n",
    "\n",
    "\n",
    "def cleanup_temp_folder(dirt):\n",
    "    if os.path.exists(dirt):\n",
    "        shutil.rmtree(dirt)\n",
    "        os.makedirs(dirt)\n",
    "    if not os.path.exists(dirt):\n",
    "        os.makedirs(dirt)\n",
    "        \n",
    "def RTSTRUCT2NRRD(pt,dt):\n",
    "    # convert contents of STRUCTWorkingDir to NRRD using CTWorkingDir as reference\n",
    "    f = open(os.path.join('./plastimatch','plastimatch_logfile.txt'), \"a\")\n",
    "    try:\n",
    "        subprocess.run(['plastimatch', 'convert',\\\n",
    "                '--input',STRUCTWorkingDir,\\\n",
    "                '--output-prefix',NRRDWorkingDir,\n",
    "                '--prefix-format','nrrd',\\\n",
    "                '--referenced-ct',CTWorkingDir,\\\n",
    "                '--prune-empty'], stdout=f)\n",
    "    except:\n",
    "        print(\"Error: plastimatch failed to convert RTSTRUCT to [roiname].nrrd\", file=f)\n",
    "    print(\"Subject: %s\" % (pt), file=f)\n",
    "    print(\"Datetime stamp : %s\" % (dt), file=f)\n",
    "    f.close()\n",
    "\n",
    "def AXIALCT2NRRD(pt,dt):\n",
    "    # convert contents of CTWorkingDir to NRRD\n",
    "    f = open(os.path.join('./plastimatch','plastimatch_logfile.txt'), \"a\")\n",
    "    try:\n",
    "        subprocess.run(['plastimatch', 'convert',\\\n",
    "              '--input',CTWorkingDir,\\\n",
    "              '--output-img',os.path.join(NRRDWorkingDir,'ct_image.nrrd')], stdout=f)\n",
    "    except:\n",
    "        print(\"Error: plastimatch failed to convert DICOM CT image to ct_image.nrrd\", file=f)\n",
    "    print(\"Subject: %s\" % (pt), file=f)\n",
    "    print(\"Datetime stamp : %s\" % (dt), file=f)\n",
    "    f.close()\n"
   ]
  },
  {
   "cell_type": "markdown",
   "id": "5b55a474",
   "metadata": {},
   "source": [
    "### configure user-dependent settings"
   ]
  },
  {
   "cell_type": "raw",
   "id": "0cca9d3e",
   "metadata": {},
   "source": [
    "- check the url using docker network inspect on the package defaul network, find the web application nginx\n",
    "- the procedure is as follows :\n",
    "- \"docker network ls\" on the command line\n",
    "- find your docker network bridge running all the xnat and python images, eg xnat-docker-compose-master_default\n",
    "- copy the network id on the left hand side\n",
    "- \"docker network inspect [the network id from above]\" on the same command line\n",
    "- scroll down a little and find the docker IP network address of the nginx gateway\n",
    "- record that docker IP address for the step below"
   ]
  },
  {
   "cell_type": "code",
   "execution_count": null,
   "id": "8b7612a8",
   "metadata": {},
   "outputs": [],
   "source": [
    "#------------------------- USER SETTINGS -------------------------------\n",
    "\n",
    "# set up XNAT login credentials here\n",
    "# .......................\n",
    "#xnatUrl = 'https://xnat.bmia.nl'\n",
    "#xnatUser = 'leonardwee'\n",
    "xnatUrl = 'http://xnat-nginx:80'  #change me! e.g. 'http://localhost:8081/'\n",
    "xnatUser = 'admin'  #change me!\n",
    "xnatPass = 'admin'  #change me!\n",
    "xnatProject = 'argos-testbed'  #change me"
   ]
  },
  {
   "cell_type": "markdown",
   "id": "36196b4a",
   "metadata": {
    "jp-MarkdownHeadingCollapsed": true,
    "tags": []
   },
   "source": [
    "### retrieve list of patients and dicom experiments from XNAT project"
   ]
  },
  {
   "cell_type": "code",
   "execution_count": null,
   "id": "95ecbd84",
   "metadata": {
    "scrolled": true
   },
   "outputs": [],
   "source": [
    "with xnat.connect(xnatUrl, user=xnatUser, password=xnatPass) as session:\n",
    "    myProject= session.projects[xnatProject]\n",
    "    mySubjectsList = myProject.subjects.values()\n",
    "    for s in mySubjectsList:\n",
    "        mySubjectID = s.label\n",
    "        mySubject = myProject.subjects[mySubjectID]\n",
    "        myExperimentsList = mySubject.experiments.values()\n",
    "        for e in myExperimentsList:\n",
    "            myExperimentID = e.label\n",
    "            myExperiment = mySubject.experiments[myExperimentID]\n",
    "            print(xnatProject + \"\\t\" + mySubjectID + \"\\t\" + myExperimentID)"
   ]
  },
  {
   "cell_type": "markdown",
   "id": "695511dd",
   "metadata": {},
   "source": [
    "### main section"
   ]
  },
  {
   "cell_type": "code",
   "execution_count": null,
   "id": "397e38d0",
   "metadata": {},
   "outputs": [],
   "source": [
    "XNATdownload = \"./XnatDownload\"\n",
    "CTWorkingDir = \"./CTFolder\"\n",
    "STRUCTWorkingDir = \"./StructFolder\"\n",
    "NRRDWorkingDir = \"./NrrdFolder\"\n",
    "currentResourceLabel = datetime.now().strftime(\"%Y%m%d_%H%M\")\n",
    "#\n",
    "#----------------O-RAW pyradiomics parameters -------------------\n",
    "pyradiomics_params_file = './ParamsSettings/Pyradiomics_ARGOS_test.yaml' #change this to your own params if needed\n",
    "\n",
    "\n",
    "start_time = process_time()\n",
    "\n",
    "# -----------------------------------------------------------\n",
    "with xnat.connect(xnatUrl, user=xnatUser, password=xnatPass) as session:\n",
    "    myProject= session.projects[xnatProject]\n",
    "    mySubjectsList = myProject.subjects.values()\n",
    "    for s in mySubjectsList:\n",
    "        mySubjectID = s.label\n",
    "        mySubject = myProject.subjects[mySubjectID]\n",
    "        myExperimentsList = mySubject.experiments.values()\n",
    "        for e in myExperimentsList:\n",
    "            myExperimentID = e.label\n",
    "            myExperiment = mySubject.experiments[myExperimentID]\n",
    "            cleanup_temp_folder(XNATdownload)\n",
    "            myExperiment.download_dir(XNATdownload)\n",
    "\n",
    "            # initialize dicom DB\n",
    "            dicomDb = DicomDatabase()\n",
    "            dicomDb.parseFolder(XNATdownload)\n",
    "        \n",
    "            # main\n",
    "            for ptid in dicomDb.getPatientIds():\n",
    "                print(\"Processing: %s\" % (ptid)) # get patient by ID\n",
    "                #myChoice = choice(['D','V'],p=[0.8,0.2]) #selects the patient into development subset with prob 0.8\n",
    "                myChoice = 'D' #no splitting into development versus validation\n",
    "                \n",
    "                myPatient = dicomDb.getPatient(ptid)\n",
    "                # loop over RTStructs of this patient\n",
    "                for myStructUID in myPatient.getRTStructs():\n",
    "                    print(\"Starting with RTStruct %s\" % myStructUID)\n",
    "                    # Get RTSTRUCT by SOP Instance UID\n",
    "                    myStruct = myPatient.getRTStruct(myStructUID)\n",
    "                    # Get CT which is referenced by this RTStruct, and is linked to the same patient\n",
    "                    # mind that this can be None, as only a struct, without corresponding CT scan is found\n",
    "                    myCT = myPatient.getCTForRTStruct(myStruct)\n",
    "                \n",
    "                    # clear the working CT/STRUCT folder\n",
    "                    cleanup_temp_folder(CTWorkingDir)\n",
    "                    cleanup_temp_folder(STRUCTWorkingDir)\n",
    "                        \n",
    "                    #only if we have both RTStruct and CT\n",
    "                    if myCT is not None:\n",
    "                        shutil.move(myStruct.getFileLocation(),os.path.join(STRUCTWorkingDir,'struct.dcm')) # move RTSTRUCT file to tmp folder as 'struct.dcm'\n",
    "                        slices = myCT.getSlices()\n",
    "                        for i in range(len(slices)):\n",
    "                            shutil.move(slices[i],os.path.join(CTWorkingDir,str(i)+\".dcm\")) #move CT files to tmp folder as incremental file names\n",
    "                        \n",
    "                        right_now = datetime.now().strftime(\"%d/%m/%Y %H:%M:%S\")\n",
    "                        cleanup_temp_folder(NRRDWorkingDir)\n",
    "                        RTSTRUCT2NRRD(ptid,right_now)\n",
    "                        AXIALCT2NRRD(ptid,right_now)\n",
    "                    \n",
    "                    \n",
    "                    #filter the produced NRRD files for GTV-[0-9] and ct_image\n",
    "                    for fname in glob.glob(NRRDWorkingDir + \"/[Gg][Tt][Vv]-[0-9].nrrd\"):\n",
    "                        print(\"Located GTV file : \"+fname)\n",
    "                        resource_folder = myChoice + '_' + currentResourceLabel\n",
    "                        resource_folder = resource_folder + '_' + fname.split('/')[-1].split(\".\")[0]\n",
    "                        #resource_folder = datetime.now().strftime(\"%Y%m%d_%H%M\")\n",
    "                        try:\n",
    "                            upload_file(session, xnatProject, mySubjectID, myExperimentID, '0', resource_folder, fname)\n",
    "                            #session, project, subject, experiment, assessment, resource, convfile\n",
    "                            print(\"Saved MASK as resource in XNAT under experiment.\")\n",
    "                            print(\"%s;%s;%s;%s;%s\" %(xnatProject,mySubjectID, myExperimentID, resource_folder, fname))\n",
    "                        except:\n",
    "                            print(\"Failed to save MASK to XNAT!\")                            \n",
    "                    \n",
    "                    #NRRD files for CT image - assumed to be only one at a time in NRRDWorkingDir\n",
    "                    for fname in glob.glob(NRRDWorkingDir + \"/ct_image.nrrd\"):\n",
    "                        print(\"Located CT IMAGE file : \"+fname)\n",
    "                        #resource_folder = fname.split('/')[-1].split(\".\")[0]\n",
    "                        resource_folder = myChoice + '_' + currentResourceLabel\n",
    "                        resource_folder = resource_folder + \"_ct_image\"\n",
    "                        try:\n",
    "                            upload_file(session, xnatProject, mySubjectID, myExperimentID, '0', resource_folder, fname)\n",
    "                            print(\"Saved CT_IMAGE as resource in XNAT under experiment.\")\n",
    "                            print(\"%s;%s;%s;%s;%s\" %(xnatProject,mySubjectID, myExperimentID, resource_folder, fname))\n",
    "                        except:\n",
    "                            print(\"Failed to save CT_IMAGE to XNAT!\")\n",
    "                    \n",
    "                    #pyradiomics values possibly useful for comparing GTVs\n",
    "                    #-- comment out the following to skip over\n",
    "                    for fname in glob.glob(NRRDWorkingDir + \"/[Gg][Tt][Vv]-[0-9].nrrd\"):\n",
    "                        ctname = os.path.join(NRRDWorkingDir,'ct_image.nrrd') #assume fixed\n",
    "                        rname = fname.split('/')[-1].split(\".\")[0] + '.csv' #named as GTV-[0-9].csv\n",
    "                        rname = os.path.join(NRRDWorkingDir,rname) #fixes small error with output to csv file\n",
    "                        resource_folder = \"pyr_\" + currentResourceLabel\n",
    "                        resource_folder = resource_folder + '_' + fname.split('/')[-1].split(\".\")[0]\n",
    "                        #run pyradiomics\n",
    "                        subprocess.run(['pyradiomics',ctname, fname,\\\n",
    "                                            '--param',pyradiomics_params_file,\\\n",
    "                                            '-o',rname,'-f','csv'],capture_output=True)\n",
    "                        #append the subject ID and RTSTRUCT SOP instance UID onto pyradiomics CSV file\\n\",\n",
    "                        this = pd.read_csv(rname)\n",
    "                        explicit_structure_name = fname.split('/')[-1].split(\".\")[0] #requested for dicom triples matching\n",
    "                        this.insert(0, \"roi_human_readable_label\", [explicit_structure_name])\n",
    "                        this.insert(0, \"rtstruct_sop_inst_uid\", [myStructUID])\n",
    "                        this.insert(0, \"research_subject_uid\", [ptid])\n",
    "                        this.to_csv(rname, index=False)\n",
    "                        #\n",
    "                        try:\n",
    "                            upload_file(session, xnatProject, mySubjectID, myExperimentID, '0', resource_folder, rname)\n",
    "                        except:\n",
    "                            print(\"--- error processing radiomics! -----\")\n",
    "                    \n",
    "                    #conclude and move onto next subject\n",
    "                    print(\"Done for RTStruct %s of subject %s .... moving on ....\" % (myStructUID, ptid))\n",
    "                    \n",
    "                    #only use the break for the purpose of testing\n",
    "                    #break\n",
    "\n",
    "##### ----------------------------------------------------------------------------\n",
    "\n",
    "stop_time = process_time()\n",
    "print(\"Time elapsed : %s\" % (stop_time-start_time))\n"
   ]
  },
  {
   "cell_type": "code",
   "execution_count": null,
   "id": "8fe92154-5df4-4295-a9bc-807ac0d77be6",
   "metadata": {},
   "outputs": [],
   "source": []
  }
 ],
 "metadata": {
  "kernelspec": {
   "display_name": "Python 3 (ipykernel)",
   "language": "python",
   "name": "python3"
  },
  "language_info": {
   "codemirror_mode": {
    "name": "ipython",
    "version": 3
   },
   "file_extension": ".py",
   "mimetype": "text/x-python",
   "name": "python",
   "nbconvert_exporter": "python",
   "pygments_lexer": "ipython3",
   "version": "3.10.6"
  }
 },
 "nbformat": 4,
 "nbformat_minor": 5
}
