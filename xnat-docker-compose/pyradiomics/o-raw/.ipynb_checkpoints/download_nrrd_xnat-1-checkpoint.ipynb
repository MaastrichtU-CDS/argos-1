{
 "cells": [
  {
   "cell_type": "markdown",
   "id": "0fcc84f5",
   "metadata": {},
   "source": [
    "# Batch download of NRRD from XNAT collection"
   ]
  },
  {
   "cell_type": "code",
   "execution_count": 3,
   "id": "2ab3ecee",
   "metadata": {
    "scrolled": true
   },
   "outputs": [],
   "source": [
    "import os, subprocess, glob\n",
    "import glob\n",
    "import shutil\n",
    "import xnat #needed for reading and writing to/from XNAT"
   ]
  },
  {
   "cell_type": "code",
   "execution_count": 4,
   "id": "46392327",
   "metadata": {},
   "outputs": [],
   "source": [
    "def cleanup_temp_folder(dirt):\n",
    "    if os.path.exists(dirt):\n",
    "        shutil.rmtree(dirt)\n",
    "        os.makedirs(dirt)\n",
    "    if not os.path.exists(dirt):\n",
    "        os.makedirs(dirt)"
   ]
  },
  {
   "cell_type": "code",
   "execution_count": 5,
   "id": "8b7612a8",
   "metadata": {},
   "outputs": [],
   "source": [
    "#------------------------- USER SETTINGS -------------------------------\n",
    "\n",
    "# set up XNAT login credentials here\n",
    "# .......................\n",
    "xnatUrl = 'http://172.19.0.5:80'  #change me! e.g. 'http://localhost:8081/'\n",
    "# - check the url using docker network inspect on the package defaul network, find the web application nginx\n",
    "# - the procedure is\n",
    "# - docker network ls\n",
    "# - find your docker network bridge running all the xnat and python images, eg xnat-docker-compose-master_default\n",
    "# - copy the network id on the left hand side\n",
    "# - docker network inspect [the network id from above]\n",
    "# - scroll down a little and find the docker IP network address of the nginx gateway\n",
    "#\n",
    "#xnatUrl = 'https://xnat.bmia.nl'\n",
    "xnatUser = 'admin'  #change me!\n",
    "#xnatUser = 'leonardwee'\n",
    "xnatPass = 'admin'  #change me!\n",
    "xnatProject = 'argos-testbed'  #change me!\n"
   ]
  },
  {
   "cell_type": "markdown",
   "id": "695511dd",
   "metadata": {},
   "source": [
    "### main section"
   ]
  },
  {
   "cell_type": "code",
   "execution_count": 7,
   "id": "a6925ea1",
   "metadata": {},
   "outputs": [],
   "source": [
    "DevelopmentWorkingDir = './pre-process-TRAIN'\n",
    "ValidationWorkingDir = './pre-process-VALIDATE'\n",
    "DevelopmentSetLabel = 'D_'\n",
    "ValidationSetLabel = 'V_'"
   ]
  },
  {
   "cell_type": "code",
   "execution_count": 8,
   "id": "ed12b677",
   "metadata": {},
   "outputs": [],
   "source": [
    "#CAREFUL - empties the following before filling it up from XNAT\n",
    "cleanup_temp_folder(DevelopmentWorkingDir)\n",
    "cleanup_temp_folder(ValidationWorkingDir)"
   ]
  },
  {
   "cell_type": "code",
   "execution_count": 10,
   "id": "0fc6d14d",
   "metadata": {},
   "outputs": [
    {
     "name": "stderr",
     "output_type": "stream",
     "text": [
      "[WARNING] Detected a redirect from http://172.19.0.5:80 to http://172.19.0.5/, using http://172.19.0.5/ from now on\n",
      "100% of  33.6 KiB |################################|   9.3 MiB/s Time:  0:00:00\n"
     ]
    },
    {
     "name": "stdout",
     "output_type": "stream",
     "text": [
      "Downloaded : ./pre-process-TRAIN/LUNG1-002/GT/GTV-1.nrrd\n"
     ]
    },
    {
     "name": "stderr",
     "output_type": "stream",
     "text": [
      "100% of  30.5 MiB |################################|   2.4 MiB/s Time:  0:00:09\n"
     ]
    },
    {
     "name": "stdout",
     "output_type": "stream",
     "text": [
      "Downloaded : ./pre-process-TRAIN/LUNG1-002/CT/ct_image.nrrd\n"
     ]
    },
    {
     "name": "stderr",
     "output_type": "stream",
     "text": [
      "100% of  29.6 KiB |################################|   1.5 MiB/s Time:  0:00:00\n"
     ]
    },
    {
     "name": "stdout",
     "output_type": "stream",
     "text": [
      "Downloaded : ./pre-process-TRAIN/LUNG4-009/GT/GTV-1.nrrd\n"
     ]
    },
    {
     "name": "stderr",
     "output_type": "stream",
     "text": [
      "100% of  24.8 MiB |################################|   2.7 MiB/s Time:  0:00:09\n"
     ]
    },
    {
     "name": "stdout",
     "output_type": "stream",
     "text": [
      "Downloaded : ./pre-process-TRAIN/LUNG4-009/CT/ct_image.nrrd\n"
     ]
    },
    {
     "name": "stderr",
     "output_type": "stream",
     "text": [
      "100% of  35.4 KiB |################################|   2.1 MiB/s Time:  0:00:00\n"
     ]
    },
    {
     "name": "stdout",
     "output_type": "stream",
     "text": [
      "Downloaded : ./pre-process-TRAIN/LUNG4-001/GT/GTV-1.nrrd\n"
     ]
    },
    {
     "name": "stderr",
     "output_type": "stream",
     "text": [
      "100% of  31.6 MiB |################################|   2.7 MiB/s Time:  0:00:11\n"
     ]
    },
    {
     "name": "stdout",
     "output_type": "stream",
     "text": [
      "Downloaded : ./pre-process-TRAIN/LUNG4-001/CT/ct_image.nrrd\n"
     ]
    },
    {
     "name": "stderr",
     "output_type": "stream",
     "text": [
      "100% of  32.4 KiB |################################|   1.9 MiB/s Time:  0:00:00\n"
     ]
    },
    {
     "name": "stdout",
     "output_type": "stream",
     "text": [
      "Downloaded : ./pre-process-TRAIN/LUNG4-006/GT/GTV-1.nrrd\n"
     ]
    },
    {
     "name": "stderr",
     "output_type": "stream",
     "text": [
      "100% of  29.1 MiB |################################|   2.4 MiB/s Time:  0:00:11\n"
     ]
    },
    {
     "name": "stdout",
     "output_type": "stream",
     "text": [
      "Downloaded : ./pre-process-TRAIN/LUNG4-006/CT/ct_image.nrrd\n"
     ]
    },
    {
     "name": "stderr",
     "output_type": "stream",
     "text": [
      "100% of  43.3 KiB |################################|   3.7 MiB/s Time:  0:00:00\n"
     ]
    },
    {
     "name": "stdout",
     "output_type": "stream",
     "text": [
      "Downloaded : ./pre-process-TRAIN/LUNG4-008/GT/GTV-1.nrrd\n"
     ]
    },
    {
     "name": "stderr",
     "output_type": "stream",
     "text": [
      "100% of  44.2 MiB |################################|   2.6 MiB/s Time:  0:00:17\n"
     ]
    },
    {
     "name": "stdout",
     "output_type": "stream",
     "text": [
      "Downloaded : ./pre-process-TRAIN/LUNG4-008/CT/ct_image.nrrd\n"
     ]
    },
    {
     "name": "stderr",
     "output_type": "stream",
     "text": [
      "100% of  37.5 KiB |################################|   2.1 MiB/s Time:  0:00:00\n"
     ]
    },
    {
     "name": "stdout",
     "output_type": "stream",
     "text": [
      "Downloaded : ./pre-process-TRAIN/LUNG4-003/GT/GTV-1.nrrd\n"
     ]
    },
    {
     "name": "stderr",
     "output_type": "stream",
     "text": [
      "100% of  26.8 MiB |################################|   2.4 MiB/s Time:  0:00:10\n"
     ]
    },
    {
     "name": "stdout",
     "output_type": "stream",
     "text": [
      "Downloaded : ./pre-process-TRAIN/LUNG4-003/CT/ct_image.nrrd\n"
     ]
    },
    {
     "name": "stderr",
     "output_type": "stream",
     "text": [
      "100% of  36.0 KiB |################################|   1.7 MiB/s Time:  0:00:00\n"
     ]
    },
    {
     "name": "stdout",
     "output_type": "stream",
     "text": [
      "Downloaded : ./pre-process-TRAIN/LUNG4-007/GT/GTV-1.nrrd\n"
     ]
    },
    {
     "name": "stderr",
     "output_type": "stream",
     "text": [
      "100% of  32.4 MiB |################################|   2.5 MiB/s Time:  0:00:11\n"
     ]
    },
    {
     "name": "stdout",
     "output_type": "stream",
     "text": [
      "Downloaded : ./pre-process-TRAIN/LUNG4-007/CT/ct_image.nrrd\n"
     ]
    }
   ],
   "source": [
    "# -----------------------------------------------------------\n",
    "with xnat.connect(xnatUrl, user=xnatUser, password=xnatPass) as session:\n",
    "    myProject = session.projects[xnatProject]\n",
    "    mySubjectsList = myProject.subjects.values()\n",
    "    for s in mySubjectsList:\n",
    "            mySubjectID = s.label\n",
    "            mySubject = myProject.subjects[mySubjectID]\n",
    "            myExperimentsList = mySubject.experiments.values()\n",
    "            for e in myExperimentsList:\n",
    "                myExperimentID = e.label\n",
    "                myExperiment = mySubject.experiments[myExperimentID]\n",
    "                myResourcesList = myExperiment.resources.values()\n",
    "                for r in myResourcesList:\n",
    "                    myResourceID = r.label\n",
    "                    myResource = myExperiment.resources[myResourceID]\n",
    "                    if (myResourceID.startswith(DevelopmentSetLabel)):\n",
    "                        destination = DevelopmentWorkingDir\n",
    "                    elif (myResourceID.startswith(ValidationSetLabel)):\n",
    "                        destination = ValidationWorkingDir\n",
    "                    for i in range(len(myResource.files)):\n",
    "                        myFile = myResource.files[i].data['Name']\n",
    "                        destination = os.path.join(destination,mySubjectID)\n",
    "                        if myFile.startswith('ct'):\n",
    "                            destination = os.path.join(destination,'CT')\n",
    "                        if myFile.startswith('GTV'):\n",
    "                            destination = os.path.join(destination,'GT')\n",
    "                        try:\n",
    "                            cleanup_temp_folder(destination)\n",
    "                            myResource.files[0].download(os.path.join(destination,myFile))\n",
    "                            print('Downloaded : ' + os.path.join(destination,myFile))\n",
    "                        except:\n",
    "                            print('FAILURE - could not download ' + os.path.join(destination,myFile) + ' ....')"
   ]
  },
  {
   "cell_type": "code",
   "execution_count": null,
   "id": "b25b34b7",
   "metadata": {},
   "outputs": [],
   "source": []
  }
 ],
 "metadata": {
  "kernelspec": {
   "display_name": "Python 3 (ipykernel)",
   "language": "python",
   "name": "python3"
  },
  "language_info": {
   "codemirror_mode": {
    "name": "ipython",
    "version": 3
   },
   "file_extension": ".py",
   "mimetype": "text/x-python",
   "name": "python",
   "nbconvert_exporter": "python",
   "pygments_lexer": "ipython3",
   "version": "3.9.7"
  }
 },
 "nbformat": 4,
 "nbformat_minor": 5
}
