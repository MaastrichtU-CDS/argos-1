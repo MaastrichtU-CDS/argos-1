{
 "cells": [
  {
   "cell_type": "markdown",
   "id": "0fcc84f5",
   "metadata": {},
   "source": [
    "# O-RAW integration with XNAT collection"
   ]
  },
  {
   "cell_type": "markdown",
   "id": "ff1cc700",
   "metadata": {},
   "source": [
    "Using Zhenwei Shi's original O-RAW extension, build an integration with XNAT to read the contents of an XNAT Project and process them using pyradiomics, with the feature extraction settings given in a yaml file."
   ]
  },
  {
   "cell_type": "markdown",
   "id": "df2d2522",
   "metadata": {},
   "source": [
    "### import necessary components"
   ]
  },
  {
   "cell_type": "code",
   "execution_count": 1,
   "id": "2ab3ecee",
   "metadata": {},
   "outputs": [],
   "source": [
    "###############################\n",
    "#@author: zhenwei.shi, Maastro#\n",
    "###############################\n",
    "#\n",
    "#ORAW modifications and integrations with XNAT by Leonard Wee July 2021\n",
    "\n",
    "from __future__ import print_function\n",
    "\n",
    "from time import process_time\n",
    "import os,yaml\n",
    "import ORAW\n",
    "import glob\n",
    "import shutil\n",
    "import pandas as pd\n",
    "import xnat\n",
    "from DicomDatabase import DicomDatabase\n",
    "from datetime import date"
   ]
  },
  {
   "cell_type": "markdown",
   "id": "c83d00c2",
   "metadata": {},
   "source": [
    "### define an upload file operation"
   ]
  },
  {
   "cell_type": "code",
   "execution_count": 2,
   "id": "f1bb1b4f",
   "metadata": {},
   "outputs": [],
   "source": [
    "def upload_file(session, project, subject, experiment, assessment, resource, csvfile):\n",
    "    xnat_project = session.projects[project]\n",
    "    xnat_subject = session.classes.SubjectData(parent=xnat_project, label=subject)\n",
    "    xnat_experiment = session.classes.CtSessionData(parent=xnat_subject, label=experiment)\n",
    "    xnat_resource = session.classes.ResourceCatalog(parent=xnat_experiment, label=resource)\n",
    "    #xnat_assessment = session.classes.QcAssessmentData(parent=xnat_experiment, label=assessment) #not used\n",
    "    #xnat_resource = session.classes.ResourceCatalog(parent=xnat_assessment, label=resource) #resource under experiment instead\n",
    "    xnat_resource.upload(csvfile, os.path.basename(csvfile)) # upload\n",
    "#    for file_ in data:\n",
    "#        resource.upload(file_, os.path.basename(file_))\n",
    "#    pass"
   ]
  },
  {
   "cell_type": "markdown",
   "id": "5b55a474",
   "metadata": {},
   "source": [
    "### configure user-dependent settings"
   ]
  },
  {
   "cell_type": "code",
   "execution_count": 5,
   "id": "8b7612a8",
   "metadata": {},
   "outputs": [],
   "source": [
    "#------------------------- USER SETTINGS -------------------------------\n",
    "\n",
    "# set up XNAT login credentials here\n",
    "# .......................\n",
    "xnatUrl = 'http://172.19.0.5:80'  #change me! e.g. 'http://localhost:8081/'\n",
    "#xnatUrl = 'https://xnat.bmia.nl'\n",
    "xnatUser = 'admin'  #change me!\n",
    "#xnatUser = 'leonardwee'\n",
    "xnatPass = 'admin'  #change me!\n",
    "xnatProject = 'oraw-plastimatch-test'  #change me!\n",
    "\n",
    "#----------------O-RAW initial parameters -------------------\n",
    "roi = '[Gg][Tt][Vv]' #change me - to process every structure say 'all'\n",
    "export_format = 'csv'\n",
    "# export_format = 'rdf' #warn : not yet tested by Leonard\n",
    "export_name = 'oraw'\n",
    "#walk_dir = './demo_data/CT' #not used in XNAT mode"
   ]
  },
  {
   "cell_type": "markdown",
   "id": "36196b4a",
   "metadata": {},
   "source": [
    "### retrieve list of patients and dicom experiments from XNAT project"
   ]
  },
  {
   "cell_type": "code",
   "execution_count": 6,
   "id": "95ecbd84",
   "metadata": {},
   "outputs": [
    {
     "name": "stderr",
     "output_type": "stream",
     "text": [
      "[WARNING] Found an unsupported version (1.8.2), trying 1.7 compatible model builder\n"
     ]
    },
    {
     "name": "stdout",
     "output_type": "stream",
     "text": [
      "oraw-plastimatch-test\tLUNG1-002\tLUNG1-002\n"
     ]
    }
   ],
   "source": [
    "with xnat.connect(xnatUrl, user=xnatUser, password=xnatPass) as session:\n",
    "    myProject= session.projects[xnatProject]\n",
    "    mySubjectsList = myProject.subjects.values()\n",
    "    for s in mySubjectsList:\n",
    "        mySubjectID = s.label\n",
    "        mySubject = myProject.subjects[mySubjectID]\n",
    "        myExperimentsList = mySubject.experiments.values()\n",
    "        for e in myExperimentsList:\n",
    "            myExperimentID = e.label\n",
    "            myExperiment = mySubject.experiments[myExperimentID]\n",
    "            print(xnatProject + \"\\t\" + mySubjectID + \"\\t\" + myExperimentID)"
   ]
  },
  {
   "cell_type": "markdown",
   "id": "695511dd",
   "metadata": {},
   "source": [
    "### main section"
   ]
  },
  {
   "cell_type": "code",
   "execution_count": null,
   "id": "5942a6fb",
   "metadata": {},
   "outputs": [],
   "source": [
    "#-----------------create tmp CT/STRUCT directories-----------\n",
    "CTWorkingDir = \"./CTFolder\"\n",
    "STRUCTWorkingDir = \"./StructFolder\"\n",
    "XNATdownload = \"./XnatDownload\"\n",
    "\n",
    "if os.path.exists(CTWorkingDir):\n",
    "  shutil.rmtree(CTWorkingDir)\n",
    "if os.path.exists(STRUCTWorkingDir):\n",
    "  shutil.rmtree(STRUCTWorkingDir)\n",
    "if os.path.exists(XNATdownload):\n",
    "  shutil.rmtree(XNATdownload)\n",
    "\n",
    "if not os.path.exists(CTWorkingDir):\n",
    "  os.makedirs(CTWorkingDir)\n",
    "if not os.path.exists(STRUCTWorkingDir):\n",
    "  os.makedirs(STRUCTWorkingDir)\n",
    "if not os.path.exists(XNATdownload):\n",
    "  os.makedirs(XNATdownload)\n",
    "\n",
    "start_time = process_time()\n",
    "\n",
    "#-----------------exclusion ROIs-----------\n",
    "excludeStructRegex = \"(Patient.*|BODY.*|Body.*|NS.*|Couch.*)\"\n",
    "if os.environ.get(\"EXCLUDE_STRUCTURE_REGEX\") is not None:\n",
    "    excludeStructRegex = os.environ.get(\"EXCLUDE_STRUCTURE_REGEX\")\n",
    "\n",
    "# ---------------output formats----------------------\n",
    "if export_format == 'rdf':\n",
    "    exportDir = './RFstore/Turtle_output' # export format is RDF\n",
    "else:\n",
    "    exportDir = './RFstore/CSV_output' # export format is CSV\n",
    "\n",
    "# -----------------------------------------------------------\n",
    "with xnat.connect(xnatUrl, user=xnatUser, password=xnatPass) as session:\n",
    "    myProject= session.projects[xnatProject]\n",
    "    mySubjectsList = myProject.subjects.values()\n",
    "    for s in mySubjectsList:\n",
    "        mySubjectID = s.label\n",
    "        mySubject = myProject.subjects[mySubjectID]\n",
    "        myExperimentsList = mySubject.experiments.values()\n",
    "        for e in myExperimentsList:\n",
    "            myExperimentID = e.label\n",
    "            myExperiment = mySubject.experiments[myExperimentID]\n",
    "            myExperiment.download_dir(XNATdownload)\n",
    "            \n",
    "            # initialize dicom DB\n",
    "            dicomDb = DicomDatabase()\n",
    "            dicomDb.parseFolder(XNATdownload)\n",
    "        \n",
    "            # main\n",
    "            for ptid in dicomDb.getPatientIds():\n",
    "                print(\"Processing: %s\" % (ptid)) # get patient by ID\n",
    "                myPatient = dicomDb.getPatient(ptid)\n",
    "                # loop over RTStructs of this patient\n",
    "                for myStructUID in myPatient.getRTStructs():\n",
    "                    print(\"Starting with RTStruct %s\" % myStructUID)\n",
    "                    # Get RTSTRUCT by SOP Instance UID\n",
    "                    myStruct = myPatient.getRTStruct(myStructUID)\n",
    "                    # Get CT which is referenced by this RTStruct, and is linked to the same patient\n",
    "                    # mind that this can be None, as only a struct, without corresponding CT scan is found\n",
    "                    myCT = myPatient.getCTForRTStruct(myStruct)\n",
    "                \n",
    "                    # clear the working CT/STRUCT folder\n",
    "                    if not (os.listdir(CTWorkingDir)==[] and os.listdir(STRUCTWorkingDir)==[]):\n",
    "                        ct_files = glob.glob(os.path.join(CTWorkingDir,'*'))\n",
    "                        for f in ct_files:\n",
    "                            os.remove(f)\n",
    "                        struct_files = glob.glob(os.path.join(STRUCTWorkingDir,'*'))\n",
    "                        for f in struct_files:\n",
    "                            os.remove(f)\n",
    "                        \n",
    "                    #only if we have both RTStruct and CT\n",
    "                    if myCT is not None:\n",
    "                        shutil.move(myStruct.getFileLocation(),os.path.join(STRUCTWorkingDir,'struct.dcm')) # move RTSTRUCT file to tmp folder as 'struct.dcm'\n",
    "                        slices = myCT.getSlices()\n",
    "                        for i in range(len(slices)):\n",
    "                            shutil.move(slices[i],os.path.join(CTWorkingDir,str(i)+\".dcm\"))\n",
    "                        if roi == 'all':\n",
    "                            ORAW.executeORAWbatch_all([ptid],roi,myStructUID,exportDir,export_format,export_name,[CTWorkingDir],[STRUCTWorkingDir],excludeStructRegex)\n",
    "                        else:\n",
    "                            ORAW.executeORAWbatch_roi([ptid],roi,myStructUID,exportDir,export_format,export_name,[CTWorkingDir],[STRUCTWorkingDir],excludeStructRegex)\n",
    "                    \n",
    "                    #upload the generated object back into XNAT\n",
    "                    resource_folder = export_name + '_' + date.today().strftime(\"%Y%m%d\")\n",
    "                    if export_format == 'rdf':\n",
    "                        myFile = exportDir + '/' + ptid + '.ttl' # export format is RDF\n",
    "                    else:\n",
    "                        myFile = exportDir + '/' + ptid + '.csv' # export format is CSV\n",
    "                    try:\n",
    "                        upload_file(session, xnatProject, mySubjectID, myExperimentID, '0', resource_folder, myFile)\n",
    "                        print(\"O-RAW output save as resource in XNAT under experiment.\")\n",
    "                        os.remove(f)\n",
    "                    except:\n",
    "                        print(\"O-RAW output failed to upload to XNAT!\")\n",
    "                    \n",
    "                    #conclude and move onto next subject\n",
    "                    print(\"Done for RTStruct %s of subject %s\" % (myStructUID, ptid))\n",
    "##### ----------------------------------------------------------------------------\n",
    "\n",
    "stop_time = process_time()\n",
    "\n",
    "#cleanup\n",
    "shutil.rmtree(CTWorkingDir)\n",
    "shutil.rmtree(STRUCTWorkingDir)\n",
    "shutil.rmtree(XNATdownload)\n"
   ]
  },
  {
   "cell_type": "code",
   "execution_count": null,
   "id": "f5c13515",
   "metadata": {},
   "outputs": [],
   "source": []
  }
 ],
 "metadata": {
  "kernelspec": {
   "display_name": "Python 3 (ipykernel)",
   "language": "python",
   "name": "python3"
  },
  "language_info": {
   "codemirror_mode": {
    "name": "ipython",
    "version": 3
   },
   "file_extension": ".py",
   "mimetype": "text/x-python",
   "name": "python",
   "nbconvert_exporter": "python",
   "pygments_lexer": "ipython3",
   "version": "3.9.6"
  }
 },
 "nbformat": 4,
 "nbformat_minor": 5
}
