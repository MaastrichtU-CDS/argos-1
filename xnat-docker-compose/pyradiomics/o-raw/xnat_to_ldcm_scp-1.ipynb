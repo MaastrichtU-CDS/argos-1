{
 "cells": [
  {
   "cell_type": "markdown",
   "id": "0fcc84f5",
   "metadata": {
    "tags": []
   },
   "source": [
    "# Process DICOM from XNAT to Linked Dicom TTL"
   ]
  },
  {
   "cell_type": "raw",
   "id": "5ea30128",
   "metadata": {},
   "source": [
    "By : Leonard Wee (postdoc), Tianchen Luo (intern) and Zhenwei Shi (PhD graduate)\n",
    "Thanks to : Johan van Soest (dicomdb function) and Hakim Achterberg (xnat api library)"
   ]
  },
  {
   "cell_type": "markdown",
   "id": "df2d2522",
   "metadata": {},
   "source": [
    "### import necessary components"
   ]
  },
  {
   "cell_type": "code",
   "execution_count": 1,
   "id": "2ab3ecee",
   "metadata": {
    "scrolled": true
   },
   "outputs": [],
   "source": [
    "#ORAW modifications and integrations with XNAT by Leonard Wee during Oct -> Dec 2021\n",
    "\n",
    "from __future__ import print_function\n",
    "\n",
    "from time import process_time\n",
    "import os\n",
    "import subprocess\n",
    "import glob\n",
    "import shutil\n",
    "import pandas as pd\n",
    "from datetime import date, datetime\n",
    "from numpy.random import choice\n",
    "\n",
    "import xnat #needed for reading and writing to/from XNAT\n",
    "from DicomDatabase import DicomDatabase # dicom indexer by Johan van Soest\n",
    "\n",
    "import LinkedDicom"
   ]
  },
  {
   "cell_type": "markdown",
   "id": "c83d00c2",
   "metadata": {},
   "source": [
    "### define needed operations"
   ]
  },
  {
   "cell_type": "code",
   "execution_count": 2,
   "id": "46392327",
   "metadata": {},
   "outputs": [],
   "source": [
    "def upload_file(session, project, subject, experiment, assessment, resource, convfile):\n",
    "    xnat_project = session.projects[project]\n",
    "    xnat_subject = session.classes.SubjectData(parent=xnat_project, label=subject)\n",
    "    xnat_experiment = session.classes.CtSessionData(parent=xnat_subject, label=experiment)\n",
    "    xnat_resource = session.classes.ResourceCatalog(parent=xnat_experiment, label=resource)\n",
    "    #xnat_assessment = session.classes.QcAssessmentData(parent=xnat_experiment, label=assessment) #not used\n",
    "    #xnat_resource = session.classes.ResourceCatalog(parent=xnat_assessment, label=resource) #resource under experiment instead\n",
    "    xnat_resource.upload(convfile, os.path.basename(convfile)) # upload\n",
    "#    for file_ in data:\n",
    "#        resource.upload(file_, os.path.basename(file_))\n",
    "#    pass\n",
    "\n",
    "\n",
    "def cleanup_temp_folder(dirt):\n",
    "    if os.path.exists(dirt):\n",
    "        shutil.rmtree(dirt)\n",
    "        os.makedirs(dirt)\n",
    "    if not os.path.exists(dirt):\n",
    "        os.makedirs(dirt)"
   ]
  },
  {
   "cell_type": "markdown",
   "id": "5b55a474",
   "metadata": {},
   "source": [
    "### MANDATORY : configure user-dependent settings"
   ]
  },
  {
   "cell_type": "raw",
   "id": "0cca9d3e",
   "metadata": {},
   "source": [
    "- check the url using docker network inspect on the package defaul network, find the web application nginx\n",
    "- the procedure is as follows :\n",
    "- \"docker network ls\" on the command line\n",
    "- find your docker network bridge running all the xnat and python images, eg xnat-docker-compose-master_default\n",
    "- copy the network id on the left hand side\n",
    "- \"docker network inspect [the network id from above]\" on the same command line\n",
    "- scroll down a little and find the docker IP network address of the nginx gateway\n",
    "- record that docker IP address for the step below"
   ]
  },
  {
   "cell_type": "code",
   "execution_count": 3,
   "id": "8b7612a8",
   "metadata": {},
   "outputs": [],
   "source": [
    "#------------------------- USER SETTINGS -------------------------------\n",
    "\n",
    "# set up XNAT login credentials here\n",
    "# .......................\n",
    "#xnatUrl = 'https://xnat.bmia.nl'\n",
    "#xnatUser = 'leonardwee'\n",
    "xnatUrl = 'http://xnat-nginx:80'  #change me! e.g. 'http://localhost:8081/'\n",
    "xnatUser = 'admin'  #change me!\n",
    "xnatPass = 'admin'  #change me!\n",
    "xnatProject = 'argos-testbed'  #change me\n",
    "\n",
    "## NB : This is REQUIRED to initiate a Linked Dicom SCP to send the output triples to the graph database\n",
    "#subprocess.call(['ldcm-scp', '-s', 'http://rdf-store:7200/repositories/userRepo/statements', '104']) #change third argument to your own graph database API"
   ]
  },
  {
   "cell_type": "markdown",
   "id": "36196b4a",
   "metadata": {
    "tags": []
   },
   "source": [
    "### Optional : retrieve list of patients and dicom experiments from XNAT project"
   ]
  },
  {
   "cell_type": "code",
   "execution_count": 5,
   "id": "95ecbd84",
   "metadata": {
    "scrolled": true
   },
   "outputs": [
    {
     "name": "stderr",
     "output_type": "stream",
     "text": [
      "[WARNING] Detected a redirect from http://xnat-nginx:80 to http://xnat-nginx/, using http://xnat-nginx/ from now on\n"
     ]
    },
    {
     "name": "stdout",
     "output_type": "stream",
     "text": [
      "argos-testbed\tLUNG1-001\tLUNG1-001\n",
      "argos-testbed\tLUNG1-002\tLUNG1-002\n",
      "argos-testbed\tLUNG1-003\tLUNG1-003\n"
     ]
    }
   ],
   "source": [
    "with xnat.connect(xnatUrl, user=xnatUser, password=xnatPass) as session:\n",
    "    myProject= session.projects[xnatProject]\n",
    "    mySubjectsList = myProject.subjects.values()\n",
    "    for s in mySubjectsList:\n",
    "        mySubjectID = s.label\n",
    "        mySubject = myProject.subjects[mySubjectID]\n",
    "        myExperimentsList = mySubject.experiments.values()\n",
    "        for e in myExperimentsList:\n",
    "            myExperimentID = e.label\n",
    "            myExperiment = mySubject.experiments[myExperimentID]\n",
    "            print(xnatProject + \"\\t\" + mySubjectID + \"\\t\" + myExperimentID)"
   ]
  },
  {
   "cell_type": "markdown",
   "id": "695511dd",
   "metadata": {},
   "source": [
    "### main section"
   ]
  },
  {
   "cell_type": "code",
   "execution_count": 6,
   "id": "397e38d0",
   "metadata": {},
   "outputs": [
    {
     "name": "stderr",
     "output_type": "stream",
     "text": [
      "[WARNING] Detected a redirect from http://xnat-nginx:80 to http://xnat-nginx/, using http://xnat-nginx/ from now on\n",
      " 68.7 MiB |                                                #      |   2.6 MiB/s\n"
     ]
    },
    {
     "name": "stdout",
     "output_type": "stream",
     "text": [
      "XNAT object downloaded, subject LUNG1-001\n",
      "Processing LUNG1-001 in Linked Dicom please WAIT ....\n",
      "Start processing folder ./XNATDownload. Depending on the folder size this might take a while.\n",
      "Stored results in ./XNATDownload/linkeddicom.ttl\n",
      "OK, commencing with next subject in XNAT ....\n"
     ]
    },
    {
     "name": "stderr",
     "output_type": "stream",
     "text": [
      " 57.4 MiB |                                                      #|  39.1 KiB/s\n"
     ]
    },
    {
     "name": "stdout",
     "output_type": "stream",
     "text": [
      "XNAT object downloaded, subject LUNG1-002\n",
      "Processing LUNG1-002 in Linked Dicom please WAIT ....\n",
      "Start processing folder ./XNATDownload. Depending on the folder size this might take a while.\n",
      "Stored results in ./XNATDownload/linkeddicom.ttl\n",
      "OK, commencing with next subject in XNAT ....\n"
     ]
    },
    {
     "name": "stderr",
     "output_type": "stream",
     "text": [
      " 55.2 MiB |               #                                       |   1.5 MiB/s\n"
     ]
    },
    {
     "name": "stdout",
     "output_type": "stream",
     "text": [
      "XNAT object downloaded, subject LUNG1-003\n",
      "Processing LUNG1-003 in Linked Dicom please WAIT ....\n",
      "Start processing folder ./XNATDownload. Depending on the folder size this might take a while.\n",
      "Stored results in ./XNATDownload/linkeddicom.ttl\n",
      "OK, commencing with next subject in XNAT ....\n",
      "DONE with processing subjects in XNAT!\n",
      "Total time elapsed : 108.57964350000003\n"
     ]
    }
   ],
   "source": [
    "XNATdownload = \"./XnatDownload\"\n",
    "RFpath = \"./RFStore/RDF_output\"\n",
    "\n",
    "currentResourceLabel = datetime.now().strftime(\"%Y%m%d_%H%M\")\n",
    "\n",
    "start_time = process_time()\n",
    "\n",
    "cleanup_temp_folder(XNATdownload) #clears folder if exists, create new if not exist\n",
    "\n",
    "# -----------------------------------------------------------\n",
    "with xnat.connect(xnatUrl, user=xnatUser, password=xnatPass) as session:\n",
    "    myProject= session.projects[xnatProject]\n",
    "    mySubjectsList = myProject.subjects.values()\n",
    "    for s in mySubjectsList:\n",
    "        mySubjectID = s.label\n",
    "        mySubject = myProject.subjects[mySubjectID]\n",
    "        myExperimentsList = mySubject.experiments.values()\n",
    "        for e in myExperimentsList:\n",
    "            myExperimentID = e.label\n",
    "            myExperiment = mySubject.experiments[myExperimentID]\n",
    "            myExperiment.download_dir(XNATdownload)\n",
    "            print(\"XNAT object downloaded, subject %s\" % mySubjectID)\n",
    "            ###\n",
    "            print(\"Processing %s in Linked Dicom please WAIT ....\" % mySubjectID)\n",
    "            ### -------------- this is for printing out an instance of TTLs to a file; comment out if not required\n",
    "            subprocess.call(['ldcm-parse','./XNATDownload']) #this directs the contents of this folder to LinkedDicom service\n",
    "            destination = os.path.join(RFpath,mySubjectID + \"_ldcm.ttl\")\n",
    "            try:\n",
    "                shutil.move('./XNATDownload/linkeddicom.ttl',destination) \n",
    "            except:\n",
    "                print(\"Error - shutil was unable to move the linkeddicom.ttl output file from Linked Dicom\")\n",
    "            ###\n",
    "            ### -------------- this is for routing the output TTLs into a graph database; comment out if not required\n",
    "            subprocess.call(['storescu', '+r', '+sd', '+sp', '*.dcm', 'localhost', '104', './XNATDownload'])\n",
    "            ###\n",
    "            print(\"OK, commencing with next subject in XNAT ....\")\n",
    "##### ----------------------------------------------------------------------------\n",
    "\n",
    "stop_time = process_time()\n",
    "print(\"DONE with processing subjects in XNAT!\")\n",
    "print(\"Total time elapsed : %s\" % (stop_time-start_time))\n"
   ]
  },
  {
   "cell_type": "code",
   "execution_count": null,
   "id": "4a7ee3c5-03f3-4175-9759-c6509ea7f117",
   "metadata": {},
   "outputs": [],
   "source": []
  }
 ],
 "metadata": {
  "kernelspec": {
   "display_name": "Python 3 (ipykernel)",
   "language": "python",
   "name": "python3"
  },
  "language_info": {
   "codemirror_mode": {
    "name": "ipython",
    "version": 3
   },
   "file_extension": ".py",
   "mimetype": "text/x-python",
   "name": "python",
   "nbconvert_exporter": "python",
   "pygments_lexer": "ipython3",
   "version": "3.10.6"
  }
 },
 "nbformat": 4,
 "nbformat_minor": 5
}
